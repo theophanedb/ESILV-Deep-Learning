{
  "nbformat": 4,
  "nbformat_minor": 0,
  "metadata": {
    "colab": {
      "name": "flavien_charron_week4.ipynb",
      "provenance": [],
      "collapsed_sections": [
        "S2EJJBtkxIFY",
        "CrU_gW_OxKVJ"
      ]
    },
    "kernelspec": {
      "name": "python3",
      "display_name": "Python 3"
    },
    "language_info": {
      "name": "python"
    }
  },
  "cells": [
    {
      "cell_type": "markdown",
      "source": [
        "<h1 align=\"center\">Regularization</h1>\n",
        "\n",
        "In order to understand backpropagation, you will implement a backpropagation algorithm for a neural network from scratch.    \n",
        "Backpropagation can be used for both classification and regression problems, we will focus on classification in this exercise."
      ],
      "metadata": {
        "id": "Ux7g7WsEX81J"
      }
    },
    {
      "cell_type": "markdown",
      "source": [
        "## *Table of Contents*\n",
        "\n",
        "- [Requirements](#requirements)\n",
        "- [Overfitting and Underfitting](#overfitting_and_underfitting)\n",
        "  - [Exercice 1](#exercice1)\n",
        "  - [Exercice 2](#exercice2)\n",
        "  - [Exercice 3](#exercice3)\n",
        "  - [Exercice 4](#exercice4)\n",
        "  - [Exercice 5](#exercice5)\n",
        "  - [Exercice 6](#exercice6)\n",
        "  - [Exercice 7](#exercice7)\n",
        "  - [Exercice 8](#exercice8)\n",
        "  - [Exercice 9](#exercice9)\n",
        "  - [Exercice 10](#exercice10)\n",
        "  - [Exercice 11](#exercice11)\n",
        "- [Weight regularization](#weight_regularization)\n",
        "  - [Exercice 12](#exercice12)\n",
        "  - [Exercice 13](#exercice13)\n",
        "  - [Exercice 14](#exercice14)\n",
        "- [Adding Dropout](#adding_dropout)\n",
        "  - [Exercice 15](#exercice15)\n",
        "  - [Exercice 16](#exercice16)\n",
        "  - [Exercice 17](#exercice17)\n",
        "- [House Price DataSet](#house_price_dataSet)\n",
        "  - [Exercice 1](#house-exercice1)\n",
        "  - [Exercice 2](#house-exercice2)\n",
        "  - [Exercice 3](#house-exercice3)\n",
        "  - [Exercice 4](#house-exercice4)\n",
        "  - [Exercice 5](#house-exercice5)\n",
        "  - [Exercice 6](#house-exercice6)\n",
        "  - [Exercice 7](#house-exercice7)\n",
        "  - [Exercice 8](#house-exercice8)\n",
        "  - [Exercice 9](#house-exercice9)\n",
        "  - [Exercice 10](#house-exercice10)\n"
      ],
      "metadata": {
        "id": "ibVgWr0mtRoN"
      }
    },
    {
      "cell_type": "markdown",
      "source": [
        "<a name=\"requirements\">\n",
        "\n",
        "## Requirements"
      ],
      "metadata": {
        "id": "rBvS1uvJtS-u"
      }
    },
    {
      "cell_type": "code",
      "source": [
        "import numpy as np\n",
        "import matplotlib.pyplot as plt\n",
        "\n",
        "import tensorflow as tf\n",
        "from tensorflow import keras\n",
        "from tensorflow.keras.datasets import imdb,boston_housing\n",
        "\n",
        "try:\n",
        "  %tensorflow_version 2.x\n",
        "except Exception:\n",
        "  pass"
      ],
      "metadata": {
        "id": "tx0RdPAD0K08"
      },
      "execution_count": null,
      "outputs": []
    },
    {
      "cell_type": "markdown",
      "source": [
        "<a name=\"overfitting_and_underfitting\">\n",
        "\n",
        "## Overfitting and Underfitting"
      ],
      "metadata": {
        "id": "uDv7BMYo3Io7"
      }
    },
    {
      "cell_type": "markdown",
      "source": [
        "<a name=\"exercice1\">\n",
        "\n",
        "### Exercice 1\n",
        "Load IMDB dataset from Keras with maximum number of num words =\n",
        "10000 to include.   \n",
        "It is a large dataset containing the text of 50, 000 movie re-\n",
        "views from the Internet Movie Database. This is a dataset for binary sentiment\n",
        "classification of movies containing {0, 1}.   \n",
        "Check train and test datasets sizes and shapes."
      ],
      "metadata": {
        "id": "1hKuB1xqyxer"
      }
    },
    {
      "cell_type": "code",
      "execution_count": null,
      "metadata": {
        "id": "KPFt601rX7zR",
        "colab": {
          "base_uri": "https://localhost:8080/"
        },
        "outputId": "276037f5-bcb2-4282-d39b-762d47ba4a9c"
      },
      "outputs": [
        {
          "output_type": "stream",
          "name": "stdout",
          "text": [
            "Downloading data from https://storage.googleapis.com/tensorflow/tf-keras-datasets/imdb.npz\n",
            "17465344/17464789 [==============================] - 0s 0us/step\n",
            "17473536/17464789 [==============================] - 0s 0us/step\n"
          ]
        }
      ],
      "source": [
        "(train_data, train_labels), (test_data, test_labels) = imdb.load_data(num_words=10000)"
      ]
    },
    {
      "cell_type": "code",
      "source": [
        "print(f\"Train size: {train_data.shape[0]}, Train shape: {train_data.shape}\",\n",
        "      f\"Avg length of train elements: {sum(map(lambda x: len(x),train_data))/train_data.shape[0]}\",\n",
        "      f\"Test size: {test_data.shape[0]}, Test shape: {test_data.shape}\",\n",
        "      f\"Avg length of test elements: {sum(map(lambda x: len(x),test_data))/test_data.shape[0]}\",\n",
        "      sep=\"\\n\")"
      ],
      "metadata": {
        "colab": {
          "base_uri": "https://localhost:8080/"
        },
        "id": "k8ey7Gi7i_Gv",
        "outputId": "42f05a2d-82db-437a-deba-52d4036aa49b"
      },
      "execution_count": null,
      "outputs": [
        {
          "output_type": "stream",
          "name": "stdout",
          "text": [
            "Train size: 25000, Train shape: (25000,)\n",
            "Avg length of train elements: 238.71364\n",
            "Test size: 25000, Test shape: (25000,)\n",
            "Avg length of test elements: 230.8042\n"
          ]
        }
      ]
    },
    {
      "cell_type": "markdown",
      "source": [
        "<a name=\"exercice2\">\n",
        "\n",
        "### Exercice 2\n",
        "Prepare the data using the following code:"
      ],
      "metadata": {
        "id": "M_9v-5Xqyyry"
      }
    },
    {
      "cell_type": "code",
      "source": [
        "def vectorize_sequences(sequences, dimension=10000):\n",
        "    # Create an all - zero matrix of shape (len(sequences), dimension)\n",
        "    results = np.zeros((len(sequences), dimension))\n",
        "    for i, sequence in enumerate(sequences):\n",
        "      results[i, sequence] = 1. # set specific indices of results[i] to 1s\n",
        "    return results\n",
        "\n",
        "# Our vectorized training data\n",
        "x_train = vectorize_sequences(train_data)\n",
        "# Our vectorized test data\n",
        "x_test = vectorize_sequences(test_data)\n",
        "# Our vectorized labels\n",
        "y_train = np.asarray(train_labels).astype('float32')\n",
        "y_test = np.asarray(test_labels).astype('float32')"
      ],
      "metadata": {
        "id": "mvJr8t3by028"
      },
      "execution_count": null,
      "outputs": []
    },
    {
      "cell_type": "markdown",
      "source": [
        "check new train and test sets shapes and sizes. What have changed?"
      ],
      "metadata": {
        "id": "Cc32DC-6lrqB"
      }
    },
    {
      "cell_type": "code",
      "source": [
        "print(f\"x_train size: {x_train.shape[0]}, x_train shape: {x_train.shape}\",\n",
        "      f\"x_test size: {x_test.shape[0]}, x_test shape: {x_test.shape}\",\n",
        "      f\"y_train size: {y_train.shape[0]}, y_train shape: {y_train.shape}\",\n",
        "      f\"y_test size: {y_test.shape[0]}, y_test shape: {y_test.shape}\",\n",
        "      sep=\"\\n\")"
      ],
      "metadata": {
        "colab": {
          "base_uri": "https://localhost:8080/"
        },
        "id": "aVSdMM0Qlp95",
        "outputId": "5403ca53-db91-4be9-e331-de707cc9b9b4"
      },
      "execution_count": null,
      "outputs": [
        {
          "output_type": "stream",
          "name": "stdout",
          "text": [
            "x_train size: 25000, x_train shape: (25000, 10000)\n",
            "x_test size: 25000, x_test shape: (25000, 10000)\n",
            "y_train size: 25000, y_train shape: (25000,)\n",
            "y_test size: 25000, y_test shape: (25000,)\n"
          ]
        }
      ]
    },
    {
      "cell_type": "markdown",
      "source": [
        "We have a fixed number of element for each sequence."
      ],
      "metadata": {
        "id": "jaWCDCNun1iW"
      }
    },
    {
      "cell_type": "markdown",
      "source": [
        "<a name=\"exercice3\">\n",
        "\n",
        "### Exercice 3: Reducing the network size\n",
        "Design a neural network model namely original model with two dense layers of size 16 and each followed with an activation function relu.  \n",
        "Add a final layer of 1 node and an activation function of sigmoid.  \n",
        "For your network compilation, define a rmsprop optimizer, with a binary crossentropy and acc as the metric."
      ],
      "metadata": {
        "id": "c4AJQqHfy0Qc"
      }
    },
    {
      "cell_type": "code",
      "source": [
        "original_model = keras.Sequential([\n",
        "      keras.layers.Dense(units=16, activation=\"relu\", input_shape=(10000,)),\n",
        "      keras.layers.Dense(units=16, activation=\"relu\"),\n",
        "      keras.layers.Dense(units=1, activation=\"sigmoid\")\n",
        "])\n",
        "\n",
        "original_model.compile(\n",
        "    optimizer=\"rmsprop\",\n",
        "    loss=\"binary_crossentropy\",\n",
        "    metrics=\"acc\"\n",
        ")\n",
        "\n",
        "original_model.summary()"
      ],
      "metadata": {
        "id": "oIekrncV1Q4R",
        "colab": {
          "base_uri": "https://localhost:8080/"
        },
        "outputId": "dc2663c1-65a9-4b7b-fcc9-cc6464536422"
      },
      "execution_count": null,
      "outputs": [
        {
          "output_type": "stream",
          "name": "stdout",
          "text": [
            "Model: \"sequential\"\n",
            "_________________________________________________________________\n",
            " Layer (type)                Output Shape              Param #   \n",
            "=================================================================\n",
            " dense (Dense)               (None, 16)                160016    \n",
            "                                                                 \n",
            " dense_1 (Dense)             (None, 16)                272       \n",
            "                                                                 \n",
            " dense_2 (Dense)             (None, 1)                 17        \n",
            "                                                                 \n",
            "=================================================================\n",
            "Total params: 160,305\n",
            "Trainable params: 160,305\n",
            "Non-trainable params: 0\n",
            "_________________________________________________________________\n"
          ]
        }
      ]
    },
    {
      "cell_type": "markdown",
      "source": [
        "<a name=\"exercice4\">\n",
        "\n",
        "### Exercice 4\n",
        "Design a neural network model namely smaller model with two dense layers of size 4 and each followed with an activation function relu.  \n",
        "Add a final layer of 1 node and an activation function of sigmoid. For your network com- pilation, define a rmsprop optimizer, with a binary crossentropy and acc as the metric."
      ],
      "metadata": {
        "id": "Kmmf_s77y21j"
      }
    },
    {
      "cell_type": "code",
      "source": [
        "smaller_model = keras.Sequential([\n",
        "      keras.layers.Dense(units=4, activation=\"relu\", input_shape=(10000,)),\n",
        "      keras.layers.Dense(units=4, activation=\"relu\"),\n",
        "      keras.layers.Dense(units=1, activation=\"sigmoid\")\n",
        "])\n",
        "\n",
        "smaller_model.compile(\n",
        "    optimizer=\"rmsprop\",\n",
        "    loss=\"binary_crossentropy\",\n",
        "    metrics=\"acc\"\n",
        ")\n",
        "\n",
        "smaller_model.summary()"
      ],
      "metadata": {
        "id": "QT_aFpXVy4X8",
        "colab": {
          "base_uri": "https://localhost:8080/"
        },
        "outputId": "7bb375d3-0674-4099-c54f-2eb372580b04"
      },
      "execution_count": null,
      "outputs": [
        {
          "output_type": "stream",
          "name": "stdout",
          "text": [
            "Model: \"sequential_1\"\n",
            "_________________________________________________________________\n",
            " Layer (type)                Output Shape              Param #   \n",
            "=================================================================\n",
            " dense_3 (Dense)             (None, 4)                 40004     \n",
            "                                                                 \n",
            " dense_4 (Dense)             (None, 4)                 20        \n",
            "                                                                 \n",
            " dense_5 (Dense)             (None, 1)                 5         \n",
            "                                                                 \n",
            "=================================================================\n",
            "Total params: 40,029\n",
            "Trainable params: 40,029\n",
            "Non-trainable params: 0\n",
            "_________________________________________________________________\n"
          ]
        }
      ]
    },
    {
      "cell_type": "markdown",
      "source": [
        "<a name=\"exercice5\">\n",
        "\n",
        "### Exercice 5\n",
        "Fit the original model on the train set with the test set as the\n",
        "validation set, 20 epochs and batch size = 512 and save it in original hist\n"
      ],
      "metadata": {
        "id": "5sZ6Wn54y4tE"
      }
    },
    {
      "cell_type": "code",
      "source": [
        "original_hist = original_model.fit(x_train, y_train, epochs=20, batch_size=512, validation_data=(x_test,y_test))"
      ],
      "metadata": {
        "id": "Aca0vBwzy6Rs",
        "colab": {
          "base_uri": "https://localhost:8080/"
        },
        "outputId": "3add365b-c7c3-4c1d-c71c-5f37312dcfbb"
      },
      "execution_count": null,
      "outputs": [
        {
          "output_type": "stream",
          "name": "stdout",
          "text": [
            "Epoch 1/20\n",
            "49/49 [==============================] - 4s 59ms/step - loss: 0.4560 - acc: 0.8162 - val_loss: 0.3433 - val_acc: 0.8762\n",
            "Epoch 2/20\n",
            "49/49 [==============================] - 2s 43ms/step - loss: 0.2647 - acc: 0.9088 - val_loss: 0.2863 - val_acc: 0.8896\n",
            "Epoch 3/20\n",
            "49/49 [==============================] - 2s 42ms/step - loss: 0.2001 - acc: 0.9296 - val_loss: 0.3032 - val_acc: 0.8787\n",
            "Epoch 4/20\n",
            "49/49 [==============================] - 2s 42ms/step - loss: 0.1696 - acc: 0.9388 - val_loss: 0.2907 - val_acc: 0.8850\n",
            "Epoch 5/20\n",
            "49/49 [==============================] - 2s 42ms/step - loss: 0.1456 - acc: 0.9487 - val_loss: 0.3125 - val_acc: 0.8777\n",
            "Epoch 6/20\n",
            "49/49 [==============================] - 2s 42ms/step - loss: 0.1266 - acc: 0.9562 - val_loss: 0.3356 - val_acc: 0.8739\n",
            "Epoch 7/20\n",
            "49/49 [==============================] - 2s 42ms/step - loss: 0.1096 - acc: 0.9628 - val_loss: 0.3583 - val_acc: 0.8712\n",
            "Epoch 8/20\n",
            "49/49 [==============================] - 2s 50ms/step - loss: 0.0998 - acc: 0.9670 - val_loss: 0.3768 - val_acc: 0.8700\n",
            "Epoch 9/20\n",
            "49/49 [==============================] - 2s 43ms/step - loss: 0.0847 - acc: 0.9727 - val_loss: 0.4215 - val_acc: 0.8615\n",
            "Epoch 10/20\n",
            "49/49 [==============================] - 2s 45ms/step - loss: 0.0724 - acc: 0.9772 - val_loss: 0.4297 - val_acc: 0.8642\n",
            "Epoch 11/20\n",
            "49/49 [==============================] - 3s 54ms/step - loss: 0.0649 - acc: 0.9800 - val_loss: 0.4584 - val_acc: 0.8628\n",
            "Epoch 12/20\n",
            "49/49 [==============================] - 2s 49ms/step - loss: 0.0549 - acc: 0.9843 - val_loss: 0.4973 - val_acc: 0.8599\n",
            "Epoch 13/20\n",
            "49/49 [==============================] - 2s 46ms/step - loss: 0.0481 - acc: 0.9857 - val_loss: 0.5151 - val_acc: 0.8600\n",
            "Epoch 14/20\n",
            "49/49 [==============================] - 2s 49ms/step - loss: 0.0398 - acc: 0.9890 - val_loss: 0.5556 - val_acc: 0.8574\n",
            "Epoch 15/20\n",
            "49/49 [==============================] - 2s 46ms/step - loss: 0.0343 - acc: 0.9907 - val_loss: 0.6070 - val_acc: 0.8512\n",
            "Epoch 16/20\n",
            "49/49 [==============================] - 2s 41ms/step - loss: 0.0273 - acc: 0.9937 - val_loss: 0.6660 - val_acc: 0.8466\n",
            "Epoch 17/20\n",
            "49/49 [==============================] - 2s 42ms/step - loss: 0.0228 - acc: 0.9946 - val_loss: 0.6735 - val_acc: 0.8532\n",
            "Epoch 18/20\n",
            "49/49 [==============================] - 2s 42ms/step - loss: 0.0215 - acc: 0.9942 - val_loss: 0.7021 - val_acc: 0.8518\n",
            "Epoch 19/20\n",
            "49/49 [==============================] - 2s 42ms/step - loss: 0.0155 - acc: 0.9965 - val_loss: 0.7385 - val_acc: 0.8512\n",
            "Epoch 20/20\n",
            "49/49 [==============================] - 2s 43ms/step - loss: 0.0141 - acc: 0.9965 - val_loss: 0.7800 - val_acc: 0.8511\n"
          ]
        }
      ]
    },
    {
      "cell_type": "markdown",
      "source": [
        "<a name=\"exercice6\">\n",
        "\n",
        "### Exercice 6\n",
        "Fit the smaller model on the train set with the test set as the validation set,\n",
        "20 epochs and batch size = 512 and save it in smaller hist."
      ],
      "metadata": {
        "id": "7CjJh39Hy6ii"
      }
    },
    {
      "cell_type": "code",
      "source": [
        "smaller_hist = smaller_model.fit(x_train, y_train, epochs=20, batch_size=512, validation_data=(x_test,y_test))"
      ],
      "metadata": {
        "colab": {
          "base_uri": "https://localhost:8080/"
        },
        "id": "60xY8iBqy9Fr",
        "outputId": "4803a18e-9052-45f4-cfd5-5695fcf6c800"
      },
      "execution_count": null,
      "outputs": [
        {
          "output_type": "stream",
          "name": "stdout",
          "text": [
            "Epoch 1/20\n",
            "49/49 [==============================] - 4s 62ms/step - loss: 0.5546 - acc: 0.8000 - val_loss: 0.4621 - val_acc: 0.8670\n",
            "Epoch 2/20\n",
            "49/49 [==============================] - 2s 40ms/step - loss: 0.3790 - acc: 0.8948 - val_loss: 0.3619 - val_acc: 0.8822\n",
            "Epoch 3/20\n",
            "49/49 [==============================] - 2s 41ms/step - loss: 0.2925 - acc: 0.9119 - val_loss: 0.3165 - val_acc: 0.8858\n",
            "Epoch 4/20\n",
            "49/49 [==============================] - 2s 41ms/step - loss: 0.2430 - acc: 0.9231 - val_loss: 0.2952 - val_acc: 0.8870\n",
            "Epoch 5/20\n",
            "49/49 [==============================] - 2s 42ms/step - loss: 0.2107 - acc: 0.9314 - val_loss: 0.2808 - val_acc: 0.8908\n",
            "Epoch 6/20\n",
            "49/49 [==============================] - 2s 40ms/step - loss: 0.1865 - acc: 0.9386 - val_loss: 0.2890 - val_acc: 0.8834\n",
            "Epoch 7/20\n",
            "49/49 [==============================] - 2s 41ms/step - loss: 0.1692 - acc: 0.9435 - val_loss: 0.2800 - val_acc: 0.8884\n",
            "Epoch 8/20\n",
            "49/49 [==============================] - 2s 42ms/step - loss: 0.1549 - acc: 0.9482 - val_loss: 0.2861 - val_acc: 0.8868\n",
            "Epoch 9/20\n",
            "49/49 [==============================] - 2s 47ms/step - loss: 0.1424 - acc: 0.9541 - val_loss: 0.2932 - val_acc: 0.8841\n",
            "Epoch 10/20\n",
            "49/49 [==============================] - 2s 40ms/step - loss: 0.1315 - acc: 0.9575 - val_loss: 0.3150 - val_acc: 0.8781\n",
            "Epoch 11/20\n",
            "49/49 [==============================] - 2s 41ms/step - loss: 0.1224 - acc: 0.9610 - val_loss: 0.3169 - val_acc: 0.8787\n",
            "Epoch 12/20\n",
            "49/49 [==============================] - 2s 41ms/step - loss: 0.1131 - acc: 0.9645 - val_loss: 0.3253 - val_acc: 0.8777\n",
            "Epoch 13/20\n",
            "49/49 [==============================] - 2s 40ms/step - loss: 0.1051 - acc: 0.9669 - val_loss: 0.3406 - val_acc: 0.8742\n",
            "Epoch 14/20\n",
            "49/49 [==============================] - 2s 41ms/step - loss: 0.0975 - acc: 0.9699 - val_loss: 0.3523 - val_acc: 0.8735\n",
            "Epoch 15/20\n",
            "49/49 [==============================] - 2s 40ms/step - loss: 0.0906 - acc: 0.9729 - val_loss: 0.3651 - val_acc: 0.8722\n",
            "Epoch 16/20\n",
            "49/49 [==============================] - 2s 40ms/step - loss: 0.0843 - acc: 0.9749 - val_loss: 0.3825 - val_acc: 0.8692\n",
            "Epoch 17/20\n",
            "49/49 [==============================] - 2s 40ms/step - loss: 0.0785 - acc: 0.9770 - val_loss: 0.3958 - val_acc: 0.8691\n",
            "Epoch 18/20\n",
            "49/49 [==============================] - 2s 40ms/step - loss: 0.0722 - acc: 0.9800 - val_loss: 0.4185 - val_acc: 0.8653\n",
            "Epoch 19/20\n",
            "49/49 [==============================] - 2s 40ms/step - loss: 0.0668 - acc: 0.9822 - val_loss: 0.4278 - val_acc: 0.8665\n",
            "Epoch 20/20\n",
            "49/49 [==============================] - 2s 40ms/step - loss: 0.0617 - acc: 0.9834 - val_loss: 0.4455 - val_acc: 0.8644\n"
          ]
        }
      ]
    },
    {
      "cell_type": "markdown",
      "source": [
        "<a name=\"exercice7\">\n",
        "\n",
        "### Exercice 7\n",
        "Get the val loss from the trained model histogram and save them in\n",
        "new variables."
      ],
      "metadata": {
        "id": "mNVZxEUEy9jd"
      }
    },
    {
      "cell_type": "code",
      "source": [
        "original_val_loss = original_hist.history[\"val_loss\"]\n",
        "smaller_val_loss = smaller_hist.history[\"val_loss\"]"
      ],
      "metadata": {
        "id": "w1bY9KEny_As"
      },
      "execution_count": null,
      "outputs": []
    },
    {
      "cell_type": "markdown",
      "source": [
        "<a name=\"exercice8\">\n",
        "\n",
        "### Exercice 8\n",
        "Plot the validation loss values w.r.t the epochs (we have 20 epochs) and observe the loss value changing trough the epochs increase.  \n",
        "- What do you observe? \n",
        "- Which network starts overfitting later?\n",
        "- After hom many epochs each network starts overfitting?.\n",
        "    \n",
        "Notice that the loss should reduce during the epochs changing, as soon as the loss starts to increase, overfitting happens."
      ],
      "metadata": {
        "id": "NEZSskmAy_Vi"
      }
    },
    {
      "cell_type": "code",
      "source": [
        "x = np.arange(1,21)\n",
        "plt.figure()\n",
        "plt.scatter(x, original_val_loss, label=\"Original model\", c=\"b\", marker=\"+\")\n",
        "plt.scatter(x, smaller_val_loss, label=\"Smaller model\", c=\"b\", marker=\"o\")\n",
        "plt.legend()\n",
        "plt.xlabel(\"Epochs\")\n",
        "plt.ylabel(\"Validation loss\")\n",
        "plt.title(\"Validation loss changing w.r.t epochs for original and small models.\")\n",
        "plt.show()"
      ],
      "metadata": {
        "id": "ZEMpRUI5zAqy",
        "colab": {
          "base_uri": "https://localhost:8080/",
          "height": 295
        },
        "outputId": "1886babf-e65b-49f8-9372-b39fd69aee9d"
      },
      "execution_count": null,
      "outputs": [
        {
          "output_type": "display_data",
          "data": {
            "image/png": "[encoded data removed]",
            "text/plain": [
              "<Figure size 432x288 with 1 Axes>"
            ]
          },
          "metadata": {
            "needs_background": "light"
          }
        }
      ]
    },
    {
      "cell_type": "markdown",
      "source": [
        "I observe that both model overfit the data.  \n",
        "Indeed, after only 2 epochs, the original model starts overfitting, contrary to the smaller model that overfit after 5-7 epochs."
      ],
      "metadata": {
        "id": "RZa744_wviyV"
      }
    },
    {
      "cell_type": "markdown",
      "source": [
        "<a name=\"exercice9\">\n",
        "\n",
        "### Exercice 9\n",
        "Design a network that has much more capacity, far more than the prob-\n",
        "lem would warrant.  \n",
        "Call this model bigger model with two dense layers of size 512 and each followed with an activation function relu.  \n",
        "Add a final layer of 1 node and an activation function of sigmoid.  \n",
        "For your network compilation, define a rmsprop optimizer, with a binary crossentropy and acc as the metric."
      ],
      "metadata": {
        "id": "QT1syt1BzBD8"
      }
    },
    {
      "cell_type": "code",
      "source": [
        "bigger_model = keras.Sequential([\n",
        "      keras.layers.Dense(units=512, activation=\"relu\", input_shape=(10000,)),\n",
        "      keras.layers.Dense(units=512, activation=\"relu\"),\n",
        "      keras.layers.Dense(units=1, activation=\"sigmoid\")\n",
        "])\n",
        "\n",
        "bigger_model.compile(\n",
        "    optimizer=\"rmsprop\",\n",
        "    loss=\"binary_crossentropy\",\n",
        "    metrics=\"acc\"\n",
        ")\n",
        "\n",
        "bigger_model.summary()"
      ],
      "metadata": {
        "id": "G3zYgsKQzCME",
        "colab": {
          "base_uri": "https://localhost:8080/"
        },
        "outputId": "53a66807-d5a1-4e34-db3c-b5e5c75c7e0f"
      },
      "execution_count": null,
      "outputs": [
        {
          "output_type": "stream",
          "name": "stdout",
          "text": [
            "Model: \"sequential_2\"\n",
            "_________________________________________________________________\n",
            " Layer (type)                Output Shape              Param #   \n",
            "=================================================================\n",
            " dense_6 (Dense)             (None, 512)               5120512   \n",
            "                                                                 \n",
            " dense_7 (Dense)             (None, 512)               262656    \n",
            "                                                                 \n",
            " dense_8 (Dense)             (None, 1)                 513       \n",
            "                                                                 \n",
            "=================================================================\n",
            "Total params: 5,383,681\n",
            "Trainable params: 5,383,681\n",
            "Non-trainable params: 0\n",
            "_________________________________________________________________\n"
          ]
        }
      ]
    },
    {
      "cell_type": "markdown",
      "source": [
        "<a name=\"exercice10\">\n",
        "\n",
        "### Exercice 10\n",
        "Fit the bigger model on the train set with the test set as the validation set,\n",
        "20 epochs and batch size = 512 and save it in bigger hist"
      ],
      "metadata": {
        "id": "GrJdHMfjb9zK"
      }
    },
    {
      "cell_type": "code",
      "source": [
        "bigger_hist = bigger_model.fit(x_train, y_train, epochs=20, batch_size=512, validation_data=(x_test,y_test))"
      ],
      "metadata": {
        "id": "J1GrxUfZb9zL",
        "colab": {
          "base_uri": "https://localhost:8080/"
        },
        "outputId": "aea6300d-d05f-4709-e263-8942042fe098"
      },
      "execution_count": null,
      "outputs": [
        {
          "output_type": "stream",
          "name": "stdout",
          "text": [
            "Epoch 1/20\n",
            "49/49 [==============================] - 18s 353ms/step - loss: 0.4622 - acc: 0.7988 - val_loss: 0.2925 - val_acc: 0.8856\n",
            "Epoch 2/20\n",
            "49/49 [==============================] - 17s 339ms/step - loss: 0.2221 - acc: 0.9117 - val_loss: 0.3850 - val_acc: 0.8450\n",
            "Epoch 3/20\n",
            "49/49 [==============================] - 16s 338ms/step - loss: 0.1419 - acc: 0.9466 - val_loss: 0.3209 - val_acc: 0.8806\n",
            "Epoch 4/20\n",
            "49/49 [==============================] - 16s 339ms/step - loss: 0.0704 - acc: 0.9770 - val_loss: 0.3820 - val_acc: 0.8835\n",
            "Epoch 5/20\n",
            "49/49 [==============================] - 17s 339ms/step - loss: 0.0811 - acc: 0.9861 - val_loss: 0.4064 - val_acc: 0.8794\n",
            "Epoch 6/20\n",
            "49/49 [==============================] - 25s 506ms/step - loss: 0.0037 - acc: 0.9996 - val_loss: 0.6369 - val_acc: 0.8809\n",
            "Epoch 7/20\n",
            "49/49 [==============================] - 21s 423ms/step - loss: 0.1110 - acc: 0.9879 - val_loss: 0.6833 - val_acc: 0.8571\n",
            "Epoch 8/20\n",
            "49/49 [==============================] - 24s 490ms/step - loss: 7.2907e-04 - acc: 1.0000 - val_loss: 0.7583 - val_acc: 0.8785\n",
            "Epoch 9/20\n",
            "49/49 [==============================] - 25s 512ms/step - loss: 8.6885e-05 - acc: 1.0000 - val_loss: 0.9291 - val_acc: 0.8783\n",
            "Epoch 10/20\n",
            "49/49 [==============================] - 29s 596ms/step - loss: 0.1166 - acc: 0.9889 - val_loss: 0.7669 - val_acc: 0.8689\n",
            "Epoch 11/20\n",
            "49/49 [==============================] - 17s 340ms/step - loss: 1.2232e-04 - acc: 1.0000 - val_loss: 0.8030 - val_acc: 0.8792\n",
            "Epoch 12/20\n",
            "49/49 [==============================] - 25s 520ms/step - loss: 2.6849e-05 - acc: 1.0000 - val_loss: 0.9237 - val_acc: 0.8784\n",
            "Epoch 13/20\n",
            "49/49 [==============================] - 27s 563ms/step - loss: 6.0832e-06 - acc: 1.0000 - val_loss: 1.0769 - val_acc: 0.8795\n",
            "Epoch 14/20\n",
            "49/49 [==============================] - 17s 344ms/step - loss: 1.1070e-06 - acc: 1.0000 - val_loss: 1.2260 - val_acc: 0.8777\n",
            "Epoch 15/20\n",
            "49/49 [==============================] - 17s 341ms/step - loss: 1.9584e-07 - acc: 1.0000 - val_loss: 1.3613 - val_acc: 0.8788\n",
            "Epoch 16/20\n",
            "49/49 [==============================] - 24s 495ms/step - loss: 4.6643e-08 - acc: 1.0000 - val_loss: 1.4717 - val_acc: 0.8788\n",
            "Epoch 17/20\n",
            "49/49 [==============================] - 24s 493ms/step - loss: 1.9997e-08 - acc: 1.0000 - val_loss: 1.5193 - val_acc: 0.8786\n",
            "Epoch 18/20\n",
            "49/49 [==============================] - 17s 344ms/step - loss: 1.2474e-08 - acc: 1.0000 - val_loss: 1.5549 - val_acc: 0.8786\n",
            "Epoch 19/20\n",
            "49/49 [==============================] - 16s 336ms/step - loss: 9.1231e-09 - acc: 1.0000 - val_loss: 1.5797 - val_acc: 0.8787\n",
            "Epoch 20/20\n",
            "49/49 [==============================] - 16s 334ms/step - loss: 7.2145e-09 - acc: 1.0000 - val_loss: 1.5965 - val_acc: 0.8786\n"
          ]
        }
      ]
    },
    {
      "cell_type": "markdown",
      "source": [
        "<a name=\"exercice11\">\n",
        "\n",
        "### Exercice 11\n",
        "Plot the bigger and original validation loss changing w.r.t epochs\n",
        "changing.  \n",
        "Similar to exercise 18.  \n",
        "How the bigger network loss changes regarding to the original network? The more capacity the network has, the quicker it will be able to model the training data, but if it converges quickly to 0, this is more susceptible for overfitting!"
      ],
      "metadata": {
        "id": "e1uVAKElmMWr"
      }
    },
    {
      "cell_type": "code",
      "source": [
        "bigger_val_loss = bigger_hist.history[\"val_loss\"]"
      ],
      "metadata": {
        "id": "d33DYTBZuScb"
      },
      "execution_count": null,
      "outputs": []
    },
    {
      "cell_type": "code",
      "source": [
        "x = np.arange(1,21)\n",
        "plt.figure()\n",
        "plt.scatter(x, original_val_loss, label=\"Original model\", c=\"b\", marker=\"+\")\n",
        "plt.scatter(x, bigger_val_loss, label=\"Bigger model\", c=\"b\", marker=\"o\")\n",
        "plt.legend()\n",
        "plt.xlabel(\"Epochs\")\n",
        "plt.ylabel(\"Validation loss\")\n",
        "plt.title(\"Validation loss changing w.r.t epochs for original and bigger models.\")\n",
        "plt.show()"
      ],
      "metadata": {
        "id": "IBmAPPStlgHa",
        "colab": {
          "base_uri": "https://localhost:8080/",
          "height": 295
        },
        "outputId": "e96a80d5-8c2e-476c-959d-f393aa165e59"
      },
      "execution_count": null,
      "outputs": [
        {
          "output_type": "display_data",
          "data": {
            "image/png": "[encoded data removed]",
            "text/plain": [
              "<Figure size 432x288 with 1 Axes>"
            ]
          },
          "metadata": {
            "needs_background": "light"
          }
        }
      ]
    },
    {
      "cell_type": "markdown",
      "source": [
        "<a name=\"weight_regularization\">\n",
        "\n",
        "## Weight regularization"
      ],
      "metadata": {
        "id": "fwz8Qg2tf_lX"
      }
    },
    {
      "cell_type": "markdown",
      "source": [
        "<a name=\"exercice12\">\n",
        "\n",
        "### Exercice 12\n",
        "Modify the original network as l2_model by adding an L2 weight\n",
        "regularization to the model. Add the L2 regularizers to the first two layers."
      ],
      "metadata": {
        "id": "WP-3hyyToifs"
      }
    },
    {
      "cell_type": "code",
      "source": [
        "l2_model = keras.Sequential([\n",
        "      keras.layers.Dense(units=16, activation=\"relu\", kernel_regularizer=k.regularizers.l2(0.001), input_shape=(10000,)),\n",
        "      keras.layers.Dense(units=16, activation=\"relu\", kernel_regularizer=k.regularizers.l2(0.001)),\n",
        "      keras.layers.Dense(units=1, activation=\"sigmoid\")\n",
        "])\n",
        "\n",
        "l2_model.compile(\n",
        "    optimizer=\"rmsprop\",\n",
        "    loss=\"binary_crossentropy\",\n",
        "    metrics=\"acc\"\n",
        ")\n",
        "\n",
        "l2_model.summary()"
      ],
      "metadata": {
        "colab": {
          "base_uri": "https://localhost:8080/"
        },
        "id": "xcx_9cA9oubj",
        "outputId": "1ef7508f-6bc4-4566-ebc4-67922420b8cd"
      },
      "execution_count": null,
      "outputs": [
        {
          "output_type": "stream",
          "name": "stdout",
          "text": [
            "Model: \"sequential_3\"\n",
            "_________________________________________________________________\n",
            " Layer (type)                Output Shape              Param #   \n",
            "=================================================================\n",
            " dense_9 (Dense)             (None, 16)                160016    \n",
            "                                                                 \n",
            " dense_10 (Dense)            (None, 16)                272       \n",
            "                                                                 \n",
            " dense_11 (Dense)            (None, 1)                 17        \n",
            "                                                                 \n",
            "=================================================================\n",
            "Total params: 160,305\n",
            "Trainable params: 160,305\n",
            "Non-trainable params: 0\n",
            "_________________________________________________________________\n"
          ]
        }
      ]
    },
    {
      "cell_type": "markdown",
      "source": [
        "<a name=\"exercice13\">\n",
        "\n",
        "### Exercice 13\n",
        "Fit the model on train set with previously presented parameters. "
      ],
      "metadata": {
        "id": "4QPJnsbxuqC-"
      }
    },
    {
      "cell_type": "code",
      "source": [
        "l2_hist = l2_model.fit(x_train, y_train, epochs=20, batch_size=512, validation_data=(x_test,y_test))"
      ],
      "metadata": {
        "id": "Q6g83s6fu_Tr",
        "colab": {
          "base_uri": "https://localhost:8080/"
        },
        "outputId": "5a251a65-67f5-4d5f-afd5-7eb821429d16"
      },
      "execution_count": null,
      "outputs": [
        {
          "output_type": "stream",
          "name": "stdout",
          "text": [
            "Epoch 1/20\n",
            "49/49 [==============================] - 9s 154ms/step - loss: 0.5027 - acc: 0.8160 - val_loss: 0.3782 - val_acc: 0.8808\n",
            "Epoch 2/20\n",
            "49/49 [==============================] - 4s 72ms/step - loss: 0.3130 - acc: 0.9040 - val_loss: 0.3287 - val_acc: 0.8898\n",
            "Epoch 3/20\n",
            "49/49 [==============================] - 3s 71ms/step - loss: 0.2655 - acc: 0.9193 - val_loss: 0.3244 - val_acc: 0.8890\n",
            "Epoch 4/20\n",
            "49/49 [==============================] - 3s 69ms/step - loss: 0.2442 - acc: 0.9286 - val_loss: 0.3372 - val_acc: 0.8831\n",
            "Epoch 5/20\n",
            "49/49 [==============================] - 3s 71ms/step - loss: 0.2303 - acc: 0.9345 - val_loss: 0.3429 - val_acc: 0.8806\n",
            "Epoch 6/20\n",
            "49/49 [==============================] - 3s 56ms/step - loss: 0.2189 - acc: 0.9404 - val_loss: 0.3587 - val_acc: 0.8771\n",
            "Epoch 7/20\n",
            "49/49 [==============================] - 2s 49ms/step - loss: 0.2130 - acc: 0.9422 - val_loss: 0.3588 - val_acc: 0.8794\n",
            "Epoch 8/20\n",
            "49/49 [==============================] - 3s 56ms/step - loss: 0.2099 - acc: 0.9438 - val_loss: 0.3609 - val_acc: 0.8796\n",
            "Epoch 9/20\n",
            "49/49 [==============================] - 2s 47ms/step - loss: 0.1979 - acc: 0.9493 - val_loss: 0.3791 - val_acc: 0.8734\n",
            "Epoch 10/20\n",
            "49/49 [==============================] - 2s 47ms/step - loss: 0.1989 - acc: 0.9484 - val_loss: 0.3885 - val_acc: 0.8714\n",
            "Epoch 11/20\n",
            "49/49 [==============================] - 4s 80ms/step - loss: 0.1929 - acc: 0.9509 - val_loss: 0.4147 - val_acc: 0.8642\n",
            "Epoch 12/20\n",
            "49/49 [==============================] - 4s 81ms/step - loss: 0.1899 - acc: 0.9538 - val_loss: 0.3907 - val_acc: 0.8736\n",
            "Epoch 13/20\n",
            "49/49 [==============================] - 3s 63ms/step - loss: 0.1830 - acc: 0.9554 - val_loss: 0.3994 - val_acc: 0.8717\n",
            "Epoch 14/20\n",
            "49/49 [==============================] - 3s 56ms/step - loss: 0.1790 - acc: 0.9572 - val_loss: 0.3965 - val_acc: 0.8741\n",
            "Epoch 15/20\n",
            "49/49 [==============================] - 2s 44ms/step - loss: 0.1775 - acc: 0.9571 - val_loss: 0.4037 - val_acc: 0.8734\n",
            "Epoch 16/20\n",
            "49/49 [==============================] - 3s 55ms/step - loss: 0.1729 - acc: 0.9596 - val_loss: 0.4297 - val_acc: 0.8645\n",
            "Epoch 17/20\n",
            "49/49 [==============================] - 3s 68ms/step - loss: 0.1695 - acc: 0.9616 - val_loss: 0.4227 - val_acc: 0.8676\n",
            "Epoch 18/20\n",
            "49/49 [==============================] - 3s 54ms/step - loss: 0.1650 - acc: 0.9631 - val_loss: 0.4539 - val_acc: 0.8594\n",
            "Epoch 19/20\n",
            "49/49 [==============================] - 2s 45ms/step - loss: 0.1634 - acc: 0.9636 - val_loss: 0.4210 - val_acc: 0.8707\n",
            "Epoch 20/20\n",
            "49/49 [==============================] - 2s 49ms/step - loss: 0.1563 - acc: 0.9670 - val_loss: 0.4435 - val_acc: 0.8615\n"
          ]
        }
      ]
    },
    {
      "cell_type": "markdown",
      "source": [
        "<a name=\"exercice14\">\n",
        "\n",
        "### Exercice 14\n",
        "Plot the validation loss w.r.t epochs changing for original model and\n",
        "l2 model.Observe, the model with L2 regularization and see how it is more\n",
        "resistant to overfitting than the original model, even though both models have\n",
        "the same number of parameters.\n",
        "As alternatives to L2 regularization, you could use one of the following Keras\n",
        "weight regularizers:\n",
        "- l1\n",
        "~~~ python\n",
        "from keras import regularizers\n",
        "regularizers.l1(0.001)\n",
        "~~~\n",
        "- l2\n",
        "~~~ python\n",
        "# L1 and L2 regula rization at the same time\n",
        "regularizers . l1_l2 ( l1 =0.001 , l2 =0.001)\n",
        "~~~"
      ],
      "metadata": {
        "id": "oXK8AgGUvRn3"
      }
    },
    {
      "cell_type": "code",
      "source": [
        "l2_val_loss = l2_hist.history[\"val_loss\"]"
      ],
      "metadata": {
        "id": "-Z2d2zDTyGct"
      },
      "execution_count": null,
      "outputs": []
    },
    {
      "cell_type": "code",
      "source": [
        "x = np.arange(1,21)\n",
        "plt.figure()\n",
        "plt.scatter(x, original_val_loss, label=\"Original model\", c=\"b\", marker=\"+\")\n",
        "plt.scatter(x, l2_val_loss, label=\"L2 model\", c=\"b\", marker=\"o\")\n",
        "plt.legend()\n",
        "plt.xlabel(\"Epochs\")\n",
        "plt.ylabel(\"Validation loss\")\n",
        "plt.title(\"Validation loss changing w.r.t epochs for original and L2 models.\")\n",
        "plt.show()"
      ],
      "metadata": {
        "colab": {
          "base_uri": "https://localhost:8080/",
          "height": 295
        },
        "id": "nr2_zFKTvEuQ",
        "outputId": "6368a897-d647-4ac3-cf84-44ed9ea3578a"
      },
      "execution_count": null,
      "outputs": [
        {
          "output_type": "display_data",
          "data": {
            "image/png": "[encoded data removed]",
            "text/plain": [
              "<Figure size 432x288 with 1 Axes>"
            ]
          },
          "metadata": {
            "needs_background": "light"
          }
        }
      ]
    },
    {
      "cell_type": "markdown",
      "source": [
        "#### L1"
      ],
      "metadata": {
        "id": "S2EJJBtkxIFY"
      }
    },
    {
      "cell_type": "code",
      "source": [
        "l1_model = keras.Sequential([\n",
        "      keras.layers.Dense(units=16, activation=\"relu\", kernel_regularizer=k.regularizers.l1(0.001), input_shape=(10000,)),\n",
        "      keras.layers.Dense(units=16, activation=\"relu\", kernel_regularizer=k.regularizers.l1(0.001)),\n",
        "      keras.layers.Dense(units=1, activation=\"sigmoid\")\n",
        "])\n",
        "\n",
        "l1_model.compile(\n",
        "    optimizer=\"rmsprop\",\n",
        "    loss=\"binary_crossentropy\",\n",
        "    metrics=\"acc\"\n",
        ")\n",
        "\n",
        "l1_model.summary()"
      ],
      "metadata": {
        "colab": {
          "base_uri": "https://localhost:8080/"
        },
        "id": "T9j-yd7vxeun",
        "outputId": "e8bc9898-7085-4951-8980-f4d925bd696f"
      },
      "execution_count": null,
      "outputs": [
        {
          "output_type": "stream",
          "name": "stdout",
          "text": [
            "Model: \"sequential_4\"\n",
            "_________________________________________________________________\n",
            " Layer (type)                Output Shape              Param #   \n",
            "=================================================================\n",
            " dense_12 (Dense)            (None, 16)                160016    \n",
            "                                                                 \n",
            " dense_13 (Dense)            (None, 16)                272       \n",
            "                                                                 \n",
            " dense_14 (Dense)            (None, 1)                 17        \n",
            "                                                                 \n",
            "=================================================================\n",
            "Total params: 160,305\n",
            "Trainable params: 160,305\n",
            "Non-trainable params: 0\n",
            "_________________________________________________________________\n"
          ]
        }
      ]
    },
    {
      "cell_type": "code",
      "source": [
        "l1_hist = l1_model.fit(x_train, y_train, epochs=20, batch_size=512, validation_data=(x_test,y_test))"
      ],
      "metadata": {
        "colab": {
          "base_uri": "https://localhost:8080/"
        },
        "id": "OrldNNM3xhF-",
        "outputId": "d80e1412-1fc9-4fd4-aea5-2af2ffd0597c"
      },
      "execution_count": null,
      "outputs": [
        {
          "output_type": "stream",
          "name": "stdout",
          "text": [
            "Epoch 1/20\n",
            "49/49 [==============================] - 4s 62ms/step - loss: 0.9105 - acc: 0.7816 - val_loss: 0.6388 - val_acc: 0.8543\n",
            "Epoch 2/20\n",
            "49/49 [==============================] - 2s 46ms/step - loss: 0.6111 - acc: 0.8503 - val_loss: 0.6176 - val_acc: 0.8308\n",
            "Epoch 3/20\n",
            "49/49 [==============================] - 2s 45ms/step - loss: 0.5704 - acc: 0.8587 - val_loss: 0.5707 - val_acc: 0.8563\n",
            "Epoch 4/20\n",
            "49/49 [==============================] - 2s 46ms/step - loss: 0.5535 - acc: 0.8632 - val_loss: 0.5491 - val_acc: 0.8633\n",
            "Epoch 5/20\n",
            "49/49 [==============================] - 2s 44ms/step - loss: 0.5389 - acc: 0.8682 - val_loss: 0.5413 - val_acc: 0.8647\n",
            "Epoch 6/20\n",
            "49/49 [==============================] - 4s 83ms/step - loss: 0.5262 - acc: 0.8712 - val_loss: 0.5395 - val_acc: 0.8622\n",
            "Epoch 7/20\n",
            "49/49 [==============================] - 2s 48ms/step - loss: 0.5186 - acc: 0.8748 - val_loss: 0.5180 - val_acc: 0.8708\n",
            "Epoch 8/20\n",
            "49/49 [==============================] - 3s 56ms/step - loss: 0.5128 - acc: 0.8722 - val_loss: 0.5252 - val_acc: 0.8633\n",
            "Epoch 9/20\n",
            "49/49 [==============================] - 4s 72ms/step - loss: 0.5074 - acc: 0.8739 - val_loss: 0.5093 - val_acc: 0.8720\n",
            "Epoch 10/20\n",
            "49/49 [==============================] - 3s 60ms/step - loss: 0.5019 - acc: 0.8763 - val_loss: 0.5050 - val_acc: 0.8738\n",
            "Epoch 11/20\n",
            "49/49 [==============================] - 2s 48ms/step - loss: 0.4940 - acc: 0.8792 - val_loss: 0.5164 - val_acc: 0.8676\n",
            "Epoch 12/20\n",
            "49/49 [==============================] - 3s 58ms/step - loss: 0.4932 - acc: 0.8789 - val_loss: 0.5080 - val_acc: 0.8711\n",
            "Epoch 13/20\n",
            "49/49 [==============================] - 2s 46ms/step - loss: 0.4838 - acc: 0.8836 - val_loss: 0.5157 - val_acc: 0.8675\n",
            "Epoch 14/20\n",
            "49/49 [==============================] - 2s 45ms/step - loss: 0.4805 - acc: 0.8841 - val_loss: 0.4893 - val_acc: 0.8783\n",
            "Epoch 15/20\n",
            "49/49 [==============================] - 2s 45ms/step - loss: 0.4744 - acc: 0.8841 - val_loss: 0.5069 - val_acc: 0.8687\n",
            "Epoch 16/20\n",
            "49/49 [==============================] - 2s 45ms/step - loss: 0.4679 - acc: 0.8892 - val_loss: 0.4857 - val_acc: 0.8798\n",
            "Epoch 17/20\n",
            "49/49 [==============================] - 2s 46ms/step - loss: 0.4682 - acc: 0.8889 - val_loss: 0.4907 - val_acc: 0.8734\n",
            "Epoch 18/20\n",
            "49/49 [==============================] - 2s 45ms/step - loss: 0.4651 - acc: 0.8890 - val_loss: 0.5166 - val_acc: 0.8660\n",
            "Epoch 19/20\n",
            "49/49 [==============================] - 2s 45ms/step - loss: 0.4590 - acc: 0.8912 - val_loss: 0.4886 - val_acc: 0.8748\n",
            "Epoch 20/20\n",
            "49/49 [==============================] - 3s 65ms/step - loss: 0.4601 - acc: 0.8908 - val_loss: 0.4750 - val_acc: 0.8817\n"
          ]
        }
      ]
    },
    {
      "cell_type": "markdown",
      "source": [
        "#### L1-L2"
      ],
      "metadata": {
        "id": "CrU_gW_OxKVJ"
      }
    },
    {
      "cell_type": "code",
      "source": [
        "l1_l2_model = keras.Sequential([\n",
        "      keras.layers.Dense(units=16, activation=\"relu\", kernel_regularizer=k.regularizers.l1_l2(l1=0.001, l2=0.001), input_shape=(10000,)),\n",
        "      keras.layers.Dense(units=16, activation=\"relu\", kernel_regularizer=k.regularizers.l1_l2(l1=0.001, l2=0.001)),\n",
        "      keras.layers.Dense(units=1, activation=\"sigmoid\")\n",
        "])\n",
        "\n",
        "l1_l2_model.compile(\n",
        "    optimizer=\"rmsprop\",\n",
        "    loss=\"binary_crossentropy\",\n",
        "    metrics=\"acc\"\n",
        ")\n",
        "\n",
        "l1_l2_model.summary()"
      ],
      "metadata": {
        "colab": {
          "base_uri": "https://localhost:8080/"
        },
        "id": "h76u7kIPxfSA",
        "outputId": "4323465e-6a65-4e6e-ca5e-4d0cae6ed11d"
      },
      "execution_count": null,
      "outputs": [
        {
          "output_type": "stream",
          "name": "stdout",
          "text": [
            "Model: \"sequential_5\"\n",
            "_________________________________________________________________\n",
            " Layer (type)                Output Shape              Param #   \n",
            "=================================================================\n",
            " dense_15 (Dense)            (None, 16)                160016    \n",
            "                                                                 \n",
            " dense_16 (Dense)            (None, 16)                272       \n",
            "                                                                 \n",
            " dense_17 (Dense)            (None, 1)                 17        \n",
            "                                                                 \n",
            "=================================================================\n",
            "Total params: 160,305\n",
            "Trainable params: 160,305\n",
            "Non-trainable params: 0\n",
            "_________________________________________________________________\n"
          ]
        }
      ]
    },
    {
      "cell_type": "code",
      "source": [
        "l1_l2_hist = l1_l2_model.fit(x_train, y_train, epochs=20, batch_size=512, validation_data=(x_test,y_test))"
      ],
      "metadata": {
        "colab": {
          "base_uri": "https://localhost:8080/"
        },
        "id": "5e7S6qEOx5Gp",
        "outputId": "d020f6dd-3627-4b89-bf20-ce5b43b4f300"
      },
      "execution_count": null,
      "outputs": [
        {
          "output_type": "stream",
          "name": "stdout",
          "text": [
            "Epoch 1/20\n",
            "49/49 [==============================] - 4s 57ms/step - loss: 0.9604 - acc: 0.7569 - val_loss: 0.7075 - val_acc: 0.8034\n",
            "Epoch 2/20\n",
            "49/49 [==============================] - 2s 47ms/step - loss: 0.6594 - acc: 0.8401 - val_loss: 0.6219 - val_acc: 0.8556\n",
            "Epoch 3/20\n",
            "49/49 [==============================] - 2s 49ms/step - loss: 0.6053 - acc: 0.8532 - val_loss: 0.5983 - val_acc: 0.8549\n",
            "Epoch 4/20\n",
            "49/49 [==============================] - 3s 64ms/step - loss: 0.5850 - acc: 0.8557 - val_loss: 0.5759 - val_acc: 0.8587\n",
            "Epoch 5/20\n",
            "49/49 [==============================] - 3s 64ms/step - loss: 0.5690 - acc: 0.8610 - val_loss: 0.5652 - val_acc: 0.8612\n",
            "Epoch 6/20\n",
            "49/49 [==============================] - 4s 83ms/step - loss: 0.5549 - acc: 0.8635 - val_loss: 0.5567 - val_acc: 0.8616\n",
            "Epoch 7/20\n",
            "49/49 [==============================] - 4s 74ms/step - loss: 0.5516 - acc: 0.8638 - val_loss: 0.5479 - val_acc: 0.8647\n",
            "Epoch 8/20\n",
            "49/49 [==============================] - 3s 67ms/step - loss: 0.5407 - acc: 0.8655 - val_loss: 0.5377 - val_acc: 0.8686\n",
            "Epoch 9/20\n",
            "49/49 [==============================] - 2s 46ms/step - loss: 0.5332 - acc: 0.8697 - val_loss: 0.5304 - val_acc: 0.8706\n",
            "Epoch 10/20\n",
            "49/49 [==============================] - 2s 46ms/step - loss: 0.5300 - acc: 0.8708 - val_loss: 0.5252 - val_acc: 0.8721\n",
            "Epoch 11/20\n",
            "49/49 [==============================] - 2s 47ms/step - loss: 0.5191 - acc: 0.8746 - val_loss: 0.5198 - val_acc: 0.8726\n",
            "Epoch 12/20\n",
            "49/49 [==============================] - 3s 57ms/step - loss: 0.5148 - acc: 0.8756 - val_loss: 0.5183 - val_acc: 0.8738\n",
            "Epoch 13/20\n",
            "49/49 [==============================] - 3s 71ms/step - loss: 0.5085 - acc: 0.8774 - val_loss: 0.5242 - val_acc: 0.8680\n",
            "Epoch 14/20\n",
            "49/49 [==============================] - 4s 80ms/step - loss: 0.5042 - acc: 0.8788 - val_loss: 0.5081 - val_acc: 0.8768\n",
            "Epoch 15/20\n",
            "49/49 [==============================] - 3s 67ms/step - loss: 0.4945 - acc: 0.8830 - val_loss: 0.5263 - val_acc: 0.8657\n",
            "Epoch 16/20\n",
            "49/49 [==============================] - 3s 62ms/step - loss: 0.4889 - acc: 0.8829 - val_loss: 0.5118 - val_acc: 0.8724\n",
            "Epoch 17/20\n",
            "49/49 [==============================] - 2s 46ms/step - loss: 0.4817 - acc: 0.8885 - val_loss: 0.4970 - val_acc: 0.8784\n",
            "Epoch 18/20\n",
            "49/49 [==============================] - 3s 62ms/step - loss: 0.4785 - acc: 0.8861 - val_loss: 0.4964 - val_acc: 0.8773\n",
            "Epoch 19/20\n",
            "49/49 [==============================] - 3s 55ms/step - loss: 0.4759 - acc: 0.8878 - val_loss: 0.5120 - val_acc: 0.8690\n",
            "Epoch 20/20\n",
            "49/49 [==============================] - 3s 58ms/step - loss: 0.4692 - acc: 0.8903 - val_loss: 0.4900 - val_acc: 0.8778\n"
          ]
        }
      ]
    },
    {
      "cell_type": "markdown",
      "source": [
        "#### Full comparison"
      ],
      "metadata": {
        "id": "9VNtoyisx74X"
      }
    },
    {
      "cell_type": "code",
      "source": [
        "l1_val_loss = l1_hist.history[\"val_loss\"]\n",
        "l1_l2_val_loss = l1_l2_hist.history[\"val_loss\"]"
      ],
      "metadata": {
        "id": "nX_q-7iJyg4W"
      },
      "execution_count": null,
      "outputs": []
    },
    {
      "cell_type": "code",
      "source": [
        "x = np.arange(1,21)\n",
        "plt.figure()\n",
        "plt.scatter(x, original_val_loss, label=\"Original model\")\n",
        "plt.scatter(x, l1_val_loss, label=\"L1 model\")\n",
        "plt.scatter(x, l2_val_loss, label=\"L2 model\")\n",
        "plt.scatter(x, l1_l2_val_loss, label=\"L1-L2 model\")\n",
        "plt.legend()\n",
        "plt.xlabel(\"Epochs\")\n",
        "plt.ylabel(\"Validation loss\")\n",
        "plt.title(\"Validation loss changing w.r.t epochs for original, L1, L2 and L1-L2 models.\")\n",
        "plt.show()"
      ],
      "metadata": {
        "colab": {
          "base_uri": "https://localhost:8080/",
          "height": 295
        },
        "id": "NEi8_r8TyAVa",
        "outputId": "89934e38-40cc-4d2a-9bdf-f038d179a053"
      },
      "execution_count": null,
      "outputs": [
        {
          "output_type": "display_data",
          "data": {
            "image/png": "[encoded data removed]",
            "text/plain": [
              "<Figure size 432x288 with 1 Axes>"
            ]
          },
          "metadata": {
            "needs_background": "light"
          }
        }
      ]
    },
    {
      "cell_type": "markdown",
      "source": [
        "<a name=\"adding_dropout\">\n",
        "\n",
        "## Adding Dropout"
      ],
      "metadata": {
        "id": "hNwZ-NQG3fXP"
      }
    },
    {
      "cell_type": "markdown",
      "source": [
        "<a name=\"exercice15\">\n",
        "\n",
        "### Exercice 15\n",
        "Modify the original network by adding a dropout after each layer of 16 nodes. Name this model dpt model"
      ],
      "metadata": {
        "id": "HFfNVnn1wFhc"
      }
    },
    {
      "cell_type": "code",
      "source": [
        "dpt_model = keras.Sequential([\n",
        "      keras.layers.Dense(units=16, activation=\"relu\", input_shape=(10000,)),\n",
        "      keras.layers.Dropout(0.5),\n",
        "      keras.layers.Dense(units=16, activation=\"relu\"),\n",
        "      keras.layers.Dropout(0.5),\n",
        "      keras.layers.Dense(units=1, activation=\"sigmoid\")\n",
        "])\n",
        "\n",
        "dpt_model.compile(\n",
        "    optimizer=\"rmsprop\",\n",
        "    loss=\"binary_crossentropy\",\n",
        "    metrics=\"acc\"\n",
        ")\n",
        "\n",
        "dpt_model.summary()"
      ],
      "metadata": {
        "colab": {
          "base_uri": "https://localhost:8080/"
        },
        "id": "UsIjlRY3wQeh",
        "outputId": "d7819999-a85d-4955-9643-b09cd385bee8"
      },
      "execution_count": null,
      "outputs": [
        {
          "output_type": "stream",
          "name": "stdout",
          "text": [
            "Model: \"sequential_8\"\n",
            "_________________________________________________________________\n",
            " Layer (type)                Output Shape              Param #   \n",
            "=================================================================\n",
            " dense_24 (Dense)            (None, 16)                160016    \n",
            "                                                                 \n",
            " dropout_4 (Dropout)         (None, 16)                0         \n",
            "                                                                 \n",
            " dense_25 (Dense)            (None, 16)                272       \n",
            "                                                                 \n",
            " dropout_5 (Dropout)         (None, 16)                0         \n",
            "                                                                 \n",
            " dense_26 (Dense)            (None, 1)                 17        \n",
            "                                                                 \n",
            "=================================================================\n",
            "Total params: 160,305\n",
            "Trainable params: 160,305\n",
            "Non-trainable params: 0\n",
            "_________________________________________________________________\n"
          ]
        }
      ]
    },
    {
      "cell_type": "markdown",
      "source": [
        "<a name=\"exercice16\">\n",
        "\n",
        "### Exercice 16\n",
        "Fit the model on the set with previously presented parameters."
      ],
      "metadata": {
        "id": "YLuD1IZswHzj"
      }
    },
    {
      "cell_type": "code",
      "source": [
        "dpt_hist = dpt_model.fit(x_train, y_train, epochs=20, batch_size=512, validation_data=(x_test,y_test))"
      ],
      "metadata": {
        "id": "uC1IriIfxB7Y",
        "colab": {
          "base_uri": "https://localhost:8080/"
        },
        "outputId": "f1e11f2d-c362-4bd6-984f-a8c3bd16943a"
      },
      "execution_count": null,
      "outputs": [
        {
          "output_type": "stream",
          "name": "stdout",
          "text": [
            "Epoch 1/20\n",
            "49/49 [==============================] - 3s 56ms/step - loss: 0.6072 - acc: 0.6676 - val_loss: 0.4803 - val_acc: 0.8581\n",
            "Epoch 2/20\n",
            "49/49 [==============================] - 2s 46ms/step - loss: 0.4696 - acc: 0.8010 - val_loss: 0.3710 - val_acc: 0.8788\n",
            "Epoch 3/20\n",
            "49/49 [==============================] - 2s 45ms/step - loss: 0.3877 - acc: 0.8581 - val_loss: 0.3155 - val_acc: 0.8877\n",
            "Epoch 4/20\n",
            "49/49 [==============================] - 2s 45ms/step - loss: 0.3296 - acc: 0.8871 - val_loss: 0.2901 - val_acc: 0.8893\n",
            "Epoch 5/20\n",
            "49/49 [==============================] - 2s 46ms/step - loss: 0.2857 - acc: 0.9087 - val_loss: 0.2845 - val_acc: 0.8894\n",
            "Epoch 6/20\n",
            "49/49 [==============================] - 2s 44ms/step - loss: 0.2541 - acc: 0.9211 - val_loss: 0.3145 - val_acc: 0.8822\n",
            "Epoch 7/20\n",
            "49/49 [==============================] - 2s 45ms/step - loss: 0.2275 - acc: 0.9296 - val_loss: 0.2983 - val_acc: 0.8818\n",
            "Epoch 8/20\n",
            "49/49 [==============================] - 2s 45ms/step - loss: 0.2111 - acc: 0.9352 - val_loss: 0.3163 - val_acc: 0.8868\n",
            "Epoch 9/20\n",
            "49/49 [==============================] - 2s 45ms/step - loss: 0.1943 - acc: 0.9402 - val_loss: 0.3366 - val_acc: 0.8846\n",
            "Epoch 10/20\n",
            "49/49 [==============================] - 2s 46ms/step - loss: 0.1779 - acc: 0.9449 - val_loss: 0.3490 - val_acc: 0.8833\n",
            "Epoch 11/20\n",
            "49/49 [==============================] - 2s 45ms/step - loss: 0.1647 - acc: 0.9500 - val_loss: 0.3746 - val_acc: 0.8811\n",
            "Epoch 12/20\n",
            "49/49 [==============================] - 2s 45ms/step - loss: 0.1521 - acc: 0.9534 - val_loss: 0.3878 - val_acc: 0.8789\n",
            "Epoch 13/20\n",
            "49/49 [==============================] - 2s 45ms/step - loss: 0.1466 - acc: 0.9553 - val_loss: 0.3993 - val_acc: 0.8763\n",
            "Epoch 14/20\n",
            "49/49 [==============================] - 2s 46ms/step - loss: 0.1398 - acc: 0.9598 - val_loss: 0.4530 - val_acc: 0.8761\n",
            "Epoch 15/20\n",
            "49/49 [==============================] - 2s 45ms/step - loss: 0.1369 - acc: 0.9581 - val_loss: 0.4656 - val_acc: 0.8771\n",
            "Epoch 16/20\n",
            "49/49 [==============================] - 2s 45ms/step - loss: 0.1251 - acc: 0.9626 - val_loss: 0.4870 - val_acc: 0.8749\n",
            "Epoch 17/20\n",
            "49/49 [==============================] - 2s 46ms/step - loss: 0.1196 - acc: 0.9640 - val_loss: 0.5059 - val_acc: 0.8763\n",
            "Epoch 18/20\n",
            "49/49 [==============================] - 2s 46ms/step - loss: 0.1207 - acc: 0.9649 - val_loss: 0.5532 - val_acc: 0.8750\n",
            "Epoch 19/20\n",
            "49/49 [==============================] - 2s 46ms/step - loss: 0.1166 - acc: 0.9653 - val_loss: 0.5351 - val_acc: 0.8720\n",
            "Epoch 20/20\n",
            "49/49 [==============================] - 2s 45ms/step - loss: 0.1154 - acc: 0.9668 - val_loss: 0.5742 - val_acc: 0.8724\n"
          ]
        }
      ]
    },
    {
      "cell_type": "markdown",
      "source": [
        "<a name=\"exercice17\">\n",
        "\n",
        "### Exercice 17\n",
        "Plot the validation loss changing w.r.t the epochs changing for two\n",
        "original and dropout model. What are your observations? Do you see any im-\n",
        "provement over the original network?"
      ],
      "metadata": {
        "id": "hM7MJUjdwIKJ"
      }
    },
    {
      "cell_type": "code",
      "source": [
        "dpt_val_loss = dpt_hist.history[\"val_loss\"]"
      ],
      "metadata": {
        "id": "36lb89T90Ecg"
      },
      "execution_count": null,
      "outputs": []
    },
    {
      "cell_type": "code",
      "source": [
        "x = np.arange(1,21)\n",
        "plt.figure()\n",
        "plt.scatter(x, original_val_loss, label=\"Original model\")\n",
        "plt.scatter(x, dpt_val_loss, label=\"Dropout model\")\n",
        "plt.legend()\n",
        "plt.xlabel(\"Epochs\")\n",
        "plt.ylabel(\"Validation loss\")\n",
        "plt.title(\"Validation loss changing w.r.t epochs for original and dropout models.\")\n",
        "plt.show()"
      ],
      "metadata": {
        "id": "0n77Nze0xCXc",
        "colab": {
          "base_uri": "https://localhost:8080/",
          "height": 295
        },
        "outputId": "fb61182c-f489-4abd-f22d-fb6c6c1fdcd3"
      },
      "execution_count": null,
      "outputs": [
        {
          "output_type": "display_data",
          "data": {
            "image/png": "[encoded data removed]",
            "text/plain": [
              "<Figure size 432x288 with 1 Axes>"
            ]
          },
          "metadata": {
            "needs_background": "light"
          }
        }
      ]
    },
    {
      "cell_type": "markdown",
      "source": [
        "<a name=\"house_price_dataSet\">\n",
        "\n",
        "## House Price DataSet"
      ],
      "metadata": {
        "id": "QAI6JR0AglM3"
      }
    },
    {
      "cell_type": "markdown",
      "source": [
        "<a name=\"house-exercice1\">\n",
        "\n",
        "### Exercice 1\n",
        "**Load House Price DataSet**   \n",
        "The goal is to predict the median price of homes in a given Boston suburb in the mid-1970s, given data points about the suburb at the time, such as the crime rate, the local property tax rate, and so on.  \n",
        "Load the boston housing dataset in train and test and check the data shape and sizes."
      ],
      "metadata": {
        "id": "H2uQoZtYglM4"
      }
    },
    {
      "cell_type": "code",
      "execution_count": null,
      "metadata": {
        "colab": {
          "base_uri": "https://localhost:8080/"
        },
        "id": "OWxbvca4glM5",
        "outputId": "dc8f86cc-a338-4a96-c5f5-93fd3969a722"
      },
      "outputs": [
        {
          "output_type": "stream",
          "name": "stdout",
          "text": [
            "Downloading data from https://storage.googleapis.com/tensorflow/tf-keras-datasets/boston_housing.npz\n",
            "57344/57026 [==============================] - 0s 0us/step\n",
            "65536/57026 [==================================] - 0s 0us/step\n"
          ]
        }
      ],
      "source": [
        "(train_data, train_targets), (test_data, test_targets) = boston_housing.load_data()"
      ]
    },
    {
      "cell_type": "code",
      "source": [
        "print(f\"Train size: {train_data.shape[0]}, Train shape: {train_data.shape}\",\n",
        "      f\"Test size: {test_data.shape[0]}, Test shape: {test_data.shape}\",\n",
        "      sep=\"\\n\")"
      ],
      "metadata": {
        "colab": {
          "base_uri": "https://localhost:8080/"
        },
        "id": "XAf-yEz52SSB",
        "outputId": "1e852252-8744-4c02-e338-33352217ff02"
      },
      "execution_count": null,
      "outputs": [
        {
          "output_type": "stream",
          "name": "stdout",
          "text": [
            "Train size: 404, Train shape: (404, 13)\n",
            "Test size: 102, Test shape: (102, 13)\n"
          ]
        }
      ]
    },
    {
      "cell_type": "markdown",
      "source": [
        "The targets are the median values of owner-occupied homes, in thousands\n",
        "of dollars. Print them to check their data 2."
      ],
      "metadata": {
        "id": "59YU3MgE0zav"
      }
    },
    {
      "cell_type": "code",
      "source": [
        "print(train_targets)"
      ],
      "metadata": {
        "colab": {
          "base_uri": "https://localhost:8080/"
        },
        "id": "UL48nVkh2a8Y",
        "outputId": "7f72cc65-812d-41a3-986c-6219cb4d35a1"
      },
      "execution_count": null,
      "outputs": [
        {
          "output_type": "stream",
          "name": "stdout",
          "text": [
            "[15.2 42.3 50.  21.1 17.7 18.5 11.3 15.6 15.6 14.4 12.1 17.9 23.1 19.9\n",
            " 15.7  8.8 50.  22.5 24.1 27.5 10.9 30.8 32.9 24.  18.5 13.3 22.9 34.7\n",
            " 16.6 17.5 22.3 16.1 14.9 23.1 34.9 25.  13.9 13.1 20.4 20.  15.2 24.7\n",
            " 22.2 16.7 12.7 15.6 18.4 21.  30.1 15.1 18.7  9.6 31.5 24.8 19.1 22.\n",
            " 14.5 11.  32.  29.4 20.3 24.4 14.6 19.5 14.1 14.3 15.6 10.5  6.3 19.3\n",
            " 19.3 13.4 36.4 17.8 13.5 16.5  8.3 14.3 16.  13.4 28.6 43.5 20.2 22.\n",
            " 23.  20.7 12.5 48.5 14.6 13.4 23.7 50.  21.7 39.8 38.7 22.2 34.9 22.5\n",
            " 31.1 28.7 46.  41.7 21.  26.6 15.  24.4 13.3 21.2 11.7 21.7 19.4 50.\n",
            " 22.8 19.7 24.7 36.2 14.2 18.9 18.3 20.6 24.6 18.2  8.7 44.  10.4 13.2\n",
            " 21.2 37.  30.7 22.9 20.  19.3 31.7 32.  23.1 18.8 10.9 50.  19.6  5.\n",
            " 14.4 19.8 13.8 19.6 23.9 24.5 25.  19.9 17.2 24.6 13.5 26.6 21.4 11.9\n",
            " 22.6 19.6  8.5 23.7 23.1 22.4 20.5 23.6 18.4 35.2 23.1 27.9 20.6 23.7\n",
            " 28.  13.6 27.1 23.6 20.6 18.2 21.7 17.1  8.4 25.3 13.8 22.2 18.4 20.7\n",
            " 31.6 30.5 20.3  8.8 19.2 19.4 23.1 23.  14.8 48.8 22.6 33.4 21.1 13.6\n",
            " 32.2 13.1 23.4 18.9 23.9 11.8 23.3 22.8 19.6 16.7 13.4 22.2 20.4 21.8\n",
            " 26.4 14.9 24.1 23.8 12.3 29.1 21.  19.5 23.3 23.8 17.8 11.5 21.7 19.9\n",
            " 25.  33.4 28.5 21.4 24.3 27.5 33.1 16.2 23.3 48.3 22.9 22.8 13.1 12.7\n",
            " 22.6 15.  15.3 10.5 24.  18.5 21.7 19.5 33.2 23.2  5.  19.1 12.7 22.3\n",
            " 10.2 13.9 16.3 17.  20.1 29.9 17.2 37.3 45.4 17.8 23.2 29.  22.  18.\n",
            " 17.4 34.6 20.1 25.  15.6 24.8 28.2 21.2 21.4 23.8 31.  26.2 17.4 37.9\n",
            " 17.5 20.   8.3 23.9  8.4 13.8  7.2 11.7 17.1 21.6 50.  16.1 20.4 20.6\n",
            " 21.4 20.6 36.5  8.5 24.8 10.8 21.9 17.3 18.9 36.2 14.9 18.2 33.3 21.8\n",
            " 19.7 31.6 24.8 19.4 22.8  7.5 44.8 16.8 18.7 50.  50.  19.5 20.1 50.\n",
            " 17.2 20.8 19.3 41.3 20.4 20.5 13.8 16.5 23.9 20.6 31.5 23.3 16.8 14.\n",
            " 33.8 36.1 12.8 18.3 18.7 19.1 29.  30.1 50.  50.  22.  11.9 37.6 50.\n",
            " 22.7 20.8 23.5 27.9 50.  19.3 23.9 22.6 15.2 21.7 19.2 43.8 20.3 33.2\n",
            " 19.9 22.5 32.7 22.  17.1 19.  15.  16.1 25.1 23.7 28.7 37.2 22.6 16.4\n",
            " 25.  29.8 22.1 17.4 18.1 30.3 17.5 24.7 12.6 26.5 28.7 13.3 10.4 24.4\n",
            " 23.  20.  17.8  7.  11.8 24.4 13.8 19.4 25.2 19.4 19.4 29.1]\n"
          ]
        }
      ]
    },
    {
      "cell_type": "markdown",
      "source": [
        "<a name=\"house-exercice2\">\n",
        "\n",
        "### Exercice 2\n",
        "**Normalizing data**  \n",
        "For each feature in the input data (a column in the input data matrix), subtract the mean of the feature and divide by the standard deviation i.e. $∀x, x = \\frac{x−μ}{σ}$.  \n",
        "In this way the feature is centered around 0 and\n",
        "has a unit standard deviation.  \n",
        "Hint: use .mean(axis=0) and .std(axis=0) for\n",
        "computing mean and standard deviation."
      ],
      "metadata": {
        "id": "TVkBYetGglM6"
      }
    },
    {
      "cell_type": "code",
      "source": [
        "train_data_scaled = (train_data - train_data.mean(axis=0))/train_data.std(axis=0)\n",
        "test_data_scaled = (test_data - test_data.mean(axis=0))/test_data.std(axis=0)"
      ],
      "metadata": {
        "id": "ZcK9fPjLglM6"
      },
      "execution_count": null,
      "outputs": []
    },
    {
      "cell_type": "markdown",
      "source": [
        "<a name=\"house-exercice3\">\n",
        "\n",
        "### Exercice 3\n",
        "**Model definition**  \n",
        "Because so few samples are available, use a very small network with two hidden layers, each with 64 units and relu activation.  \n",
        "\n",
        "To have a linear layer output, add a final layer with a single unit and no ac\n",
        "tivation function.  \n",
        "Compile the network with the mse(mean squared error) loss function.  \n",
        "Monitoring a new metric during training: mean absolute error(mae).  \n",
        "Finally define the optimizer = ’rmsprop’ in the model compilation.  \n",
        "Define the model in a function named build_model()."
      ],
      "metadata": {
        "id": "TGaupNIWglM6"
      }
    },
    {
      "cell_type": "code",
      "source": [
        "def build_model():\n",
        "    model = keras.models.Sequential()\n",
        "    model.add(keras.layers.Dense(64, activation=\"relu\", input_shape=(13,)))\n",
        "    model.add(keras.layers.Dense(64, input_shape=(13,)))\n",
        "\n",
        "    model.compile(\n",
        "        optimizer=\"rmsprop\",\n",
        "        loss=\"mse\",\n",
        "        metrics=\"mae\"\n",
        "    )\n",
        "\n",
        "    return model\n",
        "\n",
        "m = build_model()\n",
        "m.summary()"
      ],
      "metadata": {
        "colab": {
          "base_uri": "https://localhost:8080/"
        },
        "id": "9vv9uZPrglM8",
        "outputId": "ec89c367-91b8-4f4f-87ac-105e15cd2d99"
      },
      "execution_count": null,
      "outputs": [
        {
          "output_type": "stream",
          "name": "stdout",
          "text": [
            "Model: \"sequential_10\"\n",
            "_________________________________________________________________\n",
            " Layer (type)                Output Shape              Param #   \n",
            "=================================================================\n",
            " dense_29 (Dense)            (None, 64)                896       \n",
            "                                                                 \n",
            " dense_30 (Dense)            (None, 64)                4160      \n",
            "                                                                 \n",
            "=================================================================\n",
            "Total params: 5,056\n",
            "Trainable params: 5,056\n",
            "Non-trainable params: 0\n",
            "_________________________________________________________________\n"
          ]
        }
      ]
    },
    {
      "cell_type": "markdown",
      "source": [
        "<a name=\"house-exercice4\">\n",
        "\n",
        "### Exercice 4\n",
        "**Model Validation**    \n",
        "Use K-fold cross-validation"
      ],
      "metadata": {
        "id": "d11ALe47glM9"
      }
    },
    {
      "cell_type": "code",
      "source": [
        "k = 4\n",
        "num_val_samples = len(train_data_scaled)// k\n",
        "num_epochs = 100\n",
        "all_scores = []\n",
        "for i in range(k):\n",
        "    print('processing fold #', i)\n",
        "    val_data = train_data[i*num_val_samples:(i+1)*num_val_samples]\n",
        "    val_targets = train_targets[i*num_val_samples:(i+1)*num_val_samples]\n",
        "    partial_train_data = np.concatenate([train_data[:i*num_val_samples], train_data[(i+1)*num_val_samples:]], axis=0)\n",
        "    partial_train_targets = np.concatenate([train_targets[:i*num_val_samples], train_targets[(i+1)*num_val_samples:]], axis =0)\n",
        "    model = build_model()\n",
        "    model.fit(train_data_scaled, train_targets, epochs=num_epochs, verbose=0)\n",
        "    #the following line is for evaluating the test set\n",
        "    val_mse, val_mae = model.evaluate(val_data, val_targets, verbose=0)\n",
        "    all_scores.append(val_mae)"
      ],
      "metadata": {
        "colab": {
          "base_uri": "https://localhost:8080/"
        },
        "id": "AM8c6QU4glM-",
        "outputId": "7cde9c88-e746-4049-fee3-b9b68b0d3fbd"
      },
      "execution_count": null,
      "outputs": [
        {
          "output_type": "stream",
          "name": "stdout",
          "text": [
            "processing fold # 0\n",
            "processing fold # 1\n",
            "processing fold # 2\n",
            "processing fold # 3\n"
          ]
        }
      ]
    },
    {
      "cell_type": "markdown",
      "source": [
        "<a name=\"house-exercice5\">\n",
        "\n",
        "### Exercice 5\n",
        "Print the overall score of your model and check its average."
      ],
      "metadata": {
        "id": "C0OOfYqgglM_"
      }
    },
    {
      "cell_type": "code",
      "source": [
        "print(\"All scores\",all_scores, sep=\":\\n\")\n",
        "print(\"Avg score:\",round(np.mean(all_scores),2))"
      ],
      "metadata": {
        "colab": {
          "base_uri": "https://localhost:8080/"
        },
        "id": "l1srBp4nglNA",
        "outputId": "84f118c7-2dac-4afd-f247-d00427be5bcb"
      },
      "execution_count": null,
      "outputs": [
        {
          "output_type": "stream",
          "name": "stdout",
          "text": [
            "All scores:\n",
            "[1818.7041015625, 1990.421142578125, 1854.423583984375, 1494.018310546875]\n",
            "Avg score: 1789.39\n"
          ]
        }
      ]
    },
    {
      "cell_type": "markdown",
      "source": [
        "<a name=\"house-exercice6\">\n",
        "\n",
        "### Exercice 6\n",
        "Now training the network a bit longer: 500 epochs. To keep a record\n",
        "of how well the model does at each epoch, we should modify the training loop\n",
        "to save the per-epoch validation score log.   \n",
        "Modify the code from the previous exercise in order to save val mean absolute error after each epoch for any fold of cross validation.  \n",
        "hint: for the aim of this exercise, you can use the following lines in your code:"
      ],
      "metadata": {
        "id": "LO7COjdzglNA"
      }
    },
    {
      "cell_type": "code",
      "source": [
        "k = 4\n",
        "num_val_samples = len(train_data_scaled)// k\n",
        "num_epochs = 500\n",
        "all_scores = []\n",
        "all_mae_history = []\n",
        "for i in range(k):\n",
        "    print('processing fold #', i)\n",
        "    val_data = train_data[i*num_val_samples:(i+1)*num_val_samples]\n",
        "    val_targets = train_targets[i*num_val_samples:(i+1)*num_val_samples]\n",
        "    partial_train_data = np.concatenate([train_data[:i*num_val_samples], train_data[(i+1)*num_val_samples:]], axis=0)\n",
        "    partial_train_targets = np.concatenate([train_targets[:i*num_val_samples], train_targets[(i+1)*num_val_samples:]], axis =0)\n",
        "    model = build_model()\n",
        "    model.fit(train_data_scaled, train_targets, epochs=num_epochs, verbose=0)\n",
        "    #the following line is for evaluating the test set\n",
        "    history = model.fit(partial_train_data, partial_train_targets, validation_data=(val_data, val_targets), epochs=num_epochs, batch_size=1, verbose=0)\n",
        "    mae_history = history.history['val_mae']\n",
        "    all_mae_history.append(mae_history)\n",
        "\n",
        "    val_mse, val_mae = model.evaluate(val_data, val_targets, verbose=0)\n",
        "    all_scores.append(val_mae)"
      ],
      "metadata": {
        "colab": {
          "base_uri": "https://localhost:8080/"
        },
        "id": "ymTYcs7HglNB",
        "outputId": "293988e4-33fb-4dbb-bfeb-6f08f62cb2dd"
      },
      "execution_count": null,
      "outputs": [
        {
          "output_type": "stream",
          "name": "stdout",
          "text": [
            "processing fold # 0\n",
            "processing fold # 1\n",
            "processing fold # 2\n",
            "processing fold # 3\n"
          ]
        }
      ]
    },
    {
      "cell_type": "markdown",
      "source": [
        "<a name=\"house-exercice7\">\n",
        "\n",
        "### Exercice 7\n",
        "Compute the average of the per-epoch mae scores for all folds."
      ],
      "metadata": {
        "id": "_h8wjrkuglNB"
      }
    },
    {
      "cell_type": "code",
      "source": [
        "mean_mae_val_score = np.mean(all_mae_history, axis=0)\n",
        "print(\"Average per-epoch\", mean_mae_val_score, sep=\":\\n\")"
      ],
      "metadata": {
        "colab": {
          "base_uri": "https://localhost:8080/"
        },
        "id": "JlVBKoCXglNC",
        "outputId": "987182ef-2716-4013-ba9b-aec2399eb82c"
      },
      "execution_count": null,
      "outputs": [
        {
          "output_type": "stream",
          "name": "stdout",
          "text": [
            "Average per-epoch:\n",
            "[111.80473709  17.56415844   9.31892025   6.09049964   5.63033736\n",
            "   5.05078161   4.7713635    4.81993318   4.99261737   4.45199776\n",
            "   4.32168293   4.5628823    4.67618608   4.55006778   4.12694222\n",
            "   4.1386283    4.17665303   4.28346783   4.4334687    4.12771696\n",
            "   4.88037491   4.26069444   4.07465577   4.17494458   4.37056011\n",
            "   4.06276202   4.00917983   4.02414393   3.97978765   4.15581828\n",
            "   4.28796041   3.89577454   4.0857597    4.10176426   3.97886151\n",
            "   3.93330348   4.00384337   3.9441781    3.85068011   4.13213801\n",
            "   4.11107093   4.03637069   3.84024864   4.00449109   4.18923622\n",
            "   4.04348898   4.10420537   3.98310351   3.82536715   4.06886804\n",
            "   4.43716514   3.86222541   3.75084227   3.7679649    3.9535926\n",
            "   4.12339067   3.82665455   3.84265804   3.91581285   3.90548021\n",
            "   3.72080898   3.71173894   3.7890451    3.91077852   3.74403995\n",
            "   3.78155708   3.78025514   3.7903446    3.91803187   3.78014493\n",
            "   3.84334677   3.8447482    3.71838731   3.70327938   3.72521925\n",
            "   3.6994974    3.843409     3.91040182   3.88721734   3.69085002\n",
            "   3.75621545   3.59073126   3.79678452   3.68803918   3.66712493\n",
            "   3.9477548    3.88168216   3.67317891   3.67701101   3.6288113\n",
            "   4.02550966   3.76373094   3.80348569   3.82327282   3.67578328\n",
            "   3.64239407   3.52828234   3.71886337   3.56855136   3.63488007\n",
            "   3.65148258   3.88103759   3.76539087   3.66007006   3.68074715\n",
            "   3.63228434   3.6302017    3.87423801   3.83447415   3.62286758\n",
            "   3.63944024   3.67439508   3.55615324   3.84229076   3.52736211\n",
            "   3.60101044   3.55366796   3.58534175   3.63575482   3.5291782\n",
            "   3.57727224   3.65635824   3.58961391   3.5853613    3.54305774\n",
            "   3.56902003   3.60966516   3.52065289   3.49369711   3.4945243\n",
            "   3.58154297   3.52814138   3.6227842    3.51409823   3.53956079\n",
            "   3.65617287   3.64157969   3.42964679   3.56036943   3.51164234\n",
            "   3.69339854   3.54353374   3.70811671   3.37207669   3.56828034\n",
            "   3.58305883   3.51978159   3.47776759   3.54386312   3.73181111\n",
            "   3.572721     3.61861759   3.63689345   3.4109782    3.39763921\n",
            "   3.53832537   3.56755859   3.65532357   3.65211856   3.47832566\n",
            "   3.37725502   3.63493097   3.53405768   3.37441164   3.40532041\n",
            "   3.54064274   3.56151605   3.50460118   3.44980842   3.38296217\n",
            "   3.4483732    3.45654452   3.43779814   3.68762481   3.54411006\n",
            "   3.37585765   3.42058283   3.56886405   4.14702308   3.4798944\n",
            "   3.56502879   3.52895844   3.36107153   3.36527336   3.4320159\n",
            "   3.26720011   3.39979249   3.24625939   3.23851091   3.35860765\n",
            "   3.36332333   3.24070275   3.38411719   3.27064192   3.59437537\n",
            "   3.37528741   3.277457     3.88518918   3.3965764    3.23985964\n",
            "   3.19826162   3.15787774   3.14851922   3.29990852   3.16064149\n",
            "   3.27680492   3.2874164    3.22664642   3.24528962   3.26783216\n",
            "   3.12477487   3.27213413   3.52595329   3.44421041   3.21285629\n",
            "   3.18723291   3.16007084   3.32071841   3.41758907   3.47612834\n",
            "   3.2650739    3.27166414   3.22011071   3.56885511   3.61842585\n",
            "   3.19561559   3.25369382   3.23804879   3.24332762   3.25188518\n",
            "   3.53566575   3.44042158   3.41762239   3.3940717    3.2077148\n",
            "   3.17231053   3.13002878   3.32986945   3.13767755   3.33266479\n",
            "   3.19319475   3.29276913   3.47341007   3.34563565   3.41943294\n",
            "   3.31814235   3.1268543    3.27712423   3.32024735   3.23707247\n",
            "   3.20754856   3.19746053   3.13666046   3.17120337   3.14344418\n",
            "   3.2001344    3.33597565   3.3514092    3.10805833   3.34175909\n",
            "   3.21150494   3.0549677    3.15308034   3.08099216   3.41942126\n",
            "   3.10692412   3.27549535   3.18199438   3.20330232   3.30933172\n",
            "   3.22818577   3.12342495   3.12293106   3.18603528   3.2152518\n",
            "   3.0932247    3.26442569   3.26927841   3.07240456   3.34452021\n",
            "   3.12361908   3.2538693    3.41501278   3.07432401   3.11360878\n",
            "   3.21950895   3.08029848   3.15038884   3.22177988   3.39838701\n",
            "   3.04835707   3.16373062   3.26861149   3.1910091    3.17981583\n",
            "   3.18157876   3.05608588   3.06217414   3.03587031   3.03510898\n",
            "   3.30883193   3.43818653   3.17128259   3.11340576   3.04971719\n",
            "   3.51512778   3.03496391   3.36253929   3.41214496   3.06775939\n",
            "   3.11937219   3.23913705   3.32285523   3.26046014   3.43514019\n",
            "   3.7439357    3.42244375   3.09544343   3.15854895   3.29345238\n",
            "   3.12963188   3.15739894   3.18518567   3.13707149   3.19865465\n",
            "   3.13745373   3.36224538   3.26904708   3.30602419   3.10640478\n",
            "   3.07695252   3.1491462    3.04284441   3.16211045   3.19133508\n",
            "   3.16909683   3.03271043   3.50211412   3.48764205   3.14440107\n",
            "   3.11391735   3.19782543   3.10485327   3.03811479   3.2232433\n",
            "   3.07859159   3.06110233   3.04180491   3.08776474   3.30064648\n",
            "   3.02961409   3.25552809   3.12267983   3.06236607   3.40234286\n",
            "   2.96458858   3.0427646    2.99637848   3.22319108   3.105057\n",
            "   3.41666317   3.02102941   3.14299351   3.16156888   2.91893643\n",
            "   3.06569582   3.30883574   3.25233096   3.19702208   3.07278711\n",
            "   3.20048374   2.96284997   3.32891148   3.3494308    3.16476482\n",
            "   3.32798117   3.28051567   3.4633075    3.08614409   3.07470226\n",
            "   3.03232712   3.21928543   3.29928678   3.03311104   2.9544425\n",
            "   3.03227931   3.40212464   3.06145734   2.89395106   3.16468596\n",
            "   2.94657826   3.06975383   3.3143605    3.01648039   3.04498583\n",
            "   3.19669592   3.13728559   3.04380471   3.14346313   3.17198217\n",
            "   3.04792464   2.91983491   2.93962508   2.95815897   3.27318567\n",
            "   2.98961014   2.97814804   2.93032557   3.07682896   2.9724369\n",
            "   2.89003193   3.44964325   3.30038881   3.10443175   3.10822153\n",
            "   3.44760036   3.03161633   3.26630026   3.12953645   3.27516574\n",
            "   3.44367552   3.14553118   3.09436059   3.29896575   2.99349648\n",
            "   3.07209796   2.96367145   3.23316002   3.13712555   3.33936208\n",
            "   3.04728198   3.21963924   3.25244856   3.12902862   3.09979856\n",
            "   2.93564159   3.02247101   3.11299169   2.953484     2.87921399\n",
            "   3.05921769   2.91957295   2.97131014   2.93296087   3.08667666\n",
            "   3.45299119   2.88347602   3.33104539   3.06394702   3.07623124\n",
            "   3.11765474   3.24474895   2.99172336   3.04440832   3.43496931\n",
            "   2.97180343   2.93138087   3.16453725   3.18824559   3.00107843\n",
            "   3.17640996   3.12982899   3.03137243   3.11188382   2.92700565\n",
            "   3.15394819   2.98078465   3.09485376   2.98516011   3.05020338\n",
            "   2.87456751   3.354617     3.1643582    2.84343588   3.23607093\n",
            "   3.34116435   3.15955317   3.06259984   2.89496046   3.29983002\n",
            "   3.01443213   3.13411075   3.04080659   2.82217234   2.99360818\n",
            "   3.2887798    3.31781739   2.96817857   3.03899968   2.97437423\n",
            "   2.93303287   3.11776465   3.56520057   3.01907849   3.09867257\n",
            "   3.0561806    3.02537757   3.23842424   2.93743306   3.02948517]\n"
          ]
        }
      ]
    },
    {
      "cell_type": "markdown",
      "source": [
        "<a name=\"house-exercice8\">\n",
        "\n",
        "### Exercice 8\n",
        "Plot the average of the per-epoch MAE scores w.r.t epochs changing."
      ],
      "metadata": {
        "id": "Ee8RM1JaglNC"
      }
    },
    {
      "cell_type": "code",
      "source": [
        "x = np.arange(1,501)\n",
        "plt.figure()\n",
        "plt.plot(x, mean_mae_val_score)\n",
        "plt.xlabel(\"Epochs\")\n",
        "plt.ylabel(\"Validation loss\")\n",
        "plt.title(\"Validation loss changing w.r.t epochs for the model.\")\n",
        "plt.show()"
      ],
      "metadata": {
        "colab": {
          "base_uri": "https://localhost:8080/",
          "height": 295
        },
        "id": "LH3bg4TrglNC",
        "outputId": "d5f537e6-0310-4ace-c1d2-313a77010a42"
      },
      "execution_count": null,
      "outputs": [
        {
          "output_type": "display_data",
          "data": {
            "image/png": "[encoded data removed]",
            "text/plain": [
              "<Figure size 432x288 with 1 Axes>"
            ]
          },
          "metadata": {
            "needs_background": "light"
          }
        }
      ]
    },
    {
      "cell_type": "markdown",
      "source": [
        "<a name=\"house-exercice9\">\n",
        "\n",
        "### Exercice 9\n",
        "It may be a little difficult to see the plot, due to scaling issues and\n",
        "relatively high variance. Let’s do the following:\n",
        "- Omit the first 10 data points, which are on a different scale than the rest of\n",
        "the curve.\n",
        "- Replace each point with an exponential moving average of the previous points,to obtain a smooth curve  \n",
        "i.e. point = previous point∗factor +point∗(1−factor) where factor is a value between 0 and 1.   \n",
        "  \n",
        "According to this plot, you can check when the validation MAE stops improving or becomes worst. Past the special point on the graph, the model starts overfitting."
      ],
      "metadata": {
        "id": "7YPL5PmKglND"
      }
    },
    {
      "cell_type": "code",
      "source": [
        "def exponential_moving_average(list_val, factor=0.5):\n",
        "    new_list = [list_val[0]]\n",
        "    for i in range(1,len(list_val)):\n",
        "        new_point = list_val[i-1]*factor + list_val[i]*(1-factor)\n",
        "        new_list.append(new_point)\n",
        "    return new_list"
      ],
      "metadata": {
        "id": "lsbyW9O7Kh8J"
      },
      "execution_count": null,
      "outputs": []
    },
    {
      "cell_type": "code",
      "source": [
        "x = np.arange(11,501)\n",
        "plt.figure()\n",
        "plt.plot(x, exponential_moving_average(mean_mae_val_score[10:]))\n",
        "plt.xlabel(\"Epochs\")\n",
        "plt.ylabel(\"Validation loss\")\n",
        "plt.title(\"Validation loss changing w.r.t epochs for the model.\")\n",
        "plt.show()"
      ],
      "metadata": {
        "colab": {
          "base_uri": "https://localhost:8080/",
          "height": 295
        },
        "id": "8n88yacKglND",
        "outputId": "d5cfe053-b9a0-4f5d-b7ea-ed5dfe20d301"
      },
      "execution_count": null,
      "outputs": [
        {
          "output_type": "display_data",
          "data": {
            "image/png": "[encoded data removed]",
            "text/plain": [
              "<Figure size 432x288 with 1 Axes>"
            ]
          },
          "metadata": {
            "needs_background": "light"
          }
        }
      ]
    },
    {
      "cell_type": "markdown",
      "source": [
        "<a name=\"house-exercice10\">\n",
        "\n",
        "### Exercice 10\n",
        "After finishing tuning other parameters of the model (in addition to\n",
        "the number of epochs, you could also adjust the size of the hidden layers), train a final production model on all of the training data, with the best parameters, and then look at its performance on the test data from the Exe. 1"
      ],
      "metadata": {
        "id": "IPNQg3Y9glNE"
      }
    },
    {
      "cell_type": "code",
      "source": [
        "def build_model():\n",
        "    model = keras.models.Sequential()\n",
        "    model.add(keras.layers.Dense(128, activation=\"relu\", input_shape=(13,)))\n",
        "    model.add(keras.layers.Dropout(0.5))\n",
        "    model.add(keras.layers.Dense(128, input_shape=(13,)))\n",
        "\n",
        "    model.compile(\n",
        "        optimizer=\"rmsprop\",\n",
        "        loss=\"mse\",\n",
        "        metrics=\"mae\"\n",
        "    )\n",
        "    return model\n",
        "\n",
        "model = build_model()\n",
        "model.summary()"
      ],
      "metadata": {
        "colab": {
          "base_uri": "https://localhost:8080/"
        },
        "id": "rl4QF-mCglNE",
        "outputId": "43f576ca-3759-4986-a17e-80b6728472d0"
      },
      "execution_count": null,
      "outputs": [
        {
          "output_type": "stream",
          "name": "stdout",
          "text": [
            "Model: \"sequential_32\"\n",
            "_________________________________________________________________\n",
            " Layer (type)                Output Shape              Param #   \n",
            "=================================================================\n",
            " dense_73 (Dense)            (None, 128)               1792      \n",
            "                                                                 \n",
            " dropout_6 (Dropout)         (None, 128)               0         \n",
            "                                                                 \n",
            " dense_74 (Dense)            (None, 128)               16512     \n",
            "                                                                 \n",
            "=================================================================\n",
            "Total params: 18,304\n",
            "Trainable params: 18,304\n",
            "Non-trainable params: 0\n",
            "_________________________________________________________________\n"
          ]
        }
      ]
    },
    {
      "cell_type": "code",
      "source": [
        "model.fit(train_data_scaled, train_targets, epochs=num_epochs)"
      ],
      "metadata": {
        "colab": {
          "base_uri": "https://localhost:8080/"
        },
        "id": "iECibmJEMD9z",
        "outputId": "36982d8a-b40f-4d7d-fa0c-1e0de753c3ee"
      },
      "execution_count": null,
      "outputs": [
        {
          "output_type": "stream",
          "name": "stdout",
          "text": [
            "Epoch 1/500\n",
            "13/13 [==============================] - 0s 4ms/step - loss: 27.2383 - mae: 3.8010\n",
            "Epoch 2/500\n",
            "13/13 [==============================] - 0s 3ms/step - loss: 28.2343 - mae: 3.9197\n",
            "Epoch 3/500\n",
            "13/13 [==============================] - 0s 3ms/step - loss: 28.9157 - mae: 4.0125\n",
            "Epoch 4/500\n",
            "13/13 [==============================] - 0s 3ms/step - loss: 27.7155 - mae: 3.8656\n",
            "Epoch 5/500\n",
            "13/13 [==============================] - 0s 4ms/step - loss: 26.7606 - mae: 3.7796\n",
            "Epoch 6/500\n",
            "13/13 [==============================] - 0s 4ms/step - loss: 26.2201 - mae: 3.6855\n",
            "Epoch 7/500\n",
            "13/13 [==============================] - 0s 4ms/step - loss: 23.1568 - mae: 3.5371\n",
            "Epoch 8/500\n",
            "13/13 [==============================] - 0s 3ms/step - loss: 26.7077 - mae: 3.6996\n",
            "Epoch 9/500\n",
            "13/13 [==============================] - 0s 4ms/step - loss: 27.8123 - mae: 3.8895\n",
            "Epoch 10/500\n",
            "13/13 [==============================] - 0s 3ms/step - loss: 21.3724 - mae: 3.4188\n",
            "Epoch 11/500\n",
            "13/13 [==============================] - 0s 3ms/step - loss: 24.2071 - mae: 3.6536\n",
            "Epoch 12/500\n",
            "13/13 [==============================] - 0s 4ms/step - loss: 26.3270 - mae: 3.7763\n",
            "Epoch 13/500\n",
            "13/13 [==============================] - 0s 4ms/step - loss: 25.5518 - mae: 3.6934\n",
            "Epoch 14/500\n",
            "13/13 [==============================] - 0s 7ms/step - loss: 24.0302 - mae: 3.5582\n",
            "Epoch 15/500\n",
            "13/13 [==============================] - 0s 4ms/step - loss: 21.9825 - mae: 3.5052\n",
            "Epoch 16/500\n",
            "13/13 [==============================] - 0s 6ms/step - loss: 23.4633 - mae: 3.5181\n",
            "Epoch 17/500\n",
            "13/13 [==============================] - 0s 5ms/step - loss: 22.1939 - mae: 3.5312\n",
            "Epoch 18/500\n",
            "13/13 [==============================] - 0s 3ms/step - loss: 21.4701 - mae: 3.4713\n",
            "Epoch 19/500\n",
            "13/13 [==============================] - 0s 2ms/step - loss: 20.2104 - mae: 3.2997\n",
            "Epoch 20/500\n",
            "13/13 [==============================] - 0s 2ms/step - loss: 24.2863 - mae: 3.5230\n",
            "Epoch 21/500\n",
            "13/13 [==============================] - 0s 2ms/step - loss: 23.3647 - mae: 3.5977\n",
            "Epoch 22/500\n",
            "13/13 [==============================] - 0s 2ms/step - loss: 19.5154 - mae: 3.1934\n",
            "Epoch 23/500\n",
            "13/13 [==============================] - 0s 3ms/step - loss: 23.7439 - mae: 3.6150\n",
            "Epoch 24/500\n",
            "13/13 [==============================] - 0s 3ms/step - loss: 21.5685 - mae: 3.3301\n",
            "Epoch 25/500\n",
            "13/13 [==============================] - 0s 2ms/step - loss: 22.6753 - mae: 3.4900\n",
            "Epoch 26/500\n",
            "13/13 [==============================] - 0s 3ms/step - loss: 18.6196 - mae: 3.2061\n",
            "Epoch 27/500\n",
            "13/13 [==============================] - 0s 2ms/step - loss: 21.6637 - mae: 3.4906\n",
            "Epoch 28/500\n",
            "13/13 [==============================] - 0s 3ms/step - loss: 21.5368 - mae: 3.4148\n",
            "Epoch 29/500\n",
            "13/13 [==============================] - 0s 2ms/step - loss: 24.5096 - mae: 3.4940\n",
            "Epoch 30/500\n",
            "13/13 [==============================] - 0s 3ms/step - loss: 19.9745 - mae: 3.2527\n",
            "Epoch 31/500\n",
            "13/13 [==============================] - 0s 2ms/step - loss: 18.7899 - mae: 3.2636\n",
            "Epoch 32/500\n",
            "13/13 [==============================] - 0s 2ms/step - loss: 18.8364 - mae: 3.2550\n",
            "Epoch 33/500\n",
            "13/13 [==============================] - 0s 2ms/step - loss: 23.4434 - mae: 3.4399\n",
            "Epoch 34/500\n",
            "13/13 [==============================] - 0s 2ms/step - loss: 19.7740 - mae: 3.2683\n",
            "Epoch 35/500\n",
            "13/13 [==============================] - 0s 2ms/step - loss: 19.6242 - mae: 3.2425\n",
            "Epoch 36/500\n",
            "13/13 [==============================] - 0s 2ms/step - loss: 18.0900 - mae: 3.1670\n",
            "Epoch 37/500\n",
            "13/13 [==============================] - 0s 3ms/step - loss: 19.1567 - mae: 3.2036\n",
            "Epoch 38/500\n",
            "13/13 [==============================] - 0s 3ms/step - loss: 22.1432 - mae: 3.3537\n",
            "Epoch 39/500\n",
            "13/13 [==============================] - 0s 3ms/step - loss: 19.8857 - mae: 3.2242\n",
            "Epoch 40/500\n",
            "13/13 [==============================] - 0s 2ms/step - loss: 17.8877 - mae: 3.1020\n",
            "Epoch 41/500\n",
            "13/13 [==============================] - 0s 3ms/step - loss: 17.7992 - mae: 3.0710\n",
            "Epoch 42/500\n",
            "13/13 [==============================] - 0s 3ms/step - loss: 16.8575 - mae: 3.0091\n",
            "Epoch 43/500\n",
            "13/13 [==============================] - 0s 3ms/step - loss: 19.6048 - mae: 3.0996\n",
            "Epoch 44/500\n",
            "13/13 [==============================] - 0s 2ms/step - loss: 19.4944 - mae: 3.2188\n",
            "Epoch 45/500\n",
            "13/13 [==============================] - 0s 2ms/step - loss: 19.8518 - mae: 3.2335\n",
            "Epoch 46/500\n",
            "13/13 [==============================] - 0s 2ms/step - loss: 21.5413 - mae: 3.3858\n",
            "Epoch 47/500\n",
            "13/13 [==============================] - 0s 2ms/step - loss: 17.8918 - mae: 3.0879\n",
            "Epoch 48/500\n",
            "13/13 [==============================] - 0s 3ms/step - loss: 18.7507 - mae: 3.1761\n",
            "Epoch 49/500\n",
            "13/13 [==============================] - 0s 2ms/step - loss: 18.2989 - mae: 3.1122\n",
            "Epoch 50/500\n",
            "13/13 [==============================] - 0s 3ms/step - loss: 20.1905 - mae: 3.1950\n",
            "Epoch 51/500\n",
            "13/13 [==============================] - 0s 3ms/step - loss: 20.2154 - mae: 3.2067\n",
            "Epoch 52/500\n",
            "13/13 [==============================] - 0s 2ms/step - loss: 17.6614 - mae: 3.0673\n",
            "Epoch 53/500\n",
            "13/13 [==============================] - 0s 2ms/step - loss: 22.0838 - mae: 3.3938\n",
            "Epoch 54/500\n",
            "13/13 [==============================] - 0s 2ms/step - loss: 17.7406 - mae: 3.1155\n",
            "Epoch 55/500\n",
            "13/13 [==============================] - 0s 3ms/step - loss: 17.3855 - mae: 3.1080\n",
            "Epoch 56/500\n",
            "13/13 [==============================] - 0s 3ms/step - loss: 19.0116 - mae: 3.1852\n",
            "Epoch 57/500\n",
            "13/13 [==============================] - 0s 2ms/step - loss: 17.5290 - mae: 3.1071\n",
            "Epoch 58/500\n",
            "13/13 [==============================] - 0s 3ms/step - loss: 19.0948 - mae: 3.2660\n",
            "Epoch 59/500\n",
            "13/13 [==============================] - 0s 2ms/step - loss: 19.6110 - mae: 3.1811\n",
            "Epoch 60/500\n",
            "13/13 [==============================] - 0s 2ms/step - loss: 15.6888 - mae: 2.9174\n",
            "Epoch 61/500\n",
            "13/13 [==============================] - 0s 2ms/step - loss: 17.7176 - mae: 3.0247\n",
            "Epoch 62/500\n",
            "13/13 [==============================] - 0s 2ms/step - loss: 17.1624 - mae: 3.1056\n",
            "Epoch 63/500\n",
            "13/13 [==============================] - 0s 2ms/step - loss: 18.3245 - mae: 3.1252\n",
            "Epoch 64/500\n",
            "13/13 [==============================] - 0s 3ms/step - loss: 17.3731 - mae: 3.1067\n",
            "Epoch 65/500\n",
            "13/13 [==============================] - 0s 2ms/step - loss: 18.4527 - mae: 3.1643\n",
            "Epoch 66/500\n",
            "13/13 [==============================] - 0s 2ms/step - loss: 18.2258 - mae: 3.1520\n",
            "Epoch 67/500\n",
            "13/13 [==============================] - 0s 2ms/step - loss: 17.6572 - mae: 3.1442\n",
            "Epoch 68/500\n",
            "13/13 [==============================] - 0s 2ms/step - loss: 18.2932 - mae: 3.0387\n",
            "Epoch 69/500\n",
            "13/13 [==============================] - 0s 2ms/step - loss: 18.9854 - mae: 3.0199\n",
            "Epoch 70/500\n",
            "13/13 [==============================] - 0s 2ms/step - loss: 17.2303 - mae: 3.1106\n",
            "Epoch 71/500\n",
            "13/13 [==============================] - 0s 3ms/step - loss: 18.8560 - mae: 3.1287\n",
            "Epoch 72/500\n",
            "13/13 [==============================] - 0s 3ms/step - loss: 17.1514 - mae: 2.9887\n",
            "Epoch 73/500\n",
            "13/13 [==============================] - 0s 2ms/step - loss: 18.9792 - mae: 3.1298\n",
            "Epoch 74/500\n",
            "13/13 [==============================] - 0s 2ms/step - loss: 16.2609 - mae: 2.9548\n",
            "Epoch 75/500\n",
            "13/13 [==============================] - 0s 2ms/step - loss: 16.9950 - mae: 3.0138\n",
            "Epoch 76/500\n",
            "13/13 [==============================] - 0s 2ms/step - loss: 17.7583 - mae: 3.0989\n",
            "Epoch 77/500\n",
            "13/13 [==============================] - 0s 3ms/step - loss: 17.1792 - mae: 3.0532\n",
            "Epoch 78/500\n",
            "13/13 [==============================] - 0s 2ms/step - loss: 16.9626 - mae: 3.0491\n",
            "Epoch 79/500\n",
            "13/13 [==============================] - 0s 2ms/step - loss: 16.9488 - mae: 3.0775\n",
            "Epoch 80/500\n",
            "13/13 [==============================] - 0s 2ms/step - loss: 20.6094 - mae: 3.3004\n",
            "Epoch 81/500\n",
            "13/13 [==============================] - 0s 2ms/step - loss: 18.4593 - mae: 3.0531\n",
            "Epoch 82/500\n",
            "13/13 [==============================] - 0s 3ms/step - loss: 18.7062 - mae: 3.0265\n",
            "Epoch 83/500\n",
            "13/13 [==============================] - 0s 2ms/step - loss: 17.7016 - mae: 3.0131\n",
            "Epoch 84/500\n",
            "13/13 [==============================] - 0s 2ms/step - loss: 20.7014 - mae: 3.2373\n",
            "Epoch 85/500\n",
            "13/13 [==============================] - 0s 3ms/step - loss: 16.1156 - mae: 2.8731\n",
            "Epoch 86/500\n",
            "13/13 [==============================] - 0s 2ms/step - loss: 15.8692 - mae: 2.9838\n",
            "Epoch 87/500\n",
            "13/13 [==============================] - 0s 3ms/step - loss: 16.7528 - mae: 3.0743\n",
            "Epoch 88/500\n",
            "13/13 [==============================] - 0s 2ms/step - loss: 17.4433 - mae: 3.0744\n",
            "Epoch 89/500\n",
            "13/13 [==============================] - 0s 2ms/step - loss: 19.1521 - mae: 3.2609\n",
            "Epoch 90/500\n",
            "13/13 [==============================] - 0s 2ms/step - loss: 16.8519 - mae: 3.0671\n",
            "Epoch 91/500\n",
            "13/13 [==============================] - 0s 2ms/step - loss: 16.8508 - mae: 3.1254\n",
            "Epoch 92/500\n",
            "13/13 [==============================] - 0s 2ms/step - loss: 16.4762 - mae: 2.9512\n",
            "Epoch 93/500\n",
            "13/13 [==============================] - 0s 2ms/step - loss: 15.6502 - mae: 2.8968\n",
            "Epoch 94/500\n",
            "13/13 [==============================] - 0s 2ms/step - loss: 17.6325 - mae: 3.0874\n",
            "Epoch 95/500\n",
            "13/13 [==============================] - 0s 2ms/step - loss: 14.9108 - mae: 2.8931\n",
            "Epoch 96/500\n",
            "13/13 [==============================] - 0s 3ms/step - loss: 16.3846 - mae: 2.9941\n",
            "Epoch 97/500\n",
            "13/13 [==============================] - 0s 3ms/step - loss: 13.8222 - mae: 2.8057\n",
            "Epoch 98/500\n",
            "13/13 [==============================] - 0s 3ms/step - loss: 14.3253 - mae: 2.9125\n",
            "Epoch 99/500\n",
            "13/13 [==============================] - 0s 3ms/step - loss: 14.8276 - mae: 2.9563\n",
            "Epoch 100/500\n",
            "13/13 [==============================] - 0s 3ms/step - loss: 16.2892 - mae: 2.8948\n",
            "Epoch 101/500\n",
            "13/13 [==============================] - 0s 2ms/step - loss: 16.8316 - mae: 3.0224\n",
            "Epoch 102/500\n",
            "13/13 [==============================] - 0s 3ms/step - loss: 16.2291 - mae: 3.0245\n",
            "Epoch 103/500\n",
            "13/13 [==============================] - 0s 2ms/step - loss: 17.3663 - mae: 2.9817\n",
            "Epoch 104/500\n",
            "13/13 [==============================] - 0s 3ms/step - loss: 15.2710 - mae: 3.0165\n",
            "Epoch 105/500\n",
            "13/13 [==============================] - 0s 2ms/step - loss: 17.5404 - mae: 3.0436\n",
            "Epoch 106/500\n",
            "13/13 [==============================] - 0s 3ms/step - loss: 15.4068 - mae: 2.8389\n",
            "Epoch 107/500\n",
            "13/13 [==============================] - 0s 3ms/step - loss: 17.1044 - mae: 3.0642\n",
            "Epoch 108/500\n",
            "13/13 [==============================] - 0s 2ms/step - loss: 14.4174 - mae: 2.8325\n",
            "Epoch 109/500\n",
            "13/13 [==============================] - 0s 2ms/step - loss: 15.9146 - mae: 2.9972\n",
            "Epoch 110/500\n",
            "13/13 [==============================] - 0s 2ms/step - loss: 16.2463 - mae: 3.0365\n",
            "Epoch 111/500\n",
            "13/13 [==============================] - 0s 2ms/step - loss: 16.6657 - mae: 3.0185\n",
            "Epoch 112/500\n",
            "13/13 [==============================] - 0s 3ms/step - loss: 16.1913 - mae: 2.9325\n",
            "Epoch 113/500\n",
            "13/13 [==============================] - 0s 2ms/step - loss: 14.9178 - mae: 2.8327\n",
            "Epoch 114/500\n",
            "13/13 [==============================] - 0s 2ms/step - loss: 15.4084 - mae: 2.9106\n",
            "Epoch 115/500\n",
            "13/13 [==============================] - 0s 2ms/step - loss: 17.4852 - mae: 3.1566\n",
            "Epoch 116/500\n",
            "13/13 [==============================] - 0s 2ms/step - loss: 15.6339 - mae: 2.8674\n",
            "Epoch 117/500\n",
            "13/13 [==============================] - 0s 2ms/step - loss: 13.4916 - mae: 2.7477\n",
            "Epoch 118/500\n",
            "13/13 [==============================] - 0s 2ms/step - loss: 16.8638 - mae: 3.0603\n",
            "Epoch 119/500\n",
            "13/13 [==============================] - 0s 3ms/step - loss: 16.9075 - mae: 3.0751\n",
            "Epoch 120/500\n",
            "13/13 [==============================] - 0s 2ms/step - loss: 17.5486 - mae: 3.0829\n",
            "Epoch 121/500\n",
            "13/13 [==============================] - 0s 2ms/step - loss: 17.2858 - mae: 3.0721\n",
            "Epoch 122/500\n",
            "13/13 [==============================] - 0s 3ms/step - loss: 15.5269 - mae: 2.8881\n",
            "Epoch 123/500\n",
            "13/13 [==============================] - 0s 2ms/step - loss: 16.9325 - mae: 2.9950\n",
            "Epoch 124/500\n",
            "13/13 [==============================] - 0s 3ms/step - loss: 16.5830 - mae: 2.9002\n",
            "Epoch 125/500\n",
            "13/13 [==============================] - 0s 3ms/step - loss: 16.3422 - mae: 2.9904\n",
            "Epoch 126/500\n",
            "13/13 [==============================] - 0s 2ms/step - loss: 15.6031 - mae: 2.9054\n",
            "Epoch 127/500\n",
            "13/13 [==============================] - 0s 3ms/step - loss: 14.5724 - mae: 2.8291\n",
            "Epoch 128/500\n",
            "13/13 [==============================] - 0s 2ms/step - loss: 15.1950 - mae: 2.8952\n",
            "Epoch 129/500\n",
            "13/13 [==============================] - 0s 2ms/step - loss: 15.7532 - mae: 2.8832\n",
            "Epoch 130/500\n",
            "13/13 [==============================] - 0s 2ms/step - loss: 14.6645 - mae: 2.9202\n",
            "Epoch 131/500\n",
            "13/13 [==============================] - 0s 3ms/step - loss: 18.5910 - mae: 3.1438\n",
            "Epoch 132/500\n",
            "13/13 [==============================] - 0s 3ms/step - loss: 13.3133 - mae: 2.7557\n",
            "Epoch 133/500\n",
            "13/13 [==============================] - 0s 3ms/step - loss: 14.2459 - mae: 2.8870\n",
            "Epoch 134/500\n",
            "13/13 [==============================] - 0s 2ms/step - loss: 15.8226 - mae: 2.8944\n",
            "Epoch 135/500\n",
            "13/13 [==============================] - 0s 2ms/step - loss: 17.1592 - mae: 3.0309\n",
            "Epoch 136/500\n",
            "13/13 [==============================] - 0s 3ms/step - loss: 14.4336 - mae: 2.8614\n",
            "Epoch 137/500\n",
            "13/13 [==============================] - 0s 2ms/step - loss: 15.9499 - mae: 2.9450\n",
            "Epoch 138/500\n",
            "13/13 [==============================] - 0s 2ms/step - loss: 17.6222 - mae: 3.0499\n",
            "Epoch 139/500\n",
            "13/13 [==============================] - 0s 2ms/step - loss: 16.5340 - mae: 2.9494\n",
            "Epoch 140/500\n",
            "13/13 [==============================] - 0s 2ms/step - loss: 15.4165 - mae: 2.9834\n",
            "Epoch 141/500\n",
            "13/13 [==============================] - 0s 3ms/step - loss: 16.4918 - mae: 3.0359\n",
            "Epoch 142/500\n",
            "13/13 [==============================] - 0s 2ms/step - loss: 15.8159 - mae: 2.9223\n",
            "Epoch 143/500\n",
            "13/13 [==============================] - 0s 3ms/step - loss: 14.1558 - mae: 2.7391\n",
            "Epoch 144/500\n",
            "13/13 [==============================] - 0s 2ms/step - loss: 15.0730 - mae: 2.9241\n",
            "Epoch 145/500\n",
            "13/13 [==============================] - 0s 2ms/step - loss: 15.8879 - mae: 2.8987\n",
            "Epoch 146/500\n",
            "13/13 [==============================] - 0s 2ms/step - loss: 15.0836 - mae: 2.8827\n",
            "Epoch 147/500\n",
            "13/13 [==============================] - 0s 3ms/step - loss: 16.4039 - mae: 3.0828\n",
            "Epoch 148/500\n",
            "13/13 [==============================] - 0s 2ms/step - loss: 14.7495 - mae: 2.8318\n",
            "Epoch 149/500\n",
            "13/13 [==============================] - 0s 3ms/step - loss: 16.8123 - mae: 3.0776\n",
            "Epoch 150/500\n",
            "13/13 [==============================] - 0s 2ms/step - loss: 14.0765 - mae: 2.9276\n",
            "Epoch 151/500\n",
            "13/13 [==============================] - 0s 3ms/step - loss: 13.9740 - mae: 2.7404\n",
            "Epoch 152/500\n",
            "13/13 [==============================] - 0s 2ms/step - loss: 15.5660 - mae: 2.9729\n",
            "Epoch 153/500\n",
            "13/13 [==============================] - 0s 2ms/step - loss: 14.7068 - mae: 2.8414\n",
            "Epoch 154/500\n",
            "13/13 [==============================] - 0s 2ms/step - loss: 15.6572 - mae: 2.8324\n",
            "Epoch 155/500\n",
            "13/13 [==============================] - 0s 2ms/step - loss: 15.0968 - mae: 2.7815\n",
            "Epoch 156/500\n",
            "13/13 [==============================] - 0s 3ms/step - loss: 15.3636 - mae: 2.9782\n",
            "Epoch 157/500\n",
            "13/13 [==============================] - 0s 3ms/step - loss: 14.6687 - mae: 2.8910\n",
            "Epoch 158/500\n",
            "13/13 [==============================] - 0s 4ms/step - loss: 11.8361 - mae: 2.6016\n",
            "Epoch 159/500\n",
            "13/13 [==============================] - 0s 3ms/step - loss: 15.0757 - mae: 2.9173\n",
            "Epoch 160/500\n",
            "13/13 [==============================] - 0s 3ms/step - loss: 14.9815 - mae: 2.8761\n",
            "Epoch 161/500\n",
            "13/13 [==============================] - 0s 2ms/step - loss: 15.4477 - mae: 2.9111\n",
            "Epoch 162/500\n",
            "13/13 [==============================] - 0s 2ms/step - loss: 14.5827 - mae: 2.8993\n",
            "Epoch 163/500\n",
            "13/13 [==============================] - 0s 2ms/step - loss: 17.6120 - mae: 3.0388\n",
            "Epoch 164/500\n",
            "13/13 [==============================] - 0s 2ms/step - loss: 15.6444 - mae: 2.9014\n",
            "Epoch 165/500\n",
            "13/13 [==============================] - 0s 2ms/step - loss: 15.6402 - mae: 2.8986\n",
            "Epoch 166/500\n",
            "13/13 [==============================] - 0s 2ms/step - loss: 15.9380 - mae: 3.0562\n",
            "Epoch 167/500\n",
            "13/13 [==============================] - 0s 2ms/step - loss: 14.8546 - mae: 2.9528\n",
            "Epoch 168/500\n",
            "13/13 [==============================] - 0s 2ms/step - loss: 13.4274 - mae: 2.7111\n",
            "Epoch 169/500\n",
            "13/13 [==============================] - 0s 2ms/step - loss: 14.2065 - mae: 2.8461\n",
            "Epoch 170/500\n",
            "13/13 [==============================] - 0s 2ms/step - loss: 16.1552 - mae: 2.9909\n",
            "Epoch 171/500\n",
            "13/13 [==============================] - 0s 3ms/step - loss: 15.2547 - mae: 2.8559\n",
            "Epoch 172/500\n",
            "13/13 [==============================] - 0s 2ms/step - loss: 15.8871 - mae: 2.9634\n",
            "Epoch 173/500\n",
            "13/13 [==============================] - 0s 2ms/step - loss: 15.8154 - mae: 3.0115\n",
            "Epoch 174/500\n",
            "13/13 [==============================] - 0s 3ms/step - loss: 16.8727 - mae: 3.0142\n",
            "Epoch 175/500\n",
            "13/13 [==============================] - 0s 2ms/step - loss: 14.1896 - mae: 2.8715\n",
            "Epoch 176/500\n",
            "13/13 [==============================] - 0s 2ms/step - loss: 14.9440 - mae: 2.8818\n",
            "Epoch 177/500\n",
            "13/13 [==============================] - 0s 2ms/step - loss: 16.7226 - mae: 2.9088\n",
            "Epoch 178/500\n",
            "13/13 [==============================] - 0s 2ms/step - loss: 15.2654 - mae: 2.8951\n",
            "Epoch 179/500\n",
            "13/13 [==============================] - 0s 2ms/step - loss: 13.8364 - mae: 2.8239\n",
            "Epoch 180/500\n",
            "13/13 [==============================] - 0s 3ms/step - loss: 14.6426 - mae: 2.8263\n",
            "Epoch 181/500\n",
            "13/13 [==============================] - 0s 2ms/step - loss: 14.3177 - mae: 2.8096\n",
            "Epoch 182/500\n",
            "13/13 [==============================] - 0s 3ms/step - loss: 14.1836 - mae: 2.8284\n",
            "Epoch 183/500\n",
            "13/13 [==============================] - 0s 3ms/step - loss: 14.6653 - mae: 2.8815\n",
            "Epoch 184/500\n",
            "13/13 [==============================] - 0s 2ms/step - loss: 15.4361 - mae: 2.9032\n",
            "Epoch 185/500\n",
            "13/13 [==============================] - 0s 3ms/step - loss: 15.2787 - mae: 2.9106\n",
            "Epoch 186/500\n",
            "13/13 [==============================] - 0s 3ms/step - loss: 13.8642 - mae: 2.7809\n",
            "Epoch 187/500\n",
            "13/13 [==============================] - 0s 2ms/step - loss: 14.8214 - mae: 2.8856\n",
            "Epoch 188/500\n",
            "13/13 [==============================] - 0s 3ms/step - loss: 15.8623 - mae: 2.7858\n",
            "Epoch 189/500\n",
            "13/13 [==============================] - 0s 2ms/step - loss: 15.1737 - mae: 2.9092\n",
            "Epoch 190/500\n",
            "13/13 [==============================] - 0s 2ms/step - loss: 14.0521 - mae: 2.7778\n",
            "Epoch 191/500\n",
            "13/13 [==============================] - 0s 3ms/step - loss: 14.3513 - mae: 2.7518\n",
            "Epoch 192/500\n",
            "13/13 [==============================] - 0s 2ms/step - loss: 13.2574 - mae: 2.7279\n",
            "Epoch 193/500\n",
            "13/13 [==============================] - 0s 2ms/step - loss: 15.1376 - mae: 2.9451\n",
            "Epoch 194/500\n",
            "13/13 [==============================] - 0s 3ms/step - loss: 14.5575 - mae: 2.8686\n",
            "Epoch 195/500\n",
            "13/13 [==============================] - 0s 3ms/step - loss: 14.5430 - mae: 2.8478\n",
            "Epoch 196/500\n",
            "13/13 [==============================] - 0s 2ms/step - loss: 17.3304 - mae: 2.9886\n",
            "Epoch 197/500\n",
            "13/13 [==============================] - 0s 3ms/step - loss: 15.1125 - mae: 2.9708\n",
            "Epoch 198/500\n",
            "13/13 [==============================] - 0s 2ms/step - loss: 14.7028 - mae: 2.8078\n",
            "Epoch 199/500\n",
            "13/13 [==============================] - 0s 2ms/step - loss: 16.5732 - mae: 2.9691\n",
            "Epoch 200/500\n",
            "13/13 [==============================] - 0s 3ms/step - loss: 14.5473 - mae: 2.6672\n",
            "Epoch 201/500\n",
            "13/13 [==============================] - 0s 2ms/step - loss: 15.4703 - mae: 2.8588\n",
            "Epoch 202/500\n",
            "13/13 [==============================] - 0s 3ms/step - loss: 15.1647 - mae: 2.8168\n",
            "Epoch 203/500\n",
            "13/13 [==============================] - 0s 2ms/step - loss: 14.2621 - mae: 2.8697\n",
            "Epoch 204/500\n",
            "13/13 [==============================] - 0s 2ms/step - loss: 12.8520 - mae: 2.7178\n",
            "Epoch 205/500\n",
            "13/13 [==============================] - 0s 2ms/step - loss: 13.2419 - mae: 2.7989\n",
            "Epoch 206/500\n",
            "13/13 [==============================] - 0s 2ms/step - loss: 15.3281 - mae: 2.9178\n",
            "Epoch 207/500\n",
            "13/13 [==============================] - 0s 3ms/step - loss: 15.1718 - mae: 2.7697\n",
            "Epoch 208/500\n",
            "13/13 [==============================] - 0s 2ms/step - loss: 15.3406 - mae: 2.8740\n",
            "Epoch 209/500\n",
            "13/13 [==============================] - 0s 2ms/step - loss: 15.7174 - mae: 2.8679\n",
            "Epoch 210/500\n",
            "13/13 [==============================] - 0s 2ms/step - loss: 15.2121 - mae: 2.8812\n",
            "Epoch 211/500\n",
            "13/13 [==============================] - 0s 2ms/step - loss: 15.6991 - mae: 2.8844\n",
            "Epoch 212/500\n",
            "13/13 [==============================] - 0s 3ms/step - loss: 15.0514 - mae: 2.8456\n",
            "Epoch 213/500\n",
            "13/13 [==============================] - 0s 2ms/step - loss: 11.8251 - mae: 2.6045\n",
            "Epoch 214/500\n",
            "13/13 [==============================] - 0s 3ms/step - loss: 12.9075 - mae: 2.6834\n",
            "Epoch 215/500\n",
            "13/13 [==============================] - 0s 3ms/step - loss: 14.2761 - mae: 2.7604\n",
            "Epoch 216/500\n",
            "13/13 [==============================] - 0s 2ms/step - loss: 15.9099 - mae: 2.9520\n",
            "Epoch 217/500\n",
            "13/13 [==============================] - 0s 2ms/step - loss: 14.2187 - mae: 2.7994\n",
            "Epoch 218/500\n",
            "13/13 [==============================] - 0s 2ms/step - loss: 15.5086 - mae: 2.9370\n",
            "Epoch 219/500\n",
            "13/13 [==============================] - 0s 2ms/step - loss: 14.9535 - mae: 2.8014\n",
            "Epoch 220/500\n",
            "13/13 [==============================] - 0s 3ms/step - loss: 14.8238 - mae: 2.8134\n",
            "Epoch 221/500\n",
            "13/13 [==============================] - 0s 2ms/step - loss: 12.9960 - mae: 2.5972\n",
            "Epoch 222/500\n",
            "13/13 [==============================] - 0s 2ms/step - loss: 15.2060 - mae: 2.8487\n",
            "Epoch 223/500\n",
            "13/13 [==============================] - 0s 2ms/step - loss: 15.3209 - mae: 2.8417\n",
            "Epoch 224/500\n",
            "13/13 [==============================] - 0s 3ms/step - loss: 12.6794 - mae: 2.6428\n",
            "Epoch 225/500\n",
            "13/13 [==============================] - 0s 2ms/step - loss: 16.3117 - mae: 3.0184\n",
            "Epoch 226/500\n",
            "13/13 [==============================] - 0s 3ms/step - loss: 15.0532 - mae: 2.8960\n",
            "Epoch 227/500\n",
            "13/13 [==============================] - 0s 2ms/step - loss: 13.7720 - mae: 2.7948\n",
            "Epoch 228/500\n",
            "13/13 [==============================] - 0s 2ms/step - loss: 15.9965 - mae: 2.9357\n",
            "Epoch 229/500\n",
            "13/13 [==============================] - 0s 2ms/step - loss: 12.9930 - mae: 2.6810\n",
            "Epoch 230/500\n",
            "13/13 [==============================] - 0s 5ms/step - loss: 13.8444 - mae: 2.7765\n",
            "Epoch 231/500\n",
            "13/13 [==============================] - 0s 3ms/step - loss: 13.3159 - mae: 2.7110\n",
            "Epoch 232/500\n",
            "13/13 [==============================] - 0s 3ms/step - loss: 13.7501 - mae: 2.7783\n",
            "Epoch 233/500\n",
            "13/13 [==============================] - 0s 3ms/step - loss: 15.4383 - mae: 2.8131\n",
            "Epoch 234/500\n",
            "13/13 [==============================] - 0s 3ms/step - loss: 14.0355 - mae: 2.7120\n",
            "Epoch 235/500\n",
            "13/13 [==============================] - 0s 3ms/step - loss: 16.2075 - mae: 2.8290\n",
            "Epoch 236/500\n",
            "13/13 [==============================] - 0s 2ms/step - loss: 14.7651 - mae: 2.8216\n",
            "Epoch 237/500\n",
            "13/13 [==============================] - 0s 2ms/step - loss: 14.7018 - mae: 2.8195\n",
            "Epoch 238/500\n",
            "13/13 [==============================] - 0s 2ms/step - loss: 13.7987 - mae: 2.7720\n",
            "Epoch 239/500\n",
            "13/13 [==============================] - 0s 2ms/step - loss: 14.2942 - mae: 2.7509\n",
            "Epoch 240/500\n",
            "13/13 [==============================] - 0s 3ms/step - loss: 15.4488 - mae: 2.9015\n",
            "Epoch 241/500\n",
            "13/13 [==============================] - 0s 2ms/step - loss: 15.6527 - mae: 2.8405\n",
            "Epoch 242/500\n",
            "13/13 [==============================] - 0s 3ms/step - loss: 16.5834 - mae: 2.9074\n",
            "Epoch 243/500\n",
            "13/13 [==============================] - 0s 3ms/step - loss: 14.8129 - mae: 2.9095\n",
            "Epoch 244/500\n",
            "13/13 [==============================] - 0s 2ms/step - loss: 14.5072 - mae: 2.8753\n",
            "Epoch 245/500\n",
            "13/13 [==============================] - 0s 3ms/step - loss: 15.0141 - mae: 2.8506\n",
            "Epoch 246/500\n",
            "13/13 [==============================] - 0s 3ms/step - loss: 13.6247 - mae: 2.6618\n",
            "Epoch 247/500\n",
            "13/13 [==============================] - 0s 3ms/step - loss: 12.5019 - mae: 2.6396\n",
            "Epoch 248/500\n",
            "13/13 [==============================] - 0s 3ms/step - loss: 14.4147 - mae: 2.8075\n",
            "Epoch 249/500\n",
            "13/13 [==============================] - 0s 3ms/step - loss: 13.6530 - mae: 2.6645\n",
            "Epoch 250/500\n",
            "13/13 [==============================] - 0s 3ms/step - loss: 15.3268 - mae: 2.7919\n",
            "Epoch 251/500\n",
            "13/13 [==============================] - 0s 2ms/step - loss: 13.1293 - mae: 2.7072\n",
            "Epoch 252/500\n",
            "13/13 [==============================] - 0s 2ms/step - loss: 15.1169 - mae: 2.8815\n",
            "Epoch 253/500\n",
            "13/13 [==============================] - 0s 3ms/step - loss: 14.0972 - mae: 2.7901\n",
            "Epoch 254/500\n",
            "13/13 [==============================] - 0s 3ms/step - loss: 13.6225 - mae: 2.7655\n",
            "Epoch 255/500\n",
            "13/13 [==============================] - 0s 3ms/step - loss: 13.2902 - mae: 2.6630\n",
            "Epoch 256/500\n",
            "13/13 [==============================] - 0s 3ms/step - loss: 13.5880 - mae: 2.6709\n",
            "Epoch 257/500\n",
            "13/13 [==============================] - 0s 3ms/step - loss: 14.1159 - mae: 2.8235\n",
            "Epoch 258/500\n",
            "13/13 [==============================] - 0s 2ms/step - loss: 13.3875 - mae: 2.7962\n",
            "Epoch 259/500\n",
            "13/13 [==============================] - 0s 3ms/step - loss: 15.2147 - mae: 2.9030\n",
            "Epoch 260/500\n",
            "13/13 [==============================] - 0s 3ms/step - loss: 14.5465 - mae: 2.8499\n",
            "Epoch 261/500\n",
            "13/13 [==============================] - 0s 2ms/step - loss: 14.8815 - mae: 2.8492\n",
            "Epoch 262/500\n",
            "13/13 [==============================] - 0s 3ms/step - loss: 14.5269 - mae: 2.8105\n",
            "Epoch 263/500\n",
            "13/13 [==============================] - 0s 2ms/step - loss: 15.9235 - mae: 2.9042\n",
            "Epoch 264/500\n",
            "13/13 [==============================] - 0s 2ms/step - loss: 12.3158 - mae: 2.6027\n",
            "Epoch 265/500\n",
            "13/13 [==============================] - 0s 3ms/step - loss: 14.8713 - mae: 2.8345\n",
            "Epoch 266/500\n",
            "13/13 [==============================] - 0s 3ms/step - loss: 15.4650 - mae: 2.8276\n",
            "Epoch 267/500\n",
            "13/13 [==============================] - 0s 3ms/step - loss: 14.1826 - mae: 2.6872\n",
            "Epoch 268/500\n",
            "13/13 [==============================] - 0s 2ms/step - loss: 14.1852 - mae: 2.6902\n",
            "Epoch 269/500\n",
            "13/13 [==============================] - 0s 2ms/step - loss: 13.9436 - mae: 2.8119\n",
            "Epoch 270/500\n",
            "13/13 [==============================] - 0s 4ms/step - loss: 14.3045 - mae: 2.7732\n",
            "Epoch 271/500\n",
            "13/13 [==============================] - 0s 3ms/step - loss: 16.2421 - mae: 2.8371\n",
            "Epoch 272/500\n",
            "13/13 [==============================] - 0s 3ms/step - loss: 15.6932 - mae: 2.8536\n",
            "Epoch 273/500\n",
            "13/13 [==============================] - 0s 2ms/step - loss: 14.3932 - mae: 2.7577\n",
            "Epoch 274/500\n",
            "13/13 [==============================] - 0s 2ms/step - loss: 13.6947 - mae: 2.7616\n",
            "Epoch 275/500\n",
            "13/13 [==============================] - 0s 3ms/step - loss: 15.2906 - mae: 2.8634\n",
            "Epoch 276/500\n",
            "13/13 [==============================] - 0s 3ms/step - loss: 15.8947 - mae: 2.9244\n",
            "Epoch 277/500\n",
            "13/13 [==============================] - 0s 3ms/step - loss: 13.1404 - mae: 2.6367\n",
            "Epoch 278/500\n",
            "13/13 [==============================] - 0s 2ms/step - loss: 15.3101 - mae: 2.8803\n",
            "Epoch 279/500\n",
            "13/13 [==============================] - 0s 3ms/step - loss: 15.4145 - mae: 2.8298\n",
            "Epoch 280/500\n",
            "13/13 [==============================] - 0s 3ms/step - loss: 14.1041 - mae: 2.7913\n",
            "Epoch 281/500\n",
            "13/13 [==============================] - 0s 2ms/step - loss: 14.4005 - mae: 2.8009\n",
            "Epoch 282/500\n",
            "13/13 [==============================] - 0s 3ms/step - loss: 14.6282 - mae: 2.8049\n",
            "Epoch 283/500\n",
            "13/13 [==============================] - 0s 3ms/step - loss: 13.5302 - mae: 2.6823\n",
            "Epoch 284/500\n",
            "13/13 [==============================] - 0s 2ms/step - loss: 16.3310 - mae: 2.8458\n",
            "Epoch 285/500\n",
            "13/13 [==============================] - 0s 2ms/step - loss: 15.2437 - mae: 2.9097\n",
            "Epoch 286/500\n",
            "13/13 [==============================] - 0s 2ms/step - loss: 13.1708 - mae: 2.6005\n",
            "Epoch 287/500\n",
            "13/13 [==============================] - 0s 3ms/step - loss: 13.6045 - mae: 2.7613\n",
            "Epoch 288/500\n",
            "13/13 [==============================] - 0s 2ms/step - loss: 13.5376 - mae: 2.6789\n",
            "Epoch 289/500\n",
            "13/13 [==============================] - 0s 3ms/step - loss: 14.5986 - mae: 2.8157\n",
            "Epoch 290/500\n",
            "13/13 [==============================] - 0s 3ms/step - loss: 13.5374 - mae: 2.7809\n",
            "Epoch 291/500\n",
            "13/13 [==============================] - 0s 3ms/step - loss: 15.2919 - mae: 2.9525\n",
            "Epoch 292/500\n",
            "13/13 [==============================] - 0s 2ms/step - loss: 12.7021 - mae: 2.6609\n",
            "Epoch 293/500\n",
            "13/13 [==============================] - 0s 3ms/step - loss: 15.0316 - mae: 2.7932\n",
            "Epoch 294/500\n",
            "13/13 [==============================] - 0s 2ms/step - loss: 12.8520 - mae: 2.7116\n",
            "Epoch 295/500\n",
            "13/13 [==============================] - 0s 3ms/step - loss: 13.3843 - mae: 2.7659\n",
            "Epoch 296/500\n",
            "13/13 [==============================] - 0s 3ms/step - loss: 14.0884 - mae: 2.7516\n",
            "Epoch 297/500\n",
            "13/13 [==============================] - 0s 2ms/step - loss: 14.6340 - mae: 2.7819\n",
            "Epoch 298/500\n",
            "13/13 [==============================] - 0s 2ms/step - loss: 13.9079 - mae: 2.7335\n",
            "Epoch 299/500\n",
            "13/13 [==============================] - 0s 3ms/step - loss: 14.4916 - mae: 2.8240\n",
            "Epoch 300/500\n",
            "13/13 [==============================] - 0s 4ms/step - loss: 12.8079 - mae: 2.6852\n",
            "Epoch 301/500\n",
            "13/13 [==============================] - 0s 3ms/step - loss: 13.5173 - mae: 2.6189\n",
            "Epoch 302/500\n",
            "13/13 [==============================] - 0s 2ms/step - loss: 14.5985 - mae: 2.8566\n",
            "Epoch 303/500\n",
            "13/13 [==============================] - 0s 3ms/step - loss: 13.4317 - mae: 2.7597\n",
            "Epoch 304/500\n",
            "13/13 [==============================] - 0s 3ms/step - loss: 15.0641 - mae: 2.8760\n",
            "Epoch 305/500\n",
            "13/13 [==============================] - 0s 2ms/step - loss: 14.6557 - mae: 2.8864\n",
            "Epoch 306/500\n",
            "13/13 [==============================] - 0s 3ms/step - loss: 12.2601 - mae: 2.6343\n",
            "Epoch 307/500\n",
            "13/13 [==============================] - 0s 3ms/step - loss: 13.2674 - mae: 2.7016\n",
            "Epoch 308/500\n",
            "13/13 [==============================] - 0s 2ms/step - loss: 14.4623 - mae: 2.7838\n",
            "Epoch 309/500\n",
            "13/13 [==============================] - 0s 2ms/step - loss: 13.5527 - mae: 2.7370\n",
            "Epoch 310/500\n",
            "13/13 [==============================] - 0s 3ms/step - loss: 15.9004 - mae: 2.8897\n",
            "Epoch 311/500\n",
            "13/13 [==============================] - 0s 3ms/step - loss: 13.0235 - mae: 2.7151\n",
            "Epoch 312/500\n",
            "13/13 [==============================] - 0s 3ms/step - loss: 14.1962 - mae: 2.7629\n",
            "Epoch 313/500\n",
            "13/13 [==============================] - 0s 3ms/step - loss: 13.4957 - mae: 2.7669\n",
            "Epoch 314/500\n",
            "13/13 [==============================] - 0s 3ms/step - loss: 14.2039 - mae: 2.8070\n",
            "Epoch 315/500\n",
            "13/13 [==============================] - 0s 3ms/step - loss: 14.5386 - mae: 2.8045\n",
            "Epoch 316/500\n",
            "13/13 [==============================] - 0s 3ms/step - loss: 15.9040 - mae: 2.9136\n",
            "Epoch 317/500\n",
            "13/13 [==============================] - 0s 4ms/step - loss: 14.2864 - mae: 2.7960\n",
            "Epoch 318/500\n",
            "13/13 [==============================] - 0s 3ms/step - loss: 13.8265 - mae: 2.8084\n",
            "Epoch 319/500\n",
            "13/13 [==============================] - 0s 3ms/step - loss: 13.8512 - mae: 2.7741\n",
            "Epoch 320/500\n",
            "13/13 [==============================] - 0s 3ms/step - loss: 13.0754 - mae: 2.7390\n",
            "Epoch 321/500\n",
            "13/13 [==============================] - 0s 3ms/step - loss: 12.5368 - mae: 2.5157\n",
            "Epoch 322/500\n",
            "13/13 [==============================] - 0s 3ms/step - loss: 12.6030 - mae: 2.6553\n",
            "Epoch 323/500\n",
            "13/13 [==============================] - 0s 3ms/step - loss: 15.8337 - mae: 2.7343\n",
            "Epoch 324/500\n",
            "13/13 [==============================] - 0s 2ms/step - loss: 11.7446 - mae: 2.6339\n",
            "Epoch 325/500\n",
            "13/13 [==============================] - 0s 3ms/step - loss: 14.1365 - mae: 2.7228\n",
            "Epoch 326/500\n",
            "13/13 [==============================] - 0s 3ms/step - loss: 13.1929 - mae: 2.6931\n",
            "Epoch 327/500\n",
            "13/13 [==============================] - 0s 2ms/step - loss: 14.9779 - mae: 2.7819\n",
            "Epoch 328/500\n",
            "13/13 [==============================] - 0s 4ms/step - loss: 14.8527 - mae: 2.8174\n",
            "Epoch 329/500\n",
            "13/13 [==============================] - 0s 2ms/step - loss: 13.1628 - mae: 2.6798\n",
            "Epoch 330/500\n",
            "13/13 [==============================] - 0s 2ms/step - loss: 14.0518 - mae: 2.8090\n",
            "Epoch 331/500\n",
            "13/13 [==============================] - 0s 3ms/step - loss: 16.1867 - mae: 2.8625\n",
            "Epoch 332/500\n",
            "13/13 [==============================] - 0s 3ms/step - loss: 13.7847 - mae: 2.6826\n",
            "Epoch 333/500\n",
            "13/13 [==============================] - 0s 3ms/step - loss: 14.5259 - mae: 2.8084\n",
            "Epoch 334/500\n",
            "13/13 [==============================] - 0s 3ms/step - loss: 15.2872 - mae: 2.8371\n",
            "Epoch 335/500\n",
            "13/13 [==============================] - 0s 3ms/step - loss: 12.9883 - mae: 2.6324\n",
            "Epoch 336/500\n",
            "13/13 [==============================] - 0s 3ms/step - loss: 15.8923 - mae: 2.9368\n",
            "Epoch 337/500\n",
            "13/13 [==============================] - 0s 2ms/step - loss: 11.9317 - mae: 2.5509\n",
            "Epoch 338/500\n",
            "13/13 [==============================] - 0s 2ms/step - loss: 13.6861 - mae: 2.7608\n",
            "Epoch 339/500\n",
            "13/13 [==============================] - 0s 2ms/step - loss: 15.6313 - mae: 2.9369\n",
            "Epoch 340/500\n",
            "13/13 [==============================] - 0s 2ms/step - loss: 12.4766 - mae: 2.6348\n",
            "Epoch 341/500\n",
            "13/13 [==============================] - 0s 2ms/step - loss: 15.6687 - mae: 2.9262\n",
            "Epoch 342/500\n",
            "13/13 [==============================] - 0s 3ms/step - loss: 13.7012 - mae: 2.7664\n",
            "Epoch 343/500\n",
            "13/13 [==============================] - 0s 2ms/step - loss: 14.0129 - mae: 2.8050\n",
            "Epoch 344/500\n",
            "13/13 [==============================] - 0s 2ms/step - loss: 13.4028 - mae: 2.5849\n",
            "Epoch 345/500\n",
            "13/13 [==============================] - 0s 3ms/step - loss: 12.8054 - mae: 2.6858\n",
            "Epoch 346/500\n",
            "13/13 [==============================] - 0s 3ms/step - loss: 14.0038 - mae: 2.6425\n",
            "Epoch 347/500\n",
            "13/13 [==============================] - 0s 2ms/step - loss: 14.2013 - mae: 2.7136\n",
            "Epoch 348/500\n",
            "13/13 [==============================] - 0s 3ms/step - loss: 13.8114 - mae: 2.7493\n",
            "Epoch 349/500\n",
            "13/13 [==============================] - 0s 2ms/step - loss: 12.1632 - mae: 2.5870\n",
            "Epoch 350/500\n",
            "13/13 [==============================] - 0s 2ms/step - loss: 12.6967 - mae: 2.6547\n",
            "Epoch 351/500\n",
            "13/13 [==============================] - 0s 2ms/step - loss: 13.9032 - mae: 2.7880\n",
            "Epoch 352/500\n",
            "13/13 [==============================] - 0s 3ms/step - loss: 14.2172 - mae: 2.7075\n",
            "Epoch 353/500\n",
            "13/13 [==============================] - 0s 3ms/step - loss: 14.9818 - mae: 2.8139\n",
            "Epoch 354/500\n",
            "13/13 [==============================] - 0s 3ms/step - loss: 12.8609 - mae: 2.6995\n",
            "Epoch 355/500\n",
            "13/13 [==============================] - 0s 3ms/step - loss: 14.8129 - mae: 2.8189\n",
            "Epoch 356/500\n",
            "13/13 [==============================] - 0s 2ms/step - loss: 14.4382 - mae: 2.8234\n",
            "Epoch 357/500\n",
            "13/13 [==============================] - 0s 3ms/step - loss: 13.6619 - mae: 2.8267\n",
            "Epoch 358/500\n",
            "13/13 [==============================] - 0s 3ms/step - loss: 13.4422 - mae: 2.6465\n",
            "Epoch 359/500\n",
            "13/13 [==============================] - 0s 3ms/step - loss: 14.7943 - mae: 2.7891\n",
            "Epoch 360/500\n",
            "13/13 [==============================] - 0s 3ms/step - loss: 13.5699 - mae: 2.7132\n",
            "Epoch 361/500\n",
            "13/13 [==============================] - 0s 3ms/step - loss: 13.0858 - mae: 2.5831\n",
            "Epoch 362/500\n",
            "13/13 [==============================] - 0s 3ms/step - loss: 12.6296 - mae: 2.6978\n",
            "Epoch 363/500\n",
            "13/13 [==============================] - 0s 3ms/step - loss: 14.2204 - mae: 2.7199\n",
            "Epoch 364/500\n",
            "13/13 [==============================] - 0s 3ms/step - loss: 12.8545 - mae: 2.6395\n",
            "Epoch 365/500\n",
            "13/13 [==============================] - 0s 3ms/step - loss: 12.4053 - mae: 2.6791\n",
            "Epoch 366/500\n",
            "13/13 [==============================] - 0s 3ms/step - loss: 14.5249 - mae: 2.8091\n",
            "Epoch 367/500\n",
            "13/13 [==============================] - 0s 2ms/step - loss: 13.7753 - mae: 2.6877\n",
            "Epoch 368/500\n",
            "13/13 [==============================] - 0s 2ms/step - loss: 13.7631 - mae: 2.6932\n",
            "Epoch 369/500\n",
            "13/13 [==============================] - 0s 3ms/step - loss: 13.0162 - mae: 2.6369\n",
            "Epoch 370/500\n",
            "13/13 [==============================] - 0s 4ms/step - loss: 13.7217 - mae: 2.7584\n",
            "Epoch 371/500\n",
            "13/13 [==============================] - 0s 3ms/step - loss: 12.8025 - mae: 2.7584\n",
            "Epoch 372/500\n",
            "13/13 [==============================] - 0s 2ms/step - loss: 15.0649 - mae: 2.8450\n",
            "Epoch 373/500\n",
            "13/13 [==============================] - 0s 3ms/step - loss: 14.7226 - mae: 2.8452\n",
            "Epoch 374/500\n",
            "13/13 [==============================] - 0s 2ms/step - loss: 13.2152 - mae: 2.6548\n",
            "Epoch 375/500\n",
            "13/13 [==============================] - 0s 3ms/step - loss: 14.4641 - mae: 2.6994\n",
            "Epoch 376/500\n",
            "13/13 [==============================] - 0s 3ms/step - loss: 13.3663 - mae: 2.6368\n",
            "Epoch 377/500\n",
            "13/13 [==============================] - 0s 2ms/step - loss: 14.3755 - mae: 2.7221\n",
            "Epoch 378/500\n",
            "13/13 [==============================] - 0s 2ms/step - loss: 14.0524 - mae: 2.8001\n",
            "Epoch 379/500\n",
            "13/13 [==============================] - 0s 2ms/step - loss: 13.8008 - mae: 2.6303\n",
            "Epoch 380/500\n",
            "13/13 [==============================] - 0s 2ms/step - loss: 12.8221 - mae: 2.6329\n",
            "Epoch 381/500\n",
            "13/13 [==============================] - 0s 2ms/step - loss: 13.7528 - mae: 2.7349\n",
            "Epoch 382/500\n",
            "13/13 [==============================] - 0s 3ms/step - loss: 14.7354 - mae: 2.8956\n",
            "Epoch 383/500\n",
            "13/13 [==============================] - 0s 2ms/step - loss: 14.1666 - mae: 2.8375\n",
            "Epoch 384/500\n",
            "13/13 [==============================] - 0s 3ms/step - loss: 12.7658 - mae: 2.6052\n",
            "Epoch 385/500\n",
            "13/13 [==============================] - 0s 2ms/step - loss: 12.9822 - mae: 2.6995\n",
            "Epoch 386/500\n",
            "13/13 [==============================] - 0s 3ms/step - loss: 12.0572 - mae: 2.6388\n",
            "Epoch 387/500\n",
            "13/13 [==============================] - 0s 3ms/step - loss: 14.5398 - mae: 2.7394\n",
            "Epoch 388/500\n",
            "13/13 [==============================] - 0s 2ms/step - loss: 16.4370 - mae: 3.0464\n",
            "Epoch 389/500\n",
            "13/13 [==============================] - 0s 3ms/step - loss: 13.6490 - mae: 2.7172\n",
            "Epoch 390/500\n",
            "13/13 [==============================] - 0s 3ms/step - loss: 11.9005 - mae: 2.5695\n",
            "Epoch 391/500\n",
            "13/13 [==============================] - 0s 3ms/step - loss: 13.0689 - mae: 2.6563\n",
            "Epoch 392/500\n",
            "13/13 [==============================] - 0s 3ms/step - loss: 13.4481 - mae: 2.6800\n",
            "Epoch 393/500\n",
            "13/13 [==============================] - 0s 3ms/step - loss: 13.4399 - mae: 2.7789\n",
            "Epoch 394/500\n",
            "13/13 [==============================] - 0s 3ms/step - loss: 12.4850 - mae: 2.6428\n",
            "Epoch 395/500\n",
            "13/13 [==============================] - 0s 3ms/step - loss: 13.7804 - mae: 2.7377\n",
            "Epoch 396/500\n",
            "13/13 [==============================] - 0s 2ms/step - loss: 12.8097 - mae: 2.7061\n",
            "Epoch 397/500\n",
            "13/13 [==============================] - 0s 3ms/step - loss: 12.6119 - mae: 2.6635\n",
            "Epoch 398/500\n",
            "13/13 [==============================] - 0s 3ms/step - loss: 12.6756 - mae: 2.7206\n",
            "Epoch 399/500\n",
            "13/13 [==============================] - 0s 2ms/step - loss: 14.5247 - mae: 2.7875\n",
            "Epoch 400/500\n",
            "13/13 [==============================] - 0s 3ms/step - loss: 13.0522 - mae: 2.7225\n",
            "Epoch 401/500\n",
            "13/13 [==============================] - 0s 2ms/step - loss: 13.0179 - mae: 2.7596\n",
            "Epoch 402/500\n",
            "13/13 [==============================] - 0s 3ms/step - loss: 11.9465 - mae: 2.6055\n",
            "Epoch 403/500\n",
            "13/13 [==============================] - 0s 2ms/step - loss: 11.9370 - mae: 2.5875\n",
            "Epoch 404/500\n",
            "13/13 [==============================] - 0s 2ms/step - loss: 13.5878 - mae: 2.6502\n",
            "Epoch 405/500\n",
            "13/13 [==============================] - 0s 3ms/step - loss: 12.2457 - mae: 2.6064\n",
            "Epoch 406/500\n",
            "13/13 [==============================] - 0s 3ms/step - loss: 11.6228 - mae: 2.5992\n",
            "Epoch 407/500\n",
            "13/13 [==============================] - 0s 3ms/step - loss: 14.7234 - mae: 2.7415\n",
            "Epoch 408/500\n",
            "13/13 [==============================] - 0s 2ms/step - loss: 14.7866 - mae: 2.7740\n",
            "Epoch 409/500\n",
            "13/13 [==============================] - 0s 2ms/step - loss: 13.1365 - mae: 2.5975\n",
            "Epoch 410/500\n",
            "13/13 [==============================] - 0s 2ms/step - loss: 13.2724 - mae: 2.6682\n",
            "Epoch 411/500\n",
            "13/13 [==============================] - 0s 3ms/step - loss: 14.1248 - mae: 2.6602\n",
            "Epoch 412/500\n",
            "13/13 [==============================] - 0s 6ms/step - loss: 14.0094 - mae: 2.8074\n",
            "Epoch 413/500\n",
            "13/13 [==============================] - 0s 6ms/step - loss: 12.5641 - mae: 2.5925\n",
            "Epoch 414/500\n",
            "13/13 [==============================] - 0s 10ms/step - loss: 12.7602 - mae: 2.6568\n",
            "Epoch 415/500\n",
            "13/13 [==============================] - 0s 9ms/step - loss: 13.3917 - mae: 2.5870\n",
            "Epoch 416/500\n",
            "13/13 [==============================] - 0s 12ms/step - loss: 13.2921 - mae: 2.6842\n",
            "Epoch 417/500\n",
            "13/13 [==============================] - 0s 11ms/step - loss: 13.5977 - mae: 2.7169\n",
            "Epoch 418/500\n",
            "13/13 [==============================] - 0s 11ms/step - loss: 11.6523 - mae: 2.6245\n",
            "Epoch 419/500\n",
            "13/13 [==============================] - 0s 11ms/step - loss: 10.9957 - mae: 2.4717\n",
            "Epoch 420/500\n",
            "13/13 [==============================] - 0s 13ms/step - loss: 13.4699 - mae: 2.7733\n",
            "Epoch 421/500\n",
            "13/13 [==============================] - 0s 4ms/step - loss: 13.4040 - mae: 2.7406\n",
            "Epoch 422/500\n",
            "13/13 [==============================] - 0s 3ms/step - loss: 12.9995 - mae: 2.6046\n",
            "Epoch 423/500\n",
            "13/13 [==============================] - 0s 6ms/step - loss: 14.1026 - mae: 2.7657\n",
            "Epoch 424/500\n",
            "13/13 [==============================] - 0s 8ms/step - loss: 15.8110 - mae: 2.8794\n",
            "Epoch 425/500\n",
            "13/13 [==============================] - 0s 7ms/step - loss: 14.9457 - mae: 2.8094\n",
            "Epoch 426/500\n",
            "13/13 [==============================] - 0s 3ms/step - loss: 13.2411 - mae: 2.7594\n",
            "Epoch 427/500\n",
            "13/13 [==============================] - 0s 3ms/step - loss: 12.4330 - mae: 2.6579\n",
            "Epoch 428/500\n",
            "13/13 [==============================] - 0s 3ms/step - loss: 15.1847 - mae: 2.7994\n",
            "Epoch 429/500\n",
            "13/13 [==============================] - 0s 3ms/step - loss: 12.6032 - mae: 2.6426\n",
            "Epoch 430/500\n",
            "13/13 [==============================] - 0s 3ms/step - loss: 13.4333 - mae: 2.6667\n",
            "Epoch 431/500\n",
            "13/13 [==============================] - 0s 3ms/step - loss: 14.9083 - mae: 2.8871\n",
            "Epoch 432/500\n",
            "13/13 [==============================] - 0s 3ms/step - loss: 14.7012 - mae: 2.8496\n",
            "Epoch 433/500\n",
            "13/13 [==============================] - 0s 2ms/step - loss: 14.5180 - mae: 2.8173\n",
            "Epoch 434/500\n",
            "13/13 [==============================] - 0s 3ms/step - loss: 13.1858 - mae: 2.6730\n",
            "Epoch 435/500\n",
            "13/13 [==============================] - 0s 3ms/step - loss: 14.0255 - mae: 2.7507\n",
            "Epoch 436/500\n",
            "13/13 [==============================] - 0s 2ms/step - loss: 12.2517 - mae: 2.6647\n",
            "Epoch 437/500\n",
            "13/13 [==============================] - 0s 3ms/step - loss: 11.5531 - mae: 2.5085\n",
            "Epoch 438/500\n",
            "13/13 [==============================] - 0s 2ms/step - loss: 11.9580 - mae: 2.5224\n",
            "Epoch 439/500\n",
            "13/13 [==============================] - 0s 3ms/step - loss: 13.2836 - mae: 2.7004\n",
            "Epoch 440/500\n",
            "13/13 [==============================] - 0s 3ms/step - loss: 12.4767 - mae: 2.6056\n",
            "Epoch 441/500\n",
            "13/13 [==============================] - 0s 3ms/step - loss: 13.9464 - mae: 2.7880\n",
            "Epoch 442/500\n",
            "13/13 [==============================] - 0s 3ms/step - loss: 12.8827 - mae: 2.5937\n",
            "Epoch 443/500\n",
            "13/13 [==============================] - 0s 3ms/step - loss: 14.7435 - mae: 2.7339\n",
            "Epoch 444/500\n",
            "13/13 [==============================] - 0s 3ms/step - loss: 13.5194 - mae: 2.6183\n",
            "Epoch 445/500\n",
            "13/13 [==============================] - 0s 3ms/step - loss: 12.7802 - mae: 2.7608\n",
            "Epoch 446/500\n",
            "13/13 [==============================] - 0s 4ms/step - loss: 13.0002 - mae: 2.6140\n",
            "Epoch 447/500\n",
            "13/13 [==============================] - 0s 3ms/step - loss: 13.9390 - mae: 2.8014\n",
            "Epoch 448/500\n",
            "13/13 [==============================] - 0s 3ms/step - loss: 13.1238 - mae: 2.5825\n",
            "Epoch 449/500\n",
            "13/13 [==============================] - 0s 3ms/step - loss: 12.7734 - mae: 2.6192\n",
            "Epoch 450/500\n",
            "13/13 [==============================] - 0s 3ms/step - loss: 12.8965 - mae: 2.6684\n",
            "Epoch 451/500\n",
            "13/13 [==============================] - 0s 3ms/step - loss: 13.1226 - mae: 2.6293\n",
            "Epoch 452/500\n",
            "13/13 [==============================] - 0s 3ms/step - loss: 12.8410 - mae: 2.6316\n",
            "Epoch 453/500\n",
            "13/13 [==============================] - 0s 3ms/step - loss: 13.3399 - mae: 2.6488\n",
            "Epoch 454/500\n",
            "13/13 [==============================] - 0s 2ms/step - loss: 11.5210 - mae: 2.5224\n",
            "Epoch 455/500\n",
            "13/13 [==============================] - 0s 3ms/step - loss: 13.3818 - mae: 2.6548\n",
            "Epoch 456/500\n",
            "13/13 [==============================] - 0s 2ms/step - loss: 12.2585 - mae: 2.6144\n",
            "Epoch 457/500\n",
            "13/13 [==============================] - 0s 3ms/step - loss: 12.9239 - mae: 2.7319\n",
            "Epoch 458/500\n",
            "13/13 [==============================] - 0s 3ms/step - loss: 13.4246 - mae: 2.8223\n",
            "Epoch 459/500\n",
            "13/13 [==============================] - 0s 3ms/step - loss: 14.3184 - mae: 2.7291\n",
            "Epoch 460/500\n",
            "13/13 [==============================] - 0s 3ms/step - loss: 12.9822 - mae: 2.6692\n",
            "Epoch 461/500\n",
            "13/13 [==============================] - 0s 3ms/step - loss: 12.9182 - mae: 2.6100\n",
            "Epoch 462/500\n",
            "13/13 [==============================] - 0s 2ms/step - loss: 15.0317 - mae: 2.8164\n",
            "Epoch 463/500\n",
            "13/13 [==============================] - 0s 3ms/step - loss: 13.6689 - mae: 2.6844\n",
            "Epoch 464/500\n",
            "13/13 [==============================] - 0s 2ms/step - loss: 13.0604 - mae: 2.6286\n",
            "Epoch 465/500\n",
            "13/13 [==============================] - 0s 3ms/step - loss: 12.6963 - mae: 2.6862\n",
            "Epoch 466/500\n",
            "13/13 [==============================] - 0s 3ms/step - loss: 12.0496 - mae: 2.6119\n",
            "Epoch 467/500\n",
            "13/13 [==============================] - 0s 3ms/step - loss: 12.6581 - mae: 2.6661\n",
            "Epoch 468/500\n",
            "13/13 [==============================] - 0s 4ms/step - loss: 11.7242 - mae: 2.5457\n",
            "Epoch 469/500\n",
            "13/13 [==============================] - 0s 3ms/step - loss: 12.5438 - mae: 2.6680\n",
            "Epoch 470/500\n",
            "13/13 [==============================] - 0s 3ms/step - loss: 12.8948 - mae: 2.6202\n",
            "Epoch 471/500\n",
            "13/13 [==============================] - 0s 3ms/step - loss: 15.0389 - mae: 2.8904\n",
            "Epoch 472/500\n",
            "13/13 [==============================] - 0s 3ms/step - loss: 13.0805 - mae: 2.6273\n",
            "Epoch 473/500\n",
            "13/13 [==============================] - 0s 3ms/step - loss: 14.3022 - mae: 2.7054\n",
            "Epoch 474/500\n",
            "13/13 [==============================] - 0s 3ms/step - loss: 11.2536 - mae: 2.5198\n",
            "Epoch 475/500\n",
            "13/13 [==============================] - 0s 3ms/step - loss: 12.6228 - mae: 2.5713\n",
            "Epoch 476/500\n",
            "13/13 [==============================] - 0s 3ms/step - loss: 13.7304 - mae: 2.6452\n",
            "Epoch 477/500\n",
            "13/13 [==============================] - 0s 3ms/step - loss: 13.5232 - mae: 2.7572\n",
            "Epoch 478/500\n",
            "13/13 [==============================] - 0s 4ms/step - loss: 13.2607 - mae: 2.5664\n",
            "Epoch 479/500\n",
            "13/13 [==============================] - 0s 7ms/step - loss: 11.7573 - mae: 2.5425\n",
            "Epoch 480/500\n",
            "13/13 [==============================] - 0s 3ms/step - loss: 12.2921 - mae: 2.5266\n",
            "Epoch 481/500\n",
            "13/13 [==============================] - 0s 3ms/step - loss: 13.9954 - mae: 2.7035\n",
            "Epoch 482/500\n",
            "13/13 [==============================] - 0s 3ms/step - loss: 13.0897 - mae: 2.6839\n",
            "Epoch 483/500\n",
            "13/13 [==============================] - 0s 3ms/step - loss: 12.7635 - mae: 2.5728\n",
            "Epoch 484/500\n",
            "13/13 [==============================] - 0s 3ms/step - loss: 11.4924 - mae: 2.4621\n",
            "Epoch 485/500\n",
            "13/13 [==============================] - 0s 3ms/step - loss: 12.7431 - mae: 2.6423\n",
            "Epoch 486/500\n",
            "13/13 [==============================] - 0s 3ms/step - loss: 13.6315 - mae: 2.7994\n",
            "Epoch 487/500\n",
            "13/13 [==============================] - 0s 3ms/step - loss: 11.2465 - mae: 2.5765\n",
            "Epoch 488/500\n",
            "13/13 [==============================] - 0s 3ms/step - loss: 12.9563 - mae: 2.7093\n",
            "Epoch 489/500\n",
            "13/13 [==============================] - 0s 4ms/step - loss: 12.8630 - mae: 2.6384\n",
            "Epoch 490/500\n",
            "13/13 [==============================] - 0s 2ms/step - loss: 13.9019 - mae: 2.7488\n",
            "Epoch 491/500\n",
            "13/13 [==============================] - 0s 3ms/step - loss: 12.5782 - mae: 2.6291\n",
            "Epoch 492/500\n",
            "13/13 [==============================] - 0s 3ms/step - loss: 12.3423 - mae: 2.6065\n",
            "Epoch 493/500\n",
            "13/13 [==============================] - 0s 3ms/step - loss: 12.2787 - mae: 2.6227\n",
            "Epoch 494/500\n",
            "13/13 [==============================] - 0s 3ms/step - loss: 12.0027 - mae: 2.5898\n",
            "Epoch 495/500\n",
            "13/13 [==============================] - 0s 3ms/step - loss: 12.7580 - mae: 2.6444\n",
            "Epoch 496/500\n",
            "13/13 [==============================] - 0s 3ms/step - loss: 12.5394 - mae: 2.6156\n",
            "Epoch 497/500\n",
            "13/13 [==============================] - 0s 3ms/step - loss: 13.7166 - mae: 2.7528\n",
            "Epoch 498/500\n",
            "13/13 [==============================] - 0s 3ms/step - loss: 14.1282 - mae: 2.8448\n",
            "Epoch 499/500\n",
            "13/13 [==============================] - 0s 3ms/step - loss: 12.5235 - mae: 2.6162\n",
            "Epoch 500/500\n",
            "13/13 [==============================] - 0s 3ms/step - loss: 11.3283 - mae: 2.5652\n"
          ]
        },
        {
          "output_type": "execute_result",
          "data": {
            "text/plain": [
              "<keras.callbacks.History at 0x7f8e33d9db90>"
            ]
          },
          "metadata": {},
          "execution_count": 107
        }
      ]
    },
    {
      "cell_type": "code",
      "source": [
        "model.evaluate(test_data_scaled, test_targets)"
      ],
      "metadata": {
        "colab": {
          "base_uri": "https://localhost:8080/"
        },
        "id": "DzYIalx6LtF5",
        "outputId": "51c74237-c4a0-4dfd-beea-fec9cc45259c"
      },
      "execution_count": null,
      "outputs": [
        {
          "output_type": "stream",
          "name": "stdout",
          "text": [
            "4/4 [==============================] - 0s 5ms/step - loss: 17.4039 - mae: 2.6945\n"
          ]
        },
        {
          "output_type": "execute_result",
          "data": {
            "text/plain": [
              "[17.403886795043945, 2.694451332092285]"
            ]
          },
          "metadata": {},
          "execution_count": 109
        }
      ]
    }
  ]
}