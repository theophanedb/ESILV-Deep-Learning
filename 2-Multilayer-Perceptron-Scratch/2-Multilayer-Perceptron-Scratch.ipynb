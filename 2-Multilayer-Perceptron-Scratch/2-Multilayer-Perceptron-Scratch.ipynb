{
  "nbformat": 4,
  "nbformat_minor": 0,
  "metadata": {
    "colab": {
      "name": "tdelbauffe_week2-3.ipynb",
      "provenance": [],
      "collapsed_sections": []
    },
    "kernelspec": {
      "name": "python3",
      "display_name": "Python 3"
    },
    "language_info": {
      "name": "python"
    }
  },
  "cells": [
    {
      "cell_type": "markdown",
      "source": [
        "**Théophane DELBAUFFE - ESILV DIA4**"
      ],
      "metadata": {
        "id": "YTG8HxyxcQoN"
      }
    },
    {
      "cell_type": "markdown",
      "source": [
        "# Week 2"
      ],
      "metadata": {
        "id": "jSmx59VtV6O5"
      }
    },
    {
      "cell_type": "markdown",
      "source": [
        "## Requirements"
      ],
      "metadata": {
        "id": "vnWNnujjc71n"
      }
    },
    {
      "cell_type": "code",
      "source": [
        "from random import seed\n",
        "import csv\n",
        "import random as rd\n",
        "from random import random\n",
        "from math import exp\n",
        "from sklearn.metrics import mean_squared_error"
      ],
      "metadata": {
        "id": "lAySC4OJc6_n"
      },
      "execution_count": null,
      "outputs": []
    },
    {
      "cell_type": "markdown",
      "source": [
        "## Initialize network"
      ],
      "metadata": {
        "id": "U-Oj7aVYcguV"
      }
    },
    {
      "cell_type": "markdown",
      "source": [
        "### EX1"
      ],
      "metadata": {
        "id": "AgSZbsvQdGqy"
      }
    },
    {
      "cell_type": "code",
      "execution_count": null,
      "metadata": {
        "id": "Mlv152IyXktP"
      },
      "outputs": [],
      "source": [
        "def initialize_network(n_inputs, n_hidden, n_outputs):\n",
        "\tnetwork = list()\n",
        "\thidden_layer = [{'weights':[random() for i in range(n_inputs + 1)]} for i in range(n_hidden)]\n",
        "\tnetwork.append(hidden_layer)\n",
        "\toutput_layer = [{'weights':[random() for i in range(n_hidden + 1)]} for i in range(n_outputs)]\n",
        "\tnetwork.append(output_layer)\n",
        "\treturn network"
      ]
    },
    {
      "cell_type": "markdown",
      "source": [
        "### EX2"
      ],
      "metadata": {
        "id": "bk_AWEt0dKYt"
      }
    },
    {
      "cell_type": "code",
      "source": [
        "seed(1)\n",
        "network = initialize_network(3,2,2)\n",
        "for layer in network:\n",
        "  print(layer)"
      ],
      "metadata": {
        "id": "loFQz2n8dL8j",
        "colab": {
          "base_uri": "https://localhost:8080/"
        },
        "outputId": "dee2cf55-a535-4aa1-8bbd-c6d38fd15a3d"
      },
      "execution_count": null,
      "outputs": [
        {
          "output_type": "stream",
          "name": "stdout",
          "text": [
            "[{'weights': [0.13436424411240122, 0.8474337369372327, 0.763774618976614, 0.2550690257394217]}, {'weights': [0.49543508709194095, 0.4494910647887381, 0.651592972722763, 0.7887233511355132]}]\n",
            "[{'weights': [0.0938595867742349, 0.02834747652200631, 0.8357651039198697]}, {'weights': [0.43276706790505337, 0.762280082457942, 0.0021060533511106927]}]\n"
          ]
        }
      ]
    },
    {
      "cell_type": "markdown",
      "source": [
        "### EX3"
      ],
      "metadata": {
        "id": "FKr8BFsMdLkd"
      }
    },
    {
      "cell_type": "code",
      "source": [
        "def activate(weights, inputs):\n",
        "\tactivation = weights[-1] # bias\n",
        "\tfor i in range(len(weights)-1):\n",
        "\t\tactivation += weights[i] * inputs[i]\n",
        "\treturn activation"
      ],
      "metadata": {
        "id": "TOhdHVDVdO51"
      },
      "execution_count": null,
      "outputs": []
    },
    {
      "cell_type": "markdown",
      "source": [
        "### EX4"
      ],
      "metadata": {
        "id": "zJbylDyVdPVK"
      }
    },
    {
      "cell_type": "code",
      "source": [
        "def transfer(activation):\n",
        "  return 1.0 / (1.0 + exp(-activation))"
      ],
      "metadata": {
        "id": "6I0ws3F5dP4p"
      },
      "execution_count": null,
      "outputs": []
    },
    {
      "cell_type": "markdown",
      "source": [
        "## Forward Propagation"
      ],
      "metadata": {
        "id": "w-EqJ-evdQVf"
      }
    },
    {
      "cell_type": "markdown",
      "source": [
        "### EX5"
      ],
      "metadata": {
        "id": "HFjRh0x5dS4p"
      }
    },
    {
      "cell_type": "code",
      "source": [
        "def forward_propagate(network, row):\n",
        "\tinputs = row\n",
        "\tfor layer in network:\n",
        "\t\tnew_inputs = []\n",
        "\t\tfor neuron in layer:\n",
        "\t\t\tactivation = activate(neuron['weights'], inputs)\n",
        "\t\t\tneuron['output'] = transfer(activation)\n",
        "\t\t\tnew_inputs.append(neuron['output'])\n",
        "\t\tinputs = new_inputs\n",
        "\treturn inputs"
      ],
      "metadata": {
        "id": "qDwVTTRCdTrd"
      },
      "execution_count": null,
      "outputs": []
    },
    {
      "cell_type": "markdown",
      "source": [
        "### EX6"
      ],
      "metadata": {
        "id": "tXMWqSWidUjF"
      }
    },
    {
      "cell_type": "code",
      "source": [
        "seed(1)\n",
        "network = initialize_network(3,2,2)\n",
        "output = forward_propagate(network,[2,0,1])\n",
        "print(output)"
      ],
      "metadata": {
        "id": "sbHLgu_1dU92",
        "colab": {
          "base_uri": "https://localhost:8080/"
        },
        "outputId": "10e5b504-74b7-4201-fd28-8340b9e6986b"
      },
      "execution_count": null,
      "outputs": [
        {
          "output_type": "stream",
          "name": "stdout",
          "text": [
            "[0.7181660053840072, 0.7392260370751094]\n"
          ]
        }
      ]
    },
    {
      "cell_type": "markdown",
      "source": [
        "### EX7"
      ],
      "metadata": {
        "id": "u622UwsuWLBB"
      }
    },
    {
      "cell_type": "code",
      "source": [
        "def transfer_derivative(output):\n",
        "\treturn output * (1.0 - output)"
      ],
      "metadata": {
        "id": "FqTPDTPUWMcZ"
      },
      "execution_count": null,
      "outputs": []
    },
    {
      "cell_type": "markdown",
      "source": [
        "## Error Backpropagation"
      ],
      "metadata": {
        "id": "4VLc46M4dVP4"
      }
    },
    {
      "cell_type": "markdown",
      "source": [
        "### EX8"
      ],
      "metadata": {
        "id": "HRr3LN-8WINs"
      }
    },
    {
      "cell_type": "code",
      "source": [
        "def backward_propagate_error(network, expected):\n",
        "\tfor i in reversed(range(len(network))): # we start with the last layer (the output layer because backpropagation)\n",
        "\t\tlayer = network[i]\n",
        "\t\terrors = list()\n",
        "  \n",
        "\t\tif i != len(network)-1: # for hidden and inputs layers\n",
        "\t\t\tfor j in range(len(layer)):\n",
        "\t\t\t\terror = 0.0\n",
        "\t\t\t\tfor neuron in network[i + 1]:\n",
        "\t\t\t\t\terror += (neuron['weights'][j] * neuron['delta'])\n",
        "\t\t\t\terrors.append(error)\n",
        "    \n",
        "\t\telse: # first case : when we start with the output layer, the error of each neuron is easily computed\n",
        "\t\t\tfor j in range(len(layer)):\n",
        "\t\t\t\tneuron = layer[j]\n",
        "\t\t\t\terrors.append(neuron['output'] - expected[j])\n",
        "    \n",
        "\n",
        "\t\tfor j in range(len(layer)): \n",
        "\t\t\tneuron = layer[j]\n",
        "\t\t\tneuron['delta'] = errors[j] * transfer_derivative(neuron['output'])"
      ],
      "metadata": {
        "id": "-LhqQjTIWKT9"
      },
      "execution_count": null,
      "outputs": []
    },
    {
      "cell_type": "markdown",
      "source": [
        "### EX9"
      ],
      "metadata": {
        "id": "Gmq92GzlWTbQ"
      }
    },
    {
      "cell_type": "code",
      "source": [
        "seed(1)\n",
        "network = initialize_network(3,2,2)\n",
        "forward_propagate(network,[2,0,1])\n",
        "expected = [0, 1]\n",
        "backward_propagate_error(network, expected)\n",
        "for layer in network:\n",
        "\tprint(layer)"
      ],
      "metadata": {
        "id": "DJGSlHR4WUiI",
        "colab": {
          "base_uri": "https://localhost:8080/"
        },
        "outputId": "83f86eec-408c-4959-94df-6f132244c823"
      },
      "execution_count": null,
      "outputs": [
        {
          "output_type": "stream",
          "name": "stdout",
          "text": [
            "[{'weights': [0.13436424411240122, 0.8474337369372327, 0.763774618976614, 0.2550690257394217], 'output': 0.7837359639983127, 'delta': -0.0013748786059863865}, {'weights': [0.49543508709194095, 0.4494910647887381, 0.651592972722763, 0.7887233511355132], 'output': 0.9191747246018124, 'delta': -0.0025407285391936397}]\n",
            "[{'weights': [0.0938595867742349, 0.02834747652200631, 0.8357651039198697], 'output': 0.7181660053840072, 'delta': 0.145359380646418}, {'weights': [0.43276706790505337, 0.762280082457942, 0.0021060533511106927], 'output': 0.7392260370751094, 'delta': -0.05026963236025112}]\n"
          ]
        }
      ]
    },
    {
      "cell_type": "markdown",
      "source": [
        "# Week 3"
      ],
      "metadata": {
        "id": "V7ilUS2vWU_K"
      }
    },
    {
      "cell_type": "markdown",
      "source": [
        "## Train Network"
      ],
      "metadata": {
        "id": "xzJ53ElUWdC6"
      }
    },
    {
      "cell_type": "markdown",
      "source": [
        "### EX10"
      ],
      "metadata": {
        "id": "9bRyZWJdWfkx"
      }
    },
    {
      "cell_type": "code",
      "source": [
        "def update_weights(network, row, l_rate):\n",
        "\tfor i in range(len(network)):\n",
        "\t\tinputs = row[:-1]\n",
        "\t\tif i != 0:\n",
        "\t\t\tinputs = [neuron['output'] for neuron in network[i - 1]]\n",
        "\t\tfor neuron in network[i]:\n",
        "\t\t\tfor j in range(len(inputs)):\n",
        "\t\t\t\tneuron['weights'][j] -= l_rate * neuron['delta'] * inputs[j]\n",
        "\t\t\tneuron['weights'][-1] -= l_rate * neuron['delta']"
      ],
      "metadata": {
        "id": "a0HpBY3PWgwC"
      },
      "execution_count": null,
      "outputs": []
    },
    {
      "cell_type": "markdown",
      "source": [
        "### EX11"
      ],
      "metadata": {
        "id": "j8JQNqqzWhbk"
      }
    },
    {
      "cell_type": "code",
      "source": [
        "def train_network(network, train, l_rate, n_epoch, n_outputs):\n",
        "\tfor epoch in range(n_epoch):\n",
        "\t\tsum_error = 0\n",
        "\t\tfor row in train:\n",
        "\t\t\toutputs = forward_propagate(network, row)\n",
        "\t\t\texpected = [0 for i in range(n_outputs)]\n",
        "\t\t\texpected[row[-1]] = 1\n",
        "\t\t\tsum_error += sum([(expected[i]-outputs[i])**2 for i in range(len(expected))])\n",
        "\t\t\tbackward_propagate_error(network, expected)\n",
        "\t\t\tupdate_weights(network, row, l_rate)\n",
        "\t\tprint('>epoch=%d, lrate=%.3f, error=%.3f' % (epoch, l_rate, sum_error))"
      ],
      "metadata": {
        "id": "UTnmN7o8WjBJ"
      },
      "execution_count": null,
      "outputs": []
    },
    {
      "cell_type": "markdown",
      "source": [
        "### EX12"
      ],
      "metadata": {
        "id": "rZ3B-kcsWlPs"
      }
    },
    {
      "cell_type": "code",
      "source": [
        "seed(1)\n",
        "small_dataset = [[rd.uniform(0,10) for i in range(2)]+[rd.randint(0,1)] for i in range(10)]\n",
        "small_dataset"
      ],
      "metadata": {
        "id": "wejwN3P9WmS9",
        "colab": {
          "base_uri": "https://localhost:8080/"
        },
        "outputId": "1c5793b0-ff09-4cc6-a05d-3ecfc62ed61d"
      },
      "execution_count": null,
      "outputs": [
        {
          "output_type": "execute_result",
          "data": {
            "text/plain": [
              "[[1.3436424411240122, 8.474337369372327, 0],\n",
              " [2.550690257394217, 4.954350870919409, 1],\n",
              " [4.722452435761166, 3.7961522332372777, 0],\n",
              " [0.9385958677423489, 0.2834747652200631, 1],\n",
              " [4.3276706790505335, 7.62280082457942, 0],\n",
              " [6.958328667684435, 2.663305604572596, 0],\n",
              " [5.911534350013039, 1.0222715811004823, 1],\n",
              " [0.30589983033553536, 0.254458609934608, 0],\n",
              " [9.391491627785106, 3.8120423768821246, 0],\n",
              " [9.690406502940995, 7.258526014465152, 0]]"
            ]
          },
          "metadata": {},
          "execution_count": 147
        }
      ]
    },
    {
      "cell_type": "code",
      "source": [
        "n_inputs = 2\n",
        "n_outputs = 2\n",
        "n_hidden = 2\n",
        "l_rate = 0.3\n",
        "n_epoch = 50\n",
        "\n",
        "network = initialize_network(n_inputs, n_hidden, n_outputs)\n",
        "train_network(network, small_dataset, l_rate, n_epoch, n_outputs)\n",
        "\n",
        "for layer in network:\n",
        "\tprint(layer)"
      ],
      "metadata": {
        "colab": {
          "base_uri": "https://localhost:8080/"
        },
        "id": "bPXqHUM0pTCG",
        "outputId": "924424a7-c106-4904-f75b-7d74e1a62752"
      },
      "execution_count": null,
      "outputs": [
        {
          "output_type": "stream",
          "name": "stdout",
          "text": [
            ">epoch=0, lrate=0.300, error=7.606\n",
            ">epoch=1, lrate=0.300, error=6.659\n",
            ">epoch=2, lrate=0.300, error=5.550\n",
            ">epoch=3, lrate=0.300, error=4.808\n",
            ">epoch=4, lrate=0.300, error=4.486\n",
            ">epoch=5, lrate=0.300, error=4.356\n",
            ">epoch=6, lrate=0.300, error=4.297\n",
            ">epoch=7, lrate=0.300, error=4.266\n",
            ">epoch=8, lrate=0.300, error=4.247\n",
            ">epoch=9, lrate=0.300, error=4.234\n",
            ">epoch=10, lrate=0.300, error=4.223\n",
            ">epoch=11, lrate=0.300, error=4.214\n",
            ">epoch=12, lrate=0.300, error=4.204\n",
            ">epoch=13, lrate=0.300, error=4.195\n",
            ">epoch=14, lrate=0.300, error=4.186\n",
            ">epoch=15, lrate=0.300, error=4.176\n",
            ">epoch=16, lrate=0.300, error=4.166\n",
            ">epoch=17, lrate=0.300, error=4.157\n",
            ">epoch=18, lrate=0.300, error=4.148\n",
            ">epoch=19, lrate=0.300, error=4.140\n",
            ">epoch=20, lrate=0.300, error=4.132\n",
            ">epoch=21, lrate=0.300, error=4.125\n",
            ">epoch=22, lrate=0.300, error=4.118\n",
            ">epoch=23, lrate=0.300, error=4.111\n",
            ">epoch=24, lrate=0.300, error=4.105\n",
            ">epoch=25, lrate=0.300, error=4.099\n",
            ">epoch=26, lrate=0.300, error=4.092\n",
            ">epoch=27, lrate=0.300, error=4.086\n",
            ">epoch=28, lrate=0.300, error=4.080\n",
            ">epoch=29, lrate=0.300, error=4.074\n",
            ">epoch=30, lrate=0.300, error=4.068\n",
            ">epoch=31, lrate=0.300, error=4.062\n",
            ">epoch=32, lrate=0.300, error=4.055\n",
            ">epoch=33, lrate=0.300, error=4.049\n",
            ">epoch=34, lrate=0.300, error=4.043\n",
            ">epoch=35, lrate=0.300, error=4.036\n",
            ">epoch=36, lrate=0.300, error=4.029\n",
            ">epoch=37, lrate=0.300, error=4.023\n",
            ">epoch=38, lrate=0.300, error=4.016\n",
            ">epoch=39, lrate=0.300, error=4.008\n",
            ">epoch=40, lrate=0.300, error=4.001\n",
            ">epoch=41, lrate=0.300, error=3.994\n",
            ">epoch=42, lrate=0.300, error=3.986\n",
            ">epoch=43, lrate=0.300, error=3.978\n",
            ">epoch=44, lrate=0.300, error=3.970\n",
            ">epoch=45, lrate=0.300, error=3.962\n",
            ">epoch=46, lrate=0.300, error=3.953\n",
            ">epoch=47, lrate=0.300, error=3.945\n",
            ">epoch=48, lrate=0.300, error=3.936\n",
            ">epoch=49, lrate=0.300, error=3.926\n",
            "[{'weights': [-0.21951777469340297, 0.9915763576493165, -0.12190803399825438], 'output': 0.9928187827654334, 'delta': -0.00043315956499376517}, {'weights': [-0.0030921064140717316, 0.5090530668472067, -0.16384468587134698], 'output': 0.9683609211002749, 'delta': -0.0018057803921261732}]\n",
            "[{'weights': [1.0120197003496154, 0.6888950192689367, -0.36401036967469796], 'output': 0.7816231159458977, 'delta': -0.037274405427084135}, {'weights': [-0.5944694759508354, -0.8480373393915916, 0.15874468126045077], 'output': 0.22840138800568988, 'delta': 0.04025213451515931}]\n"
          ]
        }
      ]
    },
    {
      "cell_type": "markdown",
      "source": [
        "## Predict"
      ],
      "metadata": {
        "id": "LPXdQB_nWm1o"
      }
    },
    {
      "cell_type": "markdown",
      "source": [
        "### EX13"
      ],
      "metadata": {
        "id": "ys-ofUevWqHP"
      }
    },
    {
      "cell_type": "code",
      "source": [
        "def predict(network, row):\n",
        "  outputs = forward_propagate(network, row)\n",
        "  index = outputs.index(max(outputs)) # we return the index of the max of the outputs variable, which contains the probability assigned to each binary output\n",
        "  return index"
      ],
      "metadata": {
        "id": "kbyLhsFfW93-"
      },
      "execution_count": null,
      "outputs": []
    },
    {
      "cell_type": "markdown",
      "source": [
        "### EX14"
      ],
      "metadata": {
        "id": "04GFEUTgW89V"
      }
    },
    {
      "cell_type": "code",
      "source": [
        "for row in small_dataset:\n",
        "  preds = predict(network,row)\n",
        "  print(\"Reality : \",row[-1],\" -- \", preds, \" : Prediction\")\n",
        "  # I don't unsterdand why does it not work... Whereas it works very well for the last question"
      ],
      "metadata": {
        "id": "wfK-k2NQW89Y",
        "colab": {
          "base_uri": "https://localhost:8080/"
        },
        "outputId": "f6d19b6e-5b73-4652-d28c-2bf95718d4ff"
      },
      "execution_count": null,
      "outputs": [
        {
          "output_type": "stream",
          "name": "stdout",
          "text": [
            "Reality :  0  --  0  : Prediction\n",
            "Reality :  1  --  0  : Prediction\n",
            "Reality :  0  --  0  : Prediction\n",
            "Reality :  1  --  0  : Prediction\n",
            "Reality :  0  --  0  : Prediction\n",
            "Reality :  0  --  0  : Prediction\n",
            "Reality :  1  --  0  : Prediction\n",
            "Reality :  0  --  0  : Prediction\n",
            "Reality :  0  --  0  : Prediction\n",
            "Reality :  0  --  0  : Prediction\n"
          ]
        }
      ]
    },
    {
      "cell_type": "markdown",
      "source": [
        "## Seed Dataset"
      ],
      "metadata": {
        "id": "eJiSKX1_XANp"
      }
    },
    {
      "cell_type": "markdown",
      "source": [
        "### EX15"
      ],
      "metadata": {
        "id": "rMt-CmR5XC0B"
      }
    },
    {
      "cell_type": "code",
      "source": [
        "'''\n",
        "from google.colab import files\n",
        "uploaded = files.upload()\n",
        "print(uploaded)\n",
        "'''"
      ],
      "metadata": {
        "id": "czSG8hFUXC0G",
        "colab": {
          "base_uri": "https://localhost:8080/",
          "height": 36
        },
        "outputId": "514ebe0c-da7e-4d6f-a73f-e778a4128992"
      },
      "execution_count": null,
      "outputs": [
        {
          "output_type": "execute_result",
          "data": {
            "application/vnd.google.colaboratory.intrinsic+json": {
              "type": "string"
            },
            "text/plain": [
              "'\\nfrom google.colab import files\\nuploaded = files.upload()\\nprint(uploaded)\\n'"
            ]
          },
          "metadata": {},
          "execution_count": 104
        }
      ]
    },
    {
      "cell_type": "markdown",
      "source": [
        "### EX16"
      ],
      "metadata": {
        "id": "YqIYHax8XDbT"
      }
    },
    {
      "cell_type": "code",
      "source": [
        "def load_csv(filename):\n",
        "  dataset=list()\n",
        "  with open(filename,'r') as data:\n",
        "    data_csv=csv.reader(data)\n",
        "    for row in data_csv:\n",
        "      dataset.append([float(numbers) for numbers in row[0].split('\\t')])\n",
        "  return dataset"
      ],
      "metadata": {
        "id": "SIOieaKmXDbT"
      },
      "execution_count": null,
      "outputs": []
    },
    {
      "cell_type": "markdown",
      "source": [
        "### EX17"
      ],
      "metadata": {
        "id": "r3BSaO-mXEya"
      }
    },
    {
      "cell_type": "code",
      "source": [
        "# load\n",
        "data = load_csv(\"seeds_dataset.csv\")\n",
        "\n",
        "# normalize\n",
        "min_max = [[min(column), max(column)] for column in zip(*data)]\n",
        "\n",
        "for row in data:\n",
        "  row[-1] = int(row[-1]) - 1\n",
        "  for i in range(len(row)-1):\n",
        "\t  row[i] = round((row[i] - min_max[i][0]) / (min_max[i][1] - min_max[i][0]),3)\n",
        "\n",
        "# shuffle\n",
        "rd.shuffle(data)\n",
        "\n",
        "# split\n",
        "train = data[:int(len(data)*0.8)]\n",
        "test = data[int(len(data)*0.8):]"
      ],
      "metadata": {
        "id": "z6ZGrmjmXEyc"
      },
      "execution_count": null,
      "outputs": []
    },
    {
      "cell_type": "markdown",
      "source": [
        "### EX18"
      ],
      "metadata": {
        "id": "p5S7wKFUXFCz"
      }
    },
    {
      "cell_type": "code",
      "source": [
        "l_rate = 0.3\n",
        "n_epoch = 50\n",
        "n_hidden = 5\n",
        "n_inputs = len(train[0])-1\n",
        "n_outputs = 3\n",
        "\n",
        "network = initialize_network(n_inputs, n_hidden, n_outputs)\n",
        "train_network(network, train, l_rate, n_epoch, n_outputs)"
      ],
      "metadata": {
        "id": "SV5kHmHYXFC1",
        "colab": {
          "base_uri": "https://localhost:8080/"
        },
        "outputId": "1aba4596-88b4-4741-86aa-9e6ff057c8b2"
      },
      "execution_count": null,
      "outputs": [
        {
          "output_type": "stream",
          "name": "stdout",
          "text": [
            ">epoch=0, lrate=0.300, error=145.846\n",
            ">epoch=1, lrate=0.300, error=113.987\n",
            ">epoch=2, lrate=0.300, error=109.941\n",
            ">epoch=3, lrate=0.300, error=102.279\n",
            ">epoch=4, lrate=0.300, error=90.324\n",
            ">epoch=5, lrate=0.300, error=78.469\n",
            ">epoch=6, lrate=0.300, error=70.299\n",
            ">epoch=7, lrate=0.300, error=65.179\n",
            ">epoch=8, lrate=0.300, error=61.686\n",
            ">epoch=9, lrate=0.300, error=58.945\n",
            ">epoch=10, lrate=0.300, error=56.486\n",
            ">epoch=11, lrate=0.300, error=54.051\n",
            ">epoch=12, lrate=0.300, error=51.514\n",
            ">epoch=13, lrate=0.300, error=48.847\n",
            ">epoch=14, lrate=0.300, error=46.099\n",
            ">epoch=15, lrate=0.300, error=43.372\n",
            ">epoch=16, lrate=0.300, error=40.779\n",
            ">epoch=17, lrate=0.300, error=38.411\n",
            ">epoch=18, lrate=0.300, error=36.315\n",
            ">epoch=19, lrate=0.300, error=34.497\n",
            ">epoch=20, lrate=0.300, error=32.936\n",
            ">epoch=21, lrate=0.300, error=31.597\n",
            ">epoch=22, lrate=0.300, error=30.447\n",
            ">epoch=23, lrate=0.300, error=29.451\n",
            ">epoch=24, lrate=0.300, error=28.585\n",
            ">epoch=25, lrate=0.300, error=27.824\n",
            ">epoch=26, lrate=0.300, error=27.151\n",
            ">epoch=27, lrate=0.300, error=26.552\n",
            ">epoch=28, lrate=0.300, error=26.015\n",
            ">epoch=29, lrate=0.300, error=25.531\n",
            ">epoch=30, lrate=0.300, error=25.092\n",
            ">epoch=31, lrate=0.300, error=24.692\n",
            ">epoch=32, lrate=0.300, error=24.325\n",
            ">epoch=33, lrate=0.300, error=23.989\n",
            ">epoch=34, lrate=0.300, error=23.679\n",
            ">epoch=35, lrate=0.300, error=23.391\n",
            ">epoch=36, lrate=0.300, error=23.125\n",
            ">epoch=37, lrate=0.300, error=22.876\n",
            ">epoch=38, lrate=0.300, error=22.644\n",
            ">epoch=39, lrate=0.300, error=22.427\n",
            ">epoch=40, lrate=0.300, error=22.223\n",
            ">epoch=41, lrate=0.300, error=22.031\n",
            ">epoch=42, lrate=0.300, error=21.850\n",
            ">epoch=43, lrate=0.300, error=21.679\n",
            ">epoch=44, lrate=0.300, error=21.516\n",
            ">epoch=45, lrate=0.300, error=21.362\n",
            ">epoch=46, lrate=0.300, error=21.216\n",
            ">epoch=47, lrate=0.300, error=21.076\n",
            ">epoch=48, lrate=0.300, error=20.942\n",
            ">epoch=49, lrate=0.300, error=20.814\n"
          ]
        }
      ]
    },
    {
      "cell_type": "markdown",
      "source": [
        "### EX19"
      ],
      "metadata": {
        "id": "6eLx44m6XFJR"
      }
    },
    {
      "cell_type": "code",
      "source": [
        "for row in test:\n",
        "  preds = predict(network,row)\n",
        "  print(\"Reality : \",row[-1],\" -- \", preds, \" : Prediction\")"
      ],
      "metadata": {
        "id": "pwbFwAC7WruY",
        "colab": {
          "base_uri": "https://localhost:8080/"
        },
        "outputId": "7260a4fe-fb7b-4416-c770-bcd9cf6e0167"
      },
      "execution_count": null,
      "outputs": [
        {
          "output_type": "stream",
          "name": "stdout",
          "text": [
            "Reality :  0  --  0  : Prediction\n",
            "Reality :  2  --  2  : Prediction\n",
            "Reality :  0  --  0  : Prediction\n",
            "Reality :  0  --  0  : Prediction\n",
            "Reality :  0  --  0  : Prediction\n",
            "Reality :  2  --  2  : Prediction\n",
            "Reality :  1  --  1  : Prediction\n",
            "Reality :  2  --  2  : Prediction\n",
            "Reality :  2  --  2  : Prediction\n",
            "Reality :  0  --  0  : Prediction\n",
            "Reality :  0  --  0  : Prediction\n",
            "Reality :  0  --  0  : Prediction\n",
            "Reality :  0  --  0  : Prediction\n",
            "Reality :  0  --  0  : Prediction\n",
            "Reality :  2  --  2  : Prediction\n",
            "Reality :  1  --  1  : Prediction\n",
            "Reality :  0  --  0  : Prediction\n",
            "Reality :  0  --  0  : Prediction\n",
            "Reality :  2  --  2  : Prediction\n",
            "Reality :  2  --  2  : Prediction\n",
            "Reality :  1  --  1  : Prediction\n",
            "Reality :  0  --  0  : Prediction\n",
            "Reality :  0  --  0  : Prediction\n",
            "Reality :  0  --  0  : Prediction\n",
            "Reality :  2  --  2  : Prediction\n",
            "Reality :  0  --  0  : Prediction\n",
            "Reality :  2  --  2  : Prediction\n",
            "Reality :  0  --  0  : Prediction\n",
            "Reality :  0  --  0  : Prediction\n",
            "Reality :  0  --  0  : Prediction\n",
            "Reality :  0  --  0  : Prediction\n",
            "Reality :  1  --  1  : Prediction\n",
            "Reality :  1  --  1  : Prediction\n",
            "Reality :  1  --  1  : Prediction\n",
            "Reality :  2  --  2  : Prediction\n",
            "Reality :  1  --  1  : Prediction\n",
            "Reality :  1  --  1  : Prediction\n",
            "Reality :  1  --  1  : Prediction\n",
            "Reality :  1  --  1  : Prediction\n",
            "Reality :  2  --  2  : Prediction\n",
            "Reality :  2  --  2  : Prediction\n",
            "Reality :  1  --  1  : Prediction\n"
          ]
        }
      ]
    }
  ]
}