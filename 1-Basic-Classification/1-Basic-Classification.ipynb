{
  "nbformat": 4,
  "nbformat_minor": 0,
  "metadata": {
    "colab": {
      "name": "tdelbauffe_week1.ipynb",
      "provenance": [],
      "collapsed_sections": []
    },
    "kernelspec": {
      "name": "python3",
      "display_name": "Python 3"
    },
    "language_info": {
      "name": "python"
    }
  },
  "cells": [
    {
      "cell_type": "markdown",
      "source": [
        "# PW1 : Basic Classification"
      ],
      "metadata": {
        "id": "ycoLJVYXCPKR"
      }
    },
    {
      "cell_type": "markdown",
      "source": [
        "## EX1."
      ],
      "metadata": {
        "id": "F5i7XJkZCT-H"
      }
    },
    {
      "cell_type": "code",
      "execution_count": null,
      "metadata": {
        "id": "xLfL7bA9BxsO"
      },
      "outputs": [],
      "source": [
        "try:\n",
        "  %tensorflow_version 2.x\n",
        "except Exception:\n",
        "  pass"
      ]
    },
    {
      "cell_type": "markdown",
      "source": [
        "## EX2."
      ],
      "metadata": {
        "id": "e2JNOQgUCXPL"
      }
    },
    {
      "cell_type": "code",
      "source": [
        "from __future__ import absolute_import , division , print_function ,unicode_literals\n",
        "\n",
        "# TensorFlow and tf. keras\n",
        "import tensorflow as tf\n",
        "from tensorflow import keras\n",
        "\n",
        "# Helper libraries\n",
        "import numpy as np\n",
        "import matplotlib . pyplot as plt"
      ],
      "metadata": {
        "id": "NniGHpETCY-9"
      },
      "execution_count": null,
      "outputs": []
    },
    {
      "cell_type": "markdown",
      "source": [
        "##EX3. "
      ],
      "metadata": {
        "id": "MHBf77IICmnG"
      }
    },
    {
      "cell_type": "code",
      "source": [
        "print(tf.__version__)"
      ],
      "metadata": {
        "colab": {
          "base_uri": "https://localhost:8080/"
        },
        "id": "N0mU2GQyCoLg",
        "outputId": "5d7d0e68-fcb0-45fc-b00a-3f2c87917d4b"
      },
      "execution_count": null,
      "outputs": [
        {
          "output_type": "stream",
          "name": "stdout",
          "text": [
            "2.7.0\n"
          ]
        }
      ]
    },
    {
      "cell_type": "markdown",
      "source": [
        "## EX4."
      ],
      "metadata": {
        "id": "uOrEvXzMDW4k"
      }
    },
    {
      "cell_type": "code",
      "source": [
        "data = keras.datasets.cifar10\n",
        "cifar10_data = data.load_data()"
      ],
      "metadata": {
        "colab": {
          "base_uri": "https://localhost:8080/"
        },
        "id": "MKiNRneZDYM_",
        "outputId": "4229b13c-6bfb-4498-c7cb-bd391ad50559"
      },
      "execution_count": null,
      "outputs": [
        {
          "output_type": "stream",
          "name": "stdout",
          "text": [
            "Downloading data from https://www.cs.toronto.edu/~kriz/cifar-10-python.tar.gz\n",
            "170500096/170498071 [==============================] - 4s 0us/step\n",
            "170508288/170498071 [==============================] - 4s 0us/step\n"
          ]
        }
      ]
    },
    {
      "cell_type": "markdown",
      "source": [
        "## EX5."
      ],
      "metadata": {
        "id": "QRIFW69SEdma"
      }
    },
    {
      "cell_type": "code",
      "source": [
        "print(f\"Length of data : {len(cifar10_data)} \\nType of dataset : {type(cifar10_data)}\")"
      ],
      "metadata": {
        "colab": {
          "base_uri": "https://localhost:8080/"
        },
        "id": "ATj5mpzmFGm8",
        "outputId": "7e5b8083-2856-42a2-8203-2fb71d079bf3"
      },
      "execution_count": null,
      "outputs": [
        {
          "output_type": "stream",
          "name": "stdout",
          "text": [
            "Length of data : 2 \n",
            "Type of dataset : <class 'tuple'>\n"
          ]
        }
      ]
    },
    {
      "cell_type": "markdown",
      "source": [
        "## EX6. "
      ],
      "metadata": {
        "id": "njmWBiGqHB4R"
      }
    },
    {
      "cell_type": "code",
      "source": [
        "( train_images , train_labels ) ,( test_images , test_labels ) = cifar10_data\n",
        "print(f\"Train set : {train_images.shape} \\nTest set : {test_images.shape}\")"
      ],
      "metadata": {
        "colab": {
          "base_uri": "https://localhost:8080/"
        },
        "id": "cSFFVTh_HDLd",
        "outputId": "d201efdd-e78f-4c78-902b-f8015c1d5922"
      },
      "execution_count": null,
      "outputs": [
        {
          "output_type": "stream",
          "name": "stdout",
          "text": [
            "Train set : (50000, 32, 32, 3) \n",
            "Test set : (10000, 32, 32, 3)\n"
          ]
        }
      ]
    },
    {
      "cell_type": "code",
      "source": [
        "class_names = [ 'airplane ' , 'automobile ' , 'bird ' , 'cat ' , 'deer ', 'dog ' , 'frog ' , 'horse ' , 'ship ' , 'truck ']"
      ],
      "metadata": {
        "id": "MdT9bxxwIMgK"
      },
      "execution_count": null,
      "outputs": []
    },
    {
      "cell_type": "markdown",
      "source": [
        "##EX7. "
      ],
      "metadata": {
        "id": "6XtDvVLVH8H5"
      }
    },
    {
      "cell_type": "code",
      "source": [
        "print(train_images[0])"
      ],
      "metadata": {
        "colab": {
          "base_uri": "https://localhost:8080/"
        },
        "id": "sWARSRW9H-Gn",
        "outputId": "310f6396-b993-4d32-85eb-e70c51cfd5eb"
      },
      "execution_count": null,
      "outputs": [
        {
          "output_type": "stream",
          "name": "stdout",
          "text": [
            "[[[ 59  62  63]\n",
            "  [ 43  46  45]\n",
            "  [ 50  48  43]\n",
            "  ...\n",
            "  [158 132 108]\n",
            "  [152 125 102]\n",
            "  [148 124 103]]\n",
            "\n",
            " [[ 16  20  20]\n",
            "  [  0   0   0]\n",
            "  [ 18   8   0]\n",
            "  ...\n",
            "  [123  88  55]\n",
            "  [119  83  50]\n",
            "  [122  87  57]]\n",
            "\n",
            " [[ 25  24  21]\n",
            "  [ 16   7   0]\n",
            "  [ 49  27   8]\n",
            "  ...\n",
            "  [118  84  50]\n",
            "  [120  84  50]\n",
            "  [109  73  42]]\n",
            "\n",
            " ...\n",
            "\n",
            " [[208 170  96]\n",
            "  [201 153  34]\n",
            "  [198 161  26]\n",
            "  ...\n",
            "  [160 133  70]\n",
            "  [ 56  31   7]\n",
            "  [ 53  34  20]]\n",
            "\n",
            " [[180 139  96]\n",
            "  [173 123  42]\n",
            "  [186 144  30]\n",
            "  ...\n",
            "  [184 148  94]\n",
            "  [ 97  62  34]\n",
            "  [ 83  53  34]]\n",
            "\n",
            " [[177 144 116]\n",
            "  [168 129  94]\n",
            "  [179 142  87]\n",
            "  ...\n",
            "  [216 184 140]\n",
            "  [151 118  84]\n",
            "  [123  92  72]]]\n"
          ]
        }
      ]
    },
    {
      "cell_type": "markdown",
      "source": [
        "## EX8."
      ],
      "metadata": {
        "id": "R4TJcSIgJrBi"
      }
    },
    {
      "cell_type": "markdown",
      "source": [
        "## EX9."
      ],
      "metadata": {
        "id": "4TuIDclzJu1t"
      }
    },
    {
      "cell_type": "code",
      "source": [
        "index = 8\n",
        "plt.figure()\n",
        "plt.imshow(train_images[index])\n",
        "plt.colorbar()\n",
        "plt.grid(False)\n",
        "plt.show()\n",
        "\n",
        "train_labels[index]"
      ],
      "metadata": {
        "colab": {
          "base_uri": "https://localhost:8080/",
          "height": 286
        },
        "id": "E1VHqtrqJyJe",
        "outputId": "24afa02e-3a14-455a-bf25-1369cced939d"
      },
      "execution_count": null,
      "outputs": [
        {
          "output_type": "display_data",
          "data": {
            "image/png": "[encoded data removed]",
            "text/plain": [
              "<Figure size 432x288 with 2 Axes>"
            ]
          },
          "metadata": {
            "needs_background": "light"
          }
        },
        {
          "output_type": "execute_result",
          "data": {
            "text/plain": [
              "array([8], dtype=uint8)"
            ]
          },
          "metadata": {},
          "execution_count": 54
        }
      ]
    },
    {
      "cell_type": "markdown",
      "source": [
        "## EX10."
      ],
      "metadata": {
        "id": "LG8FFuyXKofi"
      }
    },
    {
      "cell_type": "code",
      "source": [
        ""
      ],
      "metadata": {
        "id": "yDIAaYPnKrjn"
      },
      "execution_count": null,
      "outputs": []
    },
    {
      "cell_type": "markdown",
      "source": [
        "## EX11. "
      ],
      "metadata": {
        "id": "s0IDWrn_LY5V"
      }
    },
    {
      "cell_type": "code",
      "source": [
        "train_images = train_images / 255.0"
      ],
      "metadata": {
        "id": "IAAofTP0LatK"
      },
      "execution_count": null,
      "outputs": []
    },
    {
      "cell_type": "markdown",
      "source": [
        "## EX12."
      ],
      "metadata": {
        "id": "ODqngL3SM-sS"
      }
    },
    {
      "cell_type": "code",
      "source": [
        "model = keras.Sequential([\n",
        "  keras.layers.Flatten(input_shape=(32 , 32, 3)),\n",
        "  keras.layers.Dense(128, activation ='relu'),\n",
        "  keras.layers.Dense(10, activation ='softmax')])"
      ],
      "metadata": {
        "id": "pV3KJ_m8Le1p"
      },
      "execution_count": null,
      "outputs": []
    },
    {
      "cell_type": "markdown",
      "source": [
        "> The fi\frst layer in this network, Flatten, transforms the\n",
        "format of the images from a two-dimensional array (32 * 32 pixels) to a one-\n",
        "dimensional array (1024 pixels). Think of this layer as unstacking\n",
        "rows of pixels in the image and lining them up. It only reformats the data.\n",
        "\n",
        "> After, the network consists of a sequence of two\n",
        "Dense layers. These are densely connected, or fully connected, neural layers. The fi\frst Dense layer has 128 nodes (or neurons). The\n",
        "second (and last) layer is a 10-node softmax layer that returns an array of 10\n",
        "probability scores that sum to 1. Each node contains a score that indicates the\n",
        "probability that the current image belongs to one of the 10 classes."
      ],
      "metadata": {
        "id": "oD9ek7HyL53V"
      }
    },
    {
      "cell_type": "markdown",
      "source": [
        "##EX14."
      ],
      "metadata": {
        "id": "IBExbX2EM8F-"
      }
    },
    {
      "cell_type": "code",
      "source": [
        "model.compile(optimizer='adam',\n",
        "              loss='sparse_categorical_crossentropy',\n",
        "              metrics=['accuracy'])"
      ],
      "metadata": {
        "id": "oF734_CGM6Mt"
      },
      "execution_count": null,
      "outputs": []
    },
    {
      "cell_type": "code",
      "source": [
        "model.fit(train_images, train_labels, epochs=10)"
      ],
      "metadata": {
        "colab": {
          "base_uri": "https://localhost:8080/"
        },
        "id": "5S5kqP9aOXTl",
        "outputId": "4be8a42e-1646-404c-bce4-20e69fc17ca3"
      },
      "execution_count": null,
      "outputs": [
        {
          "output_type": "stream",
          "name": "stdout",
          "text": [
            "Epoch 1/10\n",
            "1563/1563 [==============================] - 9s 5ms/step - loss: 1.9232 - accuracy: 0.3098\n",
            "Epoch 2/10\n",
            "1563/1563 [==============================] - 8s 5ms/step - loss: 1.7667 - accuracy: 0.3671\n",
            "Epoch 3/10\n",
            "1563/1563 [==============================] - 8s 5ms/step - loss: 1.7198 - accuracy: 0.3853\n",
            "Epoch 4/10\n",
            "1563/1563 [==============================] - 9s 6ms/step - loss: 1.6912 - accuracy: 0.3976\n",
            "Epoch 5/10\n",
            "1563/1563 [==============================] - 9s 6ms/step - loss: 1.6731 - accuracy: 0.4029\n",
            "Epoch 6/10\n",
            "1563/1563 [==============================] - 9s 6ms/step - loss: 1.6579 - accuracy: 0.4095\n",
            "Epoch 7/10\n",
            "1563/1563 [==============================] - 9s 6ms/step - loss: 1.6442 - accuracy: 0.4149\n",
            "Epoch 8/10\n",
            "1563/1563 [==============================] - 9s 6ms/step - loss: 1.6324 - accuracy: 0.4188\n",
            "Epoch 9/10\n",
            "1563/1563 [==============================] - 9s 6ms/step - loss: 1.6227 - accuracy: 0.4214\n",
            "Epoch 10/10\n",
            "1563/1563 [==============================] - 9s 6ms/step - loss: 1.6092 - accuracy: 0.4293\n"
          ]
        },
        {
          "output_type": "execute_result",
          "data": {
            "text/plain": [
              "<keras.callbacks.History at 0x7fb4f687cad0>"
            ]
          },
          "metadata": {},
          "execution_count": 61
        }
      ]
    },
    {
      "cell_type": "markdown",
      "source": [
        "##EX15."
      ],
      "metadata": {
        "id": "bv6dsIM8PAHI"
      }
    },
    {
      "cell_type": "code",
      "source": [
        "test_loss, test_accuracy = model.evaluate(test_images, test_labels, verbose=2)"
      ],
      "metadata": {
        "colab": {
          "base_uri": "https://localhost:8080/"
        },
        "id": "MmZ57f0OPBhI",
        "outputId": "77eb79f3-9d82-401d-a77a-e9cc0c2ae823"
      },
      "execution_count": null,
      "outputs": [
        {
          "output_type": "stream",
          "name": "stdout",
          "text": [
            "313/313 - 1s - loss: 233.1409 - accuracy: 0.3668 - 689ms/epoch - 2ms/step\n"
          ]
        }
      ]
    },
    {
      "cell_type": "code",
      "source": [
        "test_loss, test_accuracy = model.evaluate(test_images, test_labels, verbose=1)"
      ],
      "metadata": {
        "colab": {
          "base_uri": "https://localhost:8080/"
        },
        "id": "aYuMAbiMPmjX",
        "outputId": "435ca867-47c3-4e05-c096-3c0cdadb89d9"
      },
      "execution_count": null,
      "outputs": [
        {
          "output_type": "stream",
          "name": "stdout",
          "text": [
            "313/313 [==============================] - 1s 3ms/step - loss: 233.1409 - accuracy: 0.3668\n"
          ]
        }
      ]
    },
    {
      "cell_type": "code",
      "source": [
        "test_loss, test_accuracy = model.evaluate(test_images, test_labels, verbose=0)"
      ],
      "metadata": {
        "id": "o4UPQGuDPnvZ"
      },
      "execution_count": null,
      "outputs": []
    },
    {
      "cell_type": "markdown",
      "source": [
        "## EX16. "
      ],
      "metadata": {
        "id": "T1o-TKhRPqDk"
      }
    },
    {
      "cell_type": "code",
      "source": [
        "predictions = model.predict(test_images)"
      ],
      "metadata": {
        "id": "PkveCYlOPrpO"
      },
      "execution_count": null,
      "outputs": []
    },
    {
      "cell_type": "code",
      "source": [
        "print(f\"First prediction : {predictions[0]} \\n- Predicted label : {np.argmax(predictions[0])} \\n- Observed label : {test_labels[0][0]}\")"
      ],
      "metadata": {
        "colab": {
          "base_uri": "https://localhost:8080/"
        },
        "id": "o6GNFKekRe2I",
        "outputId": "13a4117f-d327-47f4-fa12-2a130310f93e"
      },
      "execution_count": null,
      "outputs": [
        {
          "output_type": "stream",
          "name": "stdout",
          "text": [
            "First prediction : [0.0000000e+00 0.0000000e+00 0.0000000e+00 2.9529635e-23 0.0000000e+00\n",
            " 0.0000000e+00 0.0000000e+00 0.0000000e+00 1.0000000e+00 0.0000000e+00] \n",
            "- Predicted label : 8 \n",
            "- Observed label : 3\n"
          ]
        }
      ]
    },
    {
      "cell_type": "markdown",
      "source": [
        "##EX17."
      ],
      "metadata": {
        "id": "4fArkqMsRgW7"
      }
    },
    {
      "cell_type": "code",
      "source": [
        "def checking(preds):\n",
        "  for el in preds:\n",
        "    "
      ],
      "metadata": {
        "colab": {
          "base_uri": "https://localhost:8080/"
        },
        "id": "FUMRa8v1RTAG",
        "outputId": "27c0bb09-6cf3-46e6-ec56-e84a03643d60"
      },
      "execution_count": null,
      "outputs": [
        {
          "output_type": "execute_result",
          "data": {
            "text/plain": [
              "array([[3],\n",
              "       [8],\n",
              "       [8],\n",
              "       ...,\n",
              "       [5],\n",
              "       [1],\n",
              "       [7]], dtype=uint8)"
            ]
          },
          "metadata": {},
          "execution_count": 74
        }
      ]
    }
  ]
}